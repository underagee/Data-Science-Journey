{
 "cells": [
  {
   "cell_type": "code",
   "execution_count": 9,
   "id": "8ad35572",
   "metadata": {},
   "outputs": [
    {
     "name": "stdout",
     "output_type": "stream",
     "text": [
      "Welcome,Naman!\n",
      "Welcome,Anushka!\n",
      "Welcome,Rajan!\n",
      "Welcome,Sushmita!\n"
     ]
    }
   ],
   "source": [
    "def greet(name):\n",
    "    print(\"Welcome,\"+ name+\"!\")\n",
    "    \n",
    "greet(\"Naman\")\n",
    "# greet()\n",
    "greet(\"Anushka\")\n",
    "greet(\"Rajan\")\n",
    "greet(\"Sushmita\")"
   ]
  },
  {
   "cell_type": "code",
   "execution_count": 11,
   "id": "af463b6c",
   "metadata": {},
   "outputs": [
    {
     "name": "stdout",
     "output_type": "stream",
     "text": [
      "12\n",
      "188\n"
     ]
    },
    {
     "ename": "TypeError",
     "evalue": "add() takes 2 positional arguments but 5 were given",
     "output_type": "error",
     "traceback": [
      "\u001b[1;31m---------------------------------------------------------------------------\u001b[0m",
      "\u001b[1;31mTypeError\u001b[0m                                 Traceback (most recent call last)",
      "Cell \u001b[1;32mIn[11], line 6\u001b[0m\n\u001b[0;32m      4\u001b[0m add(\u001b[38;5;241m4\u001b[39m,\u001b[38;5;241m8\u001b[39m)\n\u001b[0;32m      5\u001b[0m add(\u001b[38;5;241m98\u001b[39m,\u001b[38;5;241m90\u001b[39m)\n\u001b[1;32m----> 6\u001b[0m \u001b[43madd\u001b[49m\u001b[43m(\u001b[49m\u001b[38;5;241;43m1\u001b[39;49m\u001b[43m,\u001b[49m\u001b[38;5;241;43m2\u001b[39;49m\u001b[43m,\u001b[49m\u001b[38;5;241;43m3\u001b[39;49m\u001b[43m,\u001b[49m\u001b[38;5;241;43m4\u001b[39;49m\u001b[43m,\u001b[49m\u001b[38;5;241;43m5\u001b[39;49m\u001b[43m)\u001b[49m\n\u001b[0;32m      7\u001b[0m \u001b[38;5;66;03m# add(8)/\u001b[39;00m\n",
      "\u001b[1;31mTypeError\u001b[0m: add() takes 2 positional arguments but 5 were given"
     ]
    }
   ],
   "source": [
    "def add(a,b):\n",
    "    print(a+b)\n",
    "\n",
    "add(4,8)\n",
    "add(98,90)\n",
    "add(1,2,3,4,5)\n",
    "# add(8)"
   ]
  },
  {
   "cell_type": "code",
   "execution_count": 12,
   "id": "7cbdd6a0",
   "metadata": {},
   "outputs": [
    {
     "name": "stdout",
     "output_type": "stream",
     "text": [
      "6\n",
      "35\n",
      "12\n"
     ]
    }
   ],
   "source": [
    "def add(*args):\n",
    "    res = 0\n",
    "    for num in args:\n",
    "        res += num\n",
    "    return res\n",
    "\n",
    "print(add(1,2,3))\n",
    "print(add(5,6,7,8,9))\n",
    "print(add(4,8))\n",
    "    "
   ]
  },
  {
   "cell_type": "code",
   "execution_count": 15,
   "id": "731832f8",
   "metadata": {},
   "outputs": [],
   "source": [
    "x = add(3,9,7,0)"
   ]
  },
  {
   "cell_type": "code",
   "execution_count": 16,
   "id": "a9237179",
   "metadata": {},
   "outputs": [
    {
     "data": {
      "text/plain": [
       "19"
      ]
     },
     "execution_count": 16,
     "metadata": {},
     "output_type": "execute_result"
    }
   ],
   "source": [
    "x"
   ]
  },
  {
   "cell_type": "code",
   "execution_count": 17,
   "id": "a84be746",
   "metadata": {},
   "outputs": [
    {
     "name": "stdout",
     "output_type": "stream",
     "text": [
      "Name: Ram\n",
      "age: 25\n"
     ]
    }
   ],
   "source": [
    "def info(name, age):\n",
    "    print(\"Name:\", name)\n",
    "    print(\"age:\",age)\n",
    "    \n",
    "info(age = 25, name = \"Ram\")"
   ]
  },
  {
   "cell_type": "code",
   "execution_count": 18,
   "id": "f7841280",
   "metadata": {},
   "outputs": [
    {
     "name": "stdout",
     "output_type": "stream",
     "text": [
      "Enter the radius of the circle: 3\n",
      "result 3 is: 28.274333882308138\n"
     ]
    }
   ],
   "source": [
    "import math\n",
    "def calculate(radius):\n",
    "    return math.pi * radius**2\n",
    "radius = int(input(\"Enter the radius of the circle: \"))\n",
    "result = calculate(radius)\n",
    "print(\"result\", radius, \"is:\", result)"
   ]
  },
  {
   "cell_type": "code",
   "execution_count": 20,
   "id": "9293075d",
   "metadata": {},
   "outputs": [
    {
     "name": "stdout",
     "output_type": "stream",
     "text": [
      "0\n",
      "1\n",
      "1\n",
      "2\n",
      "3\n",
      "5\n",
      "8\n",
      "13\n",
      "21\n",
      "34\n"
     ]
    }
   ],
   "source": [
    "def fib(n):\n",
    "    a, b =0,1\n",
    "    for i in range(n):\n",
    "        yield a\n",
    "        a,b = b, a+b\n",
    "\n",
    "for num in fib(10):\n",
    "    print(num)"
   ]
  },
  {
   "cell_type": "code",
   "execution_count": 21,
   "id": "4205f140",
   "metadata": {},
   "outputs": [
    {
     "ename": "TypeError",
     "evalue": "'int' object is not iterable",
     "output_type": "error",
     "traceback": [
      "\u001b[1;31m---------------------------------------------------------------------------\u001b[0m",
      "\u001b[1;31mTypeError\u001b[0m                                 Traceback (most recent call last)",
      "Cell \u001b[1;32mIn[21], line 7\u001b[0m\n\u001b[0;32m      4\u001b[0m         \u001b[38;5;28;01mreturn\u001b[39;00m a\n\u001b[0;32m      5\u001b[0m         a,b \u001b[38;5;241m=\u001b[39m b, a\u001b[38;5;241m+\u001b[39mb\n\u001b[1;32m----> 7\u001b[0m \u001b[38;5;28;01mfor\u001b[39;00m num \u001b[38;5;129;01min\u001b[39;00m fib(\u001b[38;5;241m10\u001b[39m):\n\u001b[0;32m      8\u001b[0m     \u001b[38;5;28mprint\u001b[39m(num)\n",
      "\u001b[1;31mTypeError\u001b[0m: 'int' object is not iterable"
     ]
    }
   ],
   "source": [
    "def fib(n):\n",
    "    a, b =0,1\n",
    "    for i in range(n):\n",
    "        return a\n",
    "        a,b = b, a+b\n",
    "\n",
    "for num in fib(10):\n",
    "    print(num)"
   ]
  },
  {
   "cell_type": "code",
   "execution_count": 22,
   "id": "cfa131a0",
   "metadata": {},
   "outputs": [
    {
     "data": {
      "text/plain": [
       "5040"
      ]
     },
     "execution_count": 22,
     "metadata": {},
     "output_type": "execute_result"
    }
   ],
   "source": [
    "def fact(n):\n",
    "    if n == 0:\n",
    "        return 1\n",
    "    else:\n",
    "        return n*fact(n-1)\n",
    "    \n",
    "fact(7)"
   ]
  },
  {
   "cell_type": "code",
   "execution_count": null,
   "id": "11b673a2",
   "metadata": {},
   "outputs": [],
   "source": []
  }
 ],
 "metadata": {
  "kernelspec": {
   "display_name": "Python 3 (ipykernel)",
   "language": "python",
   "name": "python3"
  },
  "language_info": {
   "codemirror_mode": {
    "name": "ipython",
    "version": 3
   },
   "file_extension": ".py",
   "mimetype": "text/x-python",
   "name": "python",
   "nbconvert_exporter": "python",
   "pygments_lexer": "ipython3",
   "version": "3.11.3"
  }
 },
 "nbformat": 4,
 "nbformat_minor": 5
}
