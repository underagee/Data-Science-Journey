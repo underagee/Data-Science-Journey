{
 "cells": [
  {
   "cell_type": "code",
   "execution_count": 1,
   "id": "340d327a",
   "metadata": {},
   "outputs": [],
   "source": [
    "import numpy as np\n",
    "import pandas as pd\n",
    "import matplotlib.pyplot as plt\n",
    "import seaborn as sns\n",
    "import time, datetime\n",
    "import warnings\n",
    "warnings.filterwarnings('ignore')"
   ]
  },
  {
   "cell_type": "code",
   "execution_count": 2,
   "id": "457604a4",
   "metadata": {},
   "outputs": [
    {
     "data": {
      "text/html": [
       "<div>\n",
       "<style scoped>\n",
       "    .dataframe tbody tr th:only-of-type {\n",
       "        vertical-align: middle;\n",
       "    }\n",
       "\n",
       "    .dataframe tbody tr th {\n",
       "        vertical-align: top;\n",
       "    }\n",
       "\n",
       "    .dataframe thead th {\n",
       "        text-align: right;\n",
       "    }\n",
       "</style>\n",
       "<table border=\"1\" class=\"dataframe\">\n",
       "  <thead>\n",
       "    <tr style=\"text-align: right;\">\n",
       "      <th></th>\n",
       "      <th>START_DATE</th>\n",
       "      <th>END_DATE</th>\n",
       "      <th>CATEGORY</th>\n",
       "      <th>START</th>\n",
       "      <th>STOP</th>\n",
       "      <th>MILES</th>\n",
       "      <th>PURPOSE</th>\n",
       "    </tr>\n",
       "  </thead>\n",
       "  <tbody>\n",
       "    <tr>\n",
       "      <th>0</th>\n",
       "      <td>01-01-2016 21:11</td>\n",
       "      <td>01-01-2016 21:17</td>\n",
       "      <td>Business</td>\n",
       "      <td>Fort Pierce</td>\n",
       "      <td>Fort Pierce</td>\n",
       "      <td>5.1</td>\n",
       "      <td>Meal/Entertain</td>\n",
       "    </tr>\n",
       "    <tr>\n",
       "      <th>1</th>\n",
       "      <td>01-02-2016 01:25</td>\n",
       "      <td>01-02-2016 01:37</td>\n",
       "      <td>Business</td>\n",
       "      <td>Fort Pierce</td>\n",
       "      <td>Fort Pierce</td>\n",
       "      <td>5.0</td>\n",
       "      <td>NaN</td>\n",
       "    </tr>\n",
       "    <tr>\n",
       "      <th>2</th>\n",
       "      <td>01-02-2016 20:25</td>\n",
       "      <td>01-02-2016 20:38</td>\n",
       "      <td>Business</td>\n",
       "      <td>Fort Pierce</td>\n",
       "      <td>Fort Pierce</td>\n",
       "      <td>4.8</td>\n",
       "      <td>Errand/Supplies</td>\n",
       "    </tr>\n",
       "    <tr>\n",
       "      <th>3</th>\n",
       "      <td>01-05-2016 17:31</td>\n",
       "      <td>01-05-2016 17:45</td>\n",
       "      <td>Business</td>\n",
       "      <td>Fort Pierce</td>\n",
       "      <td>Fort Pierce</td>\n",
       "      <td>4.7</td>\n",
       "      <td>Meeting</td>\n",
       "    </tr>\n",
       "    <tr>\n",
       "      <th>4</th>\n",
       "      <td>01-06-2016 14:42</td>\n",
       "      <td>01-06-2016 15:49</td>\n",
       "      <td>Business</td>\n",
       "      <td>Fort Pierce</td>\n",
       "      <td>West Palm Beach</td>\n",
       "      <td>63.7</td>\n",
       "      <td>Customer Visit</td>\n",
       "    </tr>\n",
       "  </tbody>\n",
       "</table>\n",
       "</div>"
      ],
      "text/plain": [
       "         START_DATE          END_DATE  CATEGORY        START             STOP  \\\n",
       "0  01-01-2016 21:11  01-01-2016 21:17  Business  Fort Pierce      Fort Pierce   \n",
       "1  01-02-2016 01:25  01-02-2016 01:37  Business  Fort Pierce      Fort Pierce   \n",
       "2  01-02-2016 20:25  01-02-2016 20:38  Business  Fort Pierce      Fort Pierce   \n",
       "3  01-05-2016 17:31  01-05-2016 17:45  Business  Fort Pierce      Fort Pierce   \n",
       "4  01-06-2016 14:42  01-06-2016 15:49  Business  Fort Pierce  West Palm Beach   \n",
       "\n",
       "   MILES          PURPOSE  \n",
       "0    5.1   Meal/Entertain  \n",
       "1    5.0              NaN  \n",
       "2    4.8  Errand/Supplies  \n",
       "3    4.7          Meeting  \n",
       "4   63.7   Customer Visit  "
      ]
     },
     "execution_count": 2,
     "metadata": {},
     "output_type": "execute_result"
    }
   ],
   "source": [
    "df = pd.read_csv('UberDataset.csv')\n",
    "df.head()"
   ]
  },
  {
   "cell_type": "code",
   "execution_count": 3,
   "id": "578e93dd",
   "metadata": {},
   "outputs": [
    {
     "data": {
      "text/html": [
       "<div>\n",
       "<style scoped>\n",
       "    .dataframe tbody tr th:only-of-type {\n",
       "        vertical-align: middle;\n",
       "    }\n",
       "\n",
       "    .dataframe tbody tr th {\n",
       "        vertical-align: top;\n",
       "    }\n",
       "\n",
       "    .dataframe thead th {\n",
       "        text-align: right;\n",
       "    }\n",
       "</style>\n",
       "<table border=\"1\" class=\"dataframe\">\n",
       "  <thead>\n",
       "    <tr style=\"text-align: right;\">\n",
       "      <th></th>\n",
       "      <th>START_DATE</th>\n",
       "      <th>END_DATE</th>\n",
       "      <th>CATEGORY</th>\n",
       "      <th>START</th>\n",
       "      <th>STOP</th>\n",
       "      <th>MILES</th>\n",
       "      <th>PURPOSE</th>\n",
       "    </tr>\n",
       "  </thead>\n",
       "  <tbody>\n",
       "    <tr>\n",
       "      <th>1151</th>\n",
       "      <td>12/31/2016 13:24</td>\n",
       "      <td>12/31/2016 13:42</td>\n",
       "      <td>Business</td>\n",
       "      <td>Kar?chi</td>\n",
       "      <td>Unknown Location</td>\n",
       "      <td>3.9</td>\n",
       "      <td>Temporary Site</td>\n",
       "    </tr>\n",
       "    <tr>\n",
       "      <th>1152</th>\n",
       "      <td>12/31/2016 15:03</td>\n",
       "      <td>12/31/2016 15:38</td>\n",
       "      <td>Business</td>\n",
       "      <td>Unknown Location</td>\n",
       "      <td>Unknown Location</td>\n",
       "      <td>16.2</td>\n",
       "      <td>Meeting</td>\n",
       "    </tr>\n",
       "    <tr>\n",
       "      <th>1153</th>\n",
       "      <td>12/31/2016 21:32</td>\n",
       "      <td>12/31/2016 21:50</td>\n",
       "      <td>Business</td>\n",
       "      <td>Katunayake</td>\n",
       "      <td>Gampaha</td>\n",
       "      <td>6.4</td>\n",
       "      <td>Temporary Site</td>\n",
       "    </tr>\n",
       "    <tr>\n",
       "      <th>1154</th>\n",
       "      <td>12/31/2016 22:08</td>\n",
       "      <td>12/31/2016 23:51</td>\n",
       "      <td>Business</td>\n",
       "      <td>Gampaha</td>\n",
       "      <td>Ilukwatta</td>\n",
       "      <td>48.2</td>\n",
       "      <td>Temporary Site</td>\n",
       "    </tr>\n",
       "    <tr>\n",
       "      <th>1155</th>\n",
       "      <td>Totals</td>\n",
       "      <td>NaN</td>\n",
       "      <td>NaN</td>\n",
       "      <td>NaN</td>\n",
       "      <td>NaN</td>\n",
       "      <td>12204.7</td>\n",
       "      <td>NaN</td>\n",
       "    </tr>\n",
       "  </tbody>\n",
       "</table>\n",
       "</div>"
      ],
      "text/plain": [
       "            START_DATE          END_DATE  CATEGORY             START  \\\n",
       "1151  12/31/2016 13:24  12/31/2016 13:42  Business           Kar?chi   \n",
       "1152  12/31/2016 15:03  12/31/2016 15:38  Business  Unknown Location   \n",
       "1153  12/31/2016 21:32  12/31/2016 21:50  Business        Katunayake   \n",
       "1154  12/31/2016 22:08  12/31/2016 23:51  Business           Gampaha   \n",
       "1155            Totals               NaN       NaN               NaN   \n",
       "\n",
       "                  STOP    MILES         PURPOSE  \n",
       "1151  Unknown Location      3.9  Temporary Site  \n",
       "1152  Unknown Location     16.2         Meeting  \n",
       "1153           Gampaha      6.4  Temporary Site  \n",
       "1154         Ilukwatta     48.2  Temporary Site  \n",
       "1155               NaN  12204.7             NaN  "
      ]
     },
     "execution_count": 3,
     "metadata": {},
     "output_type": "execute_result"
    }
   ],
   "source": [
    "df.tail()"
   ]
  },
  {
   "cell_type": "code",
   "execution_count": 4,
   "id": "adeba13c",
   "metadata": {},
   "outputs": [],
   "source": [
    "df.columns = df.columns.str.replace(\"*\",\"\")"
   ]
  },
  {
   "cell_type": "code",
   "execution_count": 5,
   "id": "e7e54e87",
   "metadata": {},
   "outputs": [
    {
     "data": {
      "text/plain": [
       "Index(['START_DATE', 'END_DATE', 'CATEGORY', 'START', 'STOP', 'MILES',\n",
       "       'PURPOSE'],\n",
       "      dtype='object')"
      ]
     },
     "execution_count": 5,
     "metadata": {},
     "output_type": "execute_result"
    }
   ],
   "source": [
    "df.columns"
   ]
  },
  {
   "cell_type": "code",
   "execution_count": 6,
   "id": "05a37ee2",
   "metadata": {},
   "outputs": [
    {
     "name": "stdout",
     "output_type": "stream",
     "text": [
      "<class 'pandas.core.frame.DataFrame'>\n",
      "RangeIndex: 1156 entries, 0 to 1155\n",
      "Data columns (total 7 columns):\n",
      " #   Column      Non-Null Count  Dtype  \n",
      "---  ------      --------------  -----  \n",
      " 0   START_DATE  1156 non-null   object \n",
      " 1   END_DATE    1155 non-null   object \n",
      " 2   CATEGORY    1155 non-null   object \n",
      " 3   START       1155 non-null   object \n",
      " 4   STOP        1155 non-null   object \n",
      " 5   MILES       1156 non-null   float64\n",
      " 6   PURPOSE     653 non-null    object \n",
      "dtypes: float64(1), object(6)\n",
      "memory usage: 63.3+ KB\n"
     ]
    }
   ],
   "source": [
    "df.info()"
   ]
  },
  {
   "cell_type": "code",
   "execution_count": 7,
   "id": "493bdb97",
   "metadata": {},
   "outputs": [
    {
     "data": {
      "text/html": [
       "<div>\n",
       "<style scoped>\n",
       "    .dataframe tbody tr th:only-of-type {\n",
       "        vertical-align: middle;\n",
       "    }\n",
       "\n",
       "    .dataframe tbody tr th {\n",
       "        vertical-align: top;\n",
       "    }\n",
       "\n",
       "    .dataframe thead th {\n",
       "        text-align: right;\n",
       "    }\n",
       "</style>\n",
       "<table border=\"1\" class=\"dataframe\">\n",
       "  <thead>\n",
       "    <tr style=\"text-align: right;\">\n",
       "      <th></th>\n",
       "      <th>MILES</th>\n",
       "    </tr>\n",
       "  </thead>\n",
       "  <tbody>\n",
       "    <tr>\n",
       "      <th>count</th>\n",
       "      <td>1156.000000</td>\n",
       "    </tr>\n",
       "    <tr>\n",
       "      <th>mean</th>\n",
       "      <td>21.115398</td>\n",
       "    </tr>\n",
       "    <tr>\n",
       "      <th>std</th>\n",
       "      <td>359.299007</td>\n",
       "    </tr>\n",
       "    <tr>\n",
       "      <th>min</th>\n",
       "      <td>0.500000</td>\n",
       "    </tr>\n",
       "    <tr>\n",
       "      <th>25%</th>\n",
       "      <td>2.900000</td>\n",
       "    </tr>\n",
       "    <tr>\n",
       "      <th>50%</th>\n",
       "      <td>6.000000</td>\n",
       "    </tr>\n",
       "    <tr>\n",
       "      <th>75%</th>\n",
       "      <td>10.400000</td>\n",
       "    </tr>\n",
       "    <tr>\n",
       "      <th>max</th>\n",
       "      <td>12204.700000</td>\n",
       "    </tr>\n",
       "  </tbody>\n",
       "</table>\n",
       "</div>"
      ],
      "text/plain": [
       "              MILES\n",
       "count   1156.000000\n",
       "mean      21.115398\n",
       "std      359.299007\n",
       "min        0.500000\n",
       "25%        2.900000\n",
       "50%        6.000000\n",
       "75%       10.400000\n",
       "max    12204.700000"
      ]
     },
     "execution_count": 7,
     "metadata": {},
     "output_type": "execute_result"
    }
   ],
   "source": [
    "df.describe()"
   ]
  },
  {
   "cell_type": "code",
   "execution_count": 8,
   "id": "b105b7c9",
   "metadata": {},
   "outputs": [
    {
     "data": {
      "text/plain": [
       "(1156, 7)"
      ]
     },
     "execution_count": 8,
     "metadata": {},
     "output_type": "execute_result"
    }
   ],
   "source": [
    "df.shape"
   ]
  },
  {
   "cell_type": "code",
   "execution_count": 9,
   "id": "14a8de03",
   "metadata": {},
   "outputs": [
    {
     "data": {
      "text/plain": [
       "START_DATE     object\n",
       "END_DATE       object\n",
       "CATEGORY       object\n",
       "START          object\n",
       "STOP           object\n",
       "MILES         float64\n",
       "PURPOSE        object\n",
       "dtype: object"
      ]
     },
     "execution_count": 9,
     "metadata": {},
     "output_type": "execute_result"
    }
   ],
   "source": [
    "df.dtypes"
   ]
  },
  {
   "cell_type": "markdown",
   "id": "e5b6e24f",
   "metadata": {},
   "source": [
    "# Handle Missing Values\n",
    "\n",
    "## 1) delete rows which is unnecessary(unrelatable,redundant data, unclear business logic, no statistical logic)\n",
    "## 2) Add Business Logics if given\n",
    "## 3) Impute MEAN/MEDIAN/MODE features for numeric data and count of higher values for categorical data"
   ]
  },
  {
   "cell_type": "code",
   "execution_count": 10,
   "id": "59acd29f",
   "metadata": {
    "scrolled": true
   },
   "outputs": [
    {
     "data": {
      "text/plain": [
       "START_DATE      0\n",
       "END_DATE        1\n",
       "CATEGORY        1\n",
       "START           1\n",
       "STOP            1\n",
       "MILES           0\n",
       "PURPOSE       503\n",
       "dtype: int64"
      ]
     },
     "execution_count": 10,
     "metadata": {},
     "output_type": "execute_result"
    }
   ],
   "source": [
    "df.isnull().sum()"
   ]
  },
  {
   "cell_type": "code",
   "execution_count": 12,
   "id": "845829a1",
   "metadata": {},
   "outputs": [
    {
     "name": "stdout",
     "output_type": "stream",
     "text": [
      "Defaulting to user installation because normal site-packages is not writeable\n",
      "Collecting missingno\n",
      "  Downloading missingno-0.5.2-py3-none-any.whl (8.7 kB)\n",
      "Requirement already satisfied: matplotlib in /Users/mawuko/Library/Python/3.9/lib/python/site-packages (from missingno) (3.8.4)\n",
      "Requirement already satisfied: numpy in /Users/mawuko/Library/Python/3.9/lib/python/site-packages (from missingno) (1.26.4)\n",
      "Requirement already satisfied: seaborn in /Users/mawuko/Library/Python/3.9/lib/python/site-packages (from missingno) (0.13.2)\n",
      "Collecting scipy\n",
      "  Downloading scipy-1.13.0-cp39-cp39-macosx_12_0_arm64.whl (30.3 MB)\n",
      "\u001b[K     |████████████████████████████████| 30.3 MB 6.2 MB/s eta 0:00:01\n",
      "\u001b[?25hRequirement already satisfied: python-dateutil>=2.7 in /Users/mawuko/Library/Python/3.9/lib/python/site-packages (from matplotlib->missingno) (2.9.0.post0)\n",
      "Requirement already satisfied: kiwisolver>=1.3.1 in /Users/mawuko/Library/Python/3.9/lib/python/site-packages (from matplotlib->missingno) (1.4.5)\n",
      "Requirement already satisfied: contourpy>=1.0.1 in /Users/mawuko/Library/Python/3.9/lib/python/site-packages (from matplotlib->missingno) (1.2.1)\n",
      "Requirement already satisfied: pillow>=8 in /Users/mawuko/Library/Python/3.9/lib/python/site-packages (from matplotlib->missingno) (10.3.0)\n",
      "Requirement already satisfied: fonttools>=4.22.0 in /Users/mawuko/Library/Python/3.9/lib/python/site-packages (from matplotlib->missingno) (4.51.0)\n",
      "Requirement already satisfied: cycler>=0.10 in /Users/mawuko/Library/Python/3.9/lib/python/site-packages (from matplotlib->missingno) (0.12.1)\n",
      "Requirement already satisfied: importlib-resources>=3.2.0 in /Users/mawuko/Library/Python/3.9/lib/python/site-packages (from matplotlib->missingno) (6.4.0)\n",
      "Requirement already satisfied: pyparsing>=2.3.1 in /Users/mawuko/Library/Python/3.9/lib/python/site-packages (from matplotlib->missingno) (3.1.2)\n",
      "Requirement already satisfied: packaging>=20.0 in /Users/mawuko/Library/Python/3.9/lib/python/site-packages (from matplotlib->missingno) (24.0)\n",
      "Requirement already satisfied: zipp>=3.1.0 in /Users/mawuko/Library/Python/3.9/lib/python/site-packages (from importlib-resources>=3.2.0->matplotlib->missingno) (3.18.1)\n",
      "Requirement already satisfied: six>=1.5 in /Library/Developer/CommandLineTools/Library/Frameworks/Python3.framework/Versions/3.9/lib/python3.9/site-packages (from python-dateutil>=2.7->matplotlib->missingno) (1.15.0)\n",
      "Requirement already satisfied: pandas>=1.2 in /Users/mawuko/Library/Python/3.9/lib/python/site-packages (from seaborn->missingno) (2.2.1)\n",
      "Requirement already satisfied: pytz>=2020.1 in /Users/mawuko/Library/Python/3.9/lib/python/site-packages (from pandas>=1.2->seaborn->missingno) (2024.1)\n",
      "Requirement already satisfied: tzdata>=2022.7 in /Users/mawuko/Library/Python/3.9/lib/python/site-packages (from pandas>=1.2->seaborn->missingno) (2024.1)\n",
      "Installing collected packages: scipy, missingno\n",
      "Successfully installed missingno-0.5.2 scipy-1.13.0\n",
      "\u001b[33mWARNING: You are using pip version 21.2.4; however, version 24.0 is available.\n",
      "You should consider upgrading via the '/Library/Developer/CommandLineTools/usr/bin/python3 -m pip install --upgrade pip' command.\u001b[0m\n",
      "Note: you may need to restart the kernel to use updated packages.\n"
     ]
    },
    {
     "data": {
      "text/plain": [
       "<Axes: >"
      ]
     },
     "execution_count": 12,
     "metadata": {},
     "output_type": "execute_result"
    },
    {
     "data": {
      "image/png": "[encoded data removed]",
      "text/plain": [
       "<Figure size 2500x1000 with 3 Axes>"
      ]
     },
     "metadata": {},
     "output_type": "display_data"
    }
   ],
   "source": [
    "%pip install missingno\n",
    "import missingno as msno\n",
    "msno.bar(df)"
   ]
  },
  {
   "cell_type": "code",
   "execution_count": 13,
   "id": "31937944",
   "metadata": {},
   "outputs": [],
   "source": [
    "null_column = df.columns[df.isnull().any()]"
   ]
  },
  {
   "cell_type": "code",
   "execution_count": 14,
   "id": "41ab300d",
   "metadata": {},
   "outputs": [
    {
     "data": {
      "text/plain": [
       "Index(['END_DATE', 'CATEGORY', 'START', 'STOP', 'PURPOSE'], dtype='object')"
      ]
     },
     "execution_count": 14,
     "metadata": {},
     "output_type": "execute_result"
    }
   ],
   "source": [
    "null_column"
   ]
  },
  {
   "cell_type": "code",
   "execution_count": 15,
   "id": "95b62b76",
   "metadata": {},
   "outputs": [
    {
     "data": {
      "text/plain": [
       "END_DATE      1\n",
       "CATEGORY      1\n",
       "START         1\n",
       "STOP          1\n",
       "PURPOSE     503\n",
       "dtype: int64"
      ]
     },
     "execution_count": 15,
     "metadata": {},
     "output_type": "execute_result"
    }
   ],
   "source": [
    "df[null_column].isnull().sum()"
   ]
  },
  {
   "cell_type": "code",
   "execution_count": 16,
   "id": "21b82924",
   "metadata": {},
   "outputs": [],
   "source": [
    "df.drop(index = 1155, axis = 0, inplace = True)"
   ]
  },
  {
   "cell_type": "code",
   "execution_count": 17,
   "id": "ed591a03",
   "metadata": {},
   "outputs": [
    {
     "data": {
      "text/html": [
       "<div>\n",
       "<style scoped>\n",
       "    .dataframe tbody tr th:only-of-type {\n",
       "        vertical-align: middle;\n",
       "    }\n",
       "\n",
       "    .dataframe tbody tr th {\n",
       "        vertical-align: top;\n",
       "    }\n",
       "\n",
       "    .dataframe thead th {\n",
       "        text-align: right;\n",
       "    }\n",
       "</style>\n",
       "<table border=\"1\" class=\"dataframe\">\n",
       "  <thead>\n",
       "    <tr style=\"text-align: right;\">\n",
       "      <th></th>\n",
       "      <th>START_DATE</th>\n",
       "      <th>END_DATE</th>\n",
       "      <th>CATEGORY</th>\n",
       "      <th>START</th>\n",
       "      <th>STOP</th>\n",
       "      <th>MILES</th>\n",
       "      <th>PURPOSE</th>\n",
       "    </tr>\n",
       "  </thead>\n",
       "  <tbody>\n",
       "    <tr>\n",
       "      <th>0</th>\n",
       "      <td>01-01-2016 21:11</td>\n",
       "      <td>01-01-2016 21:17</td>\n",
       "      <td>Business</td>\n",
       "      <td>Fort Pierce</td>\n",
       "      <td>Fort Pierce</td>\n",
       "      <td>5.1</td>\n",
       "      <td>Meal/Entertain</td>\n",
       "    </tr>\n",
       "    <tr>\n",
       "      <th>1</th>\n",
       "      <td>01-02-2016 01:25</td>\n",
       "      <td>01-02-2016 01:37</td>\n",
       "      <td>Business</td>\n",
       "      <td>Fort Pierce</td>\n",
       "      <td>Fort Pierce</td>\n",
       "      <td>5.0</td>\n",
       "      <td>NaN</td>\n",
       "    </tr>\n",
       "    <tr>\n",
       "      <th>2</th>\n",
       "      <td>01-02-2016 20:25</td>\n",
       "      <td>01-02-2016 20:38</td>\n",
       "      <td>Business</td>\n",
       "      <td>Fort Pierce</td>\n",
       "      <td>Fort Pierce</td>\n",
       "      <td>4.8</td>\n",
       "      <td>Errand/Supplies</td>\n",
       "    </tr>\n",
       "    <tr>\n",
       "      <th>3</th>\n",
       "      <td>01-05-2016 17:31</td>\n",
       "      <td>01-05-2016 17:45</td>\n",
       "      <td>Business</td>\n",
       "      <td>Fort Pierce</td>\n",
       "      <td>Fort Pierce</td>\n",
       "      <td>4.7</td>\n",
       "      <td>Meeting</td>\n",
       "    </tr>\n",
       "    <tr>\n",
       "      <th>4</th>\n",
       "      <td>01-06-2016 14:42</td>\n",
       "      <td>01-06-2016 15:49</td>\n",
       "      <td>Business</td>\n",
       "      <td>Fort Pierce</td>\n",
       "      <td>West Palm Beach</td>\n",
       "      <td>63.7</td>\n",
       "      <td>Customer Visit</td>\n",
       "    </tr>\n",
       "    <tr>\n",
       "      <th>...</th>\n",
       "      <td>...</td>\n",
       "      <td>...</td>\n",
       "      <td>...</td>\n",
       "      <td>...</td>\n",
       "      <td>...</td>\n",
       "      <td>...</td>\n",
       "      <td>...</td>\n",
       "    </tr>\n",
       "    <tr>\n",
       "      <th>1150</th>\n",
       "      <td>12/31/2016 1:07</td>\n",
       "      <td>12/31/2016 1:14</td>\n",
       "      <td>Business</td>\n",
       "      <td>Kar?chi</td>\n",
       "      <td>Kar?chi</td>\n",
       "      <td>0.7</td>\n",
       "      <td>Meeting</td>\n",
       "    </tr>\n",
       "    <tr>\n",
       "      <th>1151</th>\n",
       "      <td>12/31/2016 13:24</td>\n",
       "      <td>12/31/2016 13:42</td>\n",
       "      <td>Business</td>\n",
       "      <td>Kar?chi</td>\n",
       "      <td>Unknown Location</td>\n",
       "      <td>3.9</td>\n",
       "      <td>Temporary Site</td>\n",
       "    </tr>\n",
       "    <tr>\n",
       "      <th>1152</th>\n",
       "      <td>12/31/2016 15:03</td>\n",
       "      <td>12/31/2016 15:38</td>\n",
       "      <td>Business</td>\n",
       "      <td>Unknown Location</td>\n",
       "      <td>Unknown Location</td>\n",
       "      <td>16.2</td>\n",
       "      <td>Meeting</td>\n",
       "    </tr>\n",
       "    <tr>\n",
       "      <th>1153</th>\n",
       "      <td>12/31/2016 21:32</td>\n",
       "      <td>12/31/2016 21:50</td>\n",
       "      <td>Business</td>\n",
       "      <td>Katunayake</td>\n",
       "      <td>Gampaha</td>\n",
       "      <td>6.4</td>\n",
       "      <td>Temporary Site</td>\n",
       "    </tr>\n",
       "    <tr>\n",
       "      <th>1154</th>\n",
       "      <td>12/31/2016 22:08</td>\n",
       "      <td>12/31/2016 23:51</td>\n",
       "      <td>Business</td>\n",
       "      <td>Gampaha</td>\n",
       "      <td>Ilukwatta</td>\n",
       "      <td>48.2</td>\n",
       "      <td>Temporary Site</td>\n",
       "    </tr>\n",
       "  </tbody>\n",
       "</table>\n",
       "<p>1155 rows × 7 columns</p>\n",
       "</div>"
      ],
      "text/plain": [
       "            START_DATE          END_DATE  CATEGORY             START  \\\n",
       "0     01-01-2016 21:11  01-01-2016 21:17  Business       Fort Pierce   \n",
       "1     01-02-2016 01:25  01-02-2016 01:37  Business       Fort Pierce   \n",
       "2     01-02-2016 20:25  01-02-2016 20:38  Business       Fort Pierce   \n",
       "3     01-05-2016 17:31  01-05-2016 17:45  Business       Fort Pierce   \n",
       "4     01-06-2016 14:42  01-06-2016 15:49  Business       Fort Pierce   \n",
       "...                ...               ...       ...               ...   \n",
       "1150   12/31/2016 1:07   12/31/2016 1:14  Business           Kar?chi   \n",
       "1151  12/31/2016 13:24  12/31/2016 13:42  Business           Kar?chi   \n",
       "1152  12/31/2016 15:03  12/31/2016 15:38  Business  Unknown Location   \n",
       "1153  12/31/2016 21:32  12/31/2016 21:50  Business        Katunayake   \n",
       "1154  12/31/2016 22:08  12/31/2016 23:51  Business           Gampaha   \n",
       "\n",
       "                  STOP  MILES          PURPOSE  \n",
       "0          Fort Pierce    5.1   Meal/Entertain  \n",
       "1          Fort Pierce    5.0              NaN  \n",
       "2          Fort Pierce    4.8  Errand/Supplies  \n",
       "3          Fort Pierce    4.7          Meeting  \n",
       "4      West Palm Beach   63.7   Customer Visit  \n",
       "...                ...    ...              ...  \n",
       "1150           Kar?chi    0.7          Meeting  \n",
       "1151  Unknown Location    3.9   Temporary Site  \n",
       "1152  Unknown Location   16.2          Meeting  \n",
       "1153           Gampaha    6.4   Temporary Site  \n",
       "1154         Ilukwatta   48.2   Temporary Site  \n",
       "\n",
       "[1155 rows x 7 columns]"
      ]
     },
     "execution_count": 17,
     "metadata": {},
     "output_type": "execute_result"
    }
   ],
   "source": [
    "df"
   ]
  },
  {
   "cell_type": "code",
   "execution_count": 18,
   "id": "70f8d0c0",
   "metadata": {},
   "outputs": [
    {
     "data": {
      "text/plain": [
       "43.46320346320346"
      ]
     },
     "execution_count": 18,
     "metadata": {},
     "output_type": "execute_result"
    }
   ],
   "source": [
    "(df[\"PURPOSE\"].isnull().sum()/len(df)) * 100"
   ]
  },
  {
   "cell_type": "code",
   "execution_count": 19,
   "id": "c3393931",
   "metadata": {},
   "outputs": [],
   "source": [
    "df[\"PURPOSE\"].fillna(method = 'ffill', inplace = True)"
   ]
  },
  {
   "cell_type": "code",
   "execution_count": 20,
   "id": "8949c0bf",
   "metadata": {},
   "outputs": [
    {
     "data": {
      "text/plain": [
       "START_DATE    0\n",
       "END_DATE      0\n",
       "CATEGORY      0\n",
       "START         0\n",
       "STOP          0\n",
       "MILES         0\n",
       "PURPOSE       0\n",
       "dtype: int64"
      ]
     },
     "execution_count": 20,
     "metadata": {},
     "output_type": "execute_result"
    }
   ],
   "source": [
    "df.isnull().sum()"
   ]
  },
  {
   "cell_type": "code",
   "execution_count": 21,
   "id": "8807f1cb",
   "metadata": {},
   "outputs": [
    {
     "data": {
      "text/html": [
       "<div>\n",
       "<style scoped>\n",
       "    .dataframe tbody tr th:only-of-type {\n",
       "        vertical-align: middle;\n",
       "    }\n",
       "\n",
       "    .dataframe tbody tr th {\n",
       "        vertical-align: top;\n",
       "    }\n",
       "\n",
       "    .dataframe thead th {\n",
       "        text-align: right;\n",
       "    }\n",
       "</style>\n",
       "<table border=\"1\" class=\"dataframe\">\n",
       "  <thead>\n",
       "    <tr style=\"text-align: right;\">\n",
       "      <th></th>\n",
       "      <th>START_DATE</th>\n",
       "      <th>END_DATE</th>\n",
       "      <th>CATEGORY</th>\n",
       "      <th>START</th>\n",
       "      <th>STOP</th>\n",
       "      <th>MILES</th>\n",
       "      <th>PURPOSE</th>\n",
       "    </tr>\n",
       "  </thead>\n",
       "  <tbody>\n",
       "    <tr>\n",
       "      <th>1135</th>\n",
       "      <td>12/29/2016 12:25</td>\n",
       "      <td>12/29/2016 12:33</td>\n",
       "      <td>Business</td>\n",
       "      <td>Kar?chi</td>\n",
       "      <td>Kar?chi</td>\n",
       "      <td>1.4</td>\n",
       "      <td>Errand/Supplies</td>\n",
       "    </tr>\n",
       "    <tr>\n",
       "      <th>1136</th>\n",
       "      <td>12/29/2016 13:17</td>\n",
       "      <td>12/29/2016 13:24</td>\n",
       "      <td>Business</td>\n",
       "      <td>Kar?chi</td>\n",
       "      <td>Kar?chi</td>\n",
       "      <td>1.1</td>\n",
       "      <td>Errand/Supplies</td>\n",
       "    </tr>\n",
       "    <tr>\n",
       "      <th>1137</th>\n",
       "      <td>12/29/2016 13:56</td>\n",
       "      <td>12/29/2016 14:11</td>\n",
       "      <td>Business</td>\n",
       "      <td>Kar?chi</td>\n",
       "      <td>Kar?chi</td>\n",
       "      <td>4.1</td>\n",
       "      <td>Airport/Travel</td>\n",
       "    </tr>\n",
       "    <tr>\n",
       "      <th>1138</th>\n",
       "      <td>12/29/2016 14:42</td>\n",
       "      <td>12/29/2016 14:58</td>\n",
       "      <td>Business</td>\n",
       "      <td>Kar?chi</td>\n",
       "      <td>Kar?chi</td>\n",
       "      <td>6.1</td>\n",
       "      <td>Between Offices</td>\n",
       "    </tr>\n",
       "    <tr>\n",
       "      <th>1139</th>\n",
       "      <td>12/29/2016 15:05</td>\n",
       "      <td>12/29/2016 15:16</td>\n",
       "      <td>Business</td>\n",
       "      <td>Kar?chi</td>\n",
       "      <td>Kar?chi</td>\n",
       "      <td>1.3</td>\n",
       "      <td>Errand/Supplies</td>\n",
       "    </tr>\n",
       "    <tr>\n",
       "      <th>1140</th>\n",
       "      <td>12/29/2016 18:59</td>\n",
       "      <td>12/29/2016 19:14</td>\n",
       "      <td>Business</td>\n",
       "      <td>Kar?chi</td>\n",
       "      <td>Unknown Location</td>\n",
       "      <td>3.0</td>\n",
       "      <td>Meal/Entertain</td>\n",
       "    </tr>\n",
       "    <tr>\n",
       "      <th>1141</th>\n",
       "      <td>12/29/2016 19:50</td>\n",
       "      <td>12/29/2016 20:10</td>\n",
       "      <td>Business</td>\n",
       "      <td>Unknown Location</td>\n",
       "      <td>Kar?chi</td>\n",
       "      <td>4.1</td>\n",
       "      <td>Customer Visit</td>\n",
       "    </tr>\n",
       "    <tr>\n",
       "      <th>1142</th>\n",
       "      <td>12/29/2016 20:15</td>\n",
       "      <td>12/29/2016 20:45</td>\n",
       "      <td>Business</td>\n",
       "      <td>Kar?chi</td>\n",
       "      <td>Kar?chi</td>\n",
       "      <td>7.2</td>\n",
       "      <td>Meeting</td>\n",
       "    </tr>\n",
       "    <tr>\n",
       "      <th>1143</th>\n",
       "      <td>12/29/2016 20:53</td>\n",
       "      <td>12/29/2016 21:42</td>\n",
       "      <td>Business</td>\n",
       "      <td>Kar?chi</td>\n",
       "      <td>Unknown Location</td>\n",
       "      <td>6.4</td>\n",
       "      <td>Meeting</td>\n",
       "    </tr>\n",
       "    <tr>\n",
       "      <th>1144</th>\n",
       "      <td>12/29/2016 23:14</td>\n",
       "      <td>12/29/2016 23:47</td>\n",
       "      <td>Business</td>\n",
       "      <td>Unknown Location</td>\n",
       "      <td>Kar?chi</td>\n",
       "      <td>12.9</td>\n",
       "      <td>Meeting</td>\n",
       "    </tr>\n",
       "    <tr>\n",
       "      <th>1145</th>\n",
       "      <td>12/30/2016 10:15</td>\n",
       "      <td>12/30/2016 10:33</td>\n",
       "      <td>Business</td>\n",
       "      <td>Kar?chi</td>\n",
       "      <td>Kar?chi</td>\n",
       "      <td>2.8</td>\n",
       "      <td>Errand/Supplies</td>\n",
       "    </tr>\n",
       "    <tr>\n",
       "      <th>1146</th>\n",
       "      <td>12/30/2016 11:31</td>\n",
       "      <td>12/30/2016 11:56</td>\n",
       "      <td>Business</td>\n",
       "      <td>Kar?chi</td>\n",
       "      <td>Kar?chi</td>\n",
       "      <td>2.9</td>\n",
       "      <td>Errand/Supplies</td>\n",
       "    </tr>\n",
       "    <tr>\n",
       "      <th>1147</th>\n",
       "      <td>12/30/2016 15:41</td>\n",
       "      <td>12/30/2016 16:03</td>\n",
       "      <td>Business</td>\n",
       "      <td>Kar?chi</td>\n",
       "      <td>Kar?chi</td>\n",
       "      <td>4.6</td>\n",
       "      <td>Errand/Supplies</td>\n",
       "    </tr>\n",
       "    <tr>\n",
       "      <th>1148</th>\n",
       "      <td>12/30/2016 16:45</td>\n",
       "      <td>12/30/2016 17:08</td>\n",
       "      <td>Business</td>\n",
       "      <td>Kar?chi</td>\n",
       "      <td>Kar?chi</td>\n",
       "      <td>4.6</td>\n",
       "      <td>Meeting</td>\n",
       "    </tr>\n",
       "    <tr>\n",
       "      <th>1149</th>\n",
       "      <td>12/30/2016 23:06</td>\n",
       "      <td>12/30/2016 23:10</td>\n",
       "      <td>Business</td>\n",
       "      <td>Kar?chi</td>\n",
       "      <td>Kar?chi</td>\n",
       "      <td>0.8</td>\n",
       "      <td>Customer Visit</td>\n",
       "    </tr>\n",
       "    <tr>\n",
       "      <th>1150</th>\n",
       "      <td>12/31/2016 1:07</td>\n",
       "      <td>12/31/2016 1:14</td>\n",
       "      <td>Business</td>\n",
       "      <td>Kar?chi</td>\n",
       "      <td>Kar?chi</td>\n",
       "      <td>0.7</td>\n",
       "      <td>Meeting</td>\n",
       "    </tr>\n",
       "    <tr>\n",
       "      <th>1151</th>\n",
       "      <td>12/31/2016 13:24</td>\n",
       "      <td>12/31/2016 13:42</td>\n",
       "      <td>Business</td>\n",
       "      <td>Kar?chi</td>\n",
       "      <td>Unknown Location</td>\n",
       "      <td>3.9</td>\n",
       "      <td>Temporary Site</td>\n",
       "    </tr>\n",
       "    <tr>\n",
       "      <th>1152</th>\n",
       "      <td>12/31/2016 15:03</td>\n",
       "      <td>12/31/2016 15:38</td>\n",
       "      <td>Business</td>\n",
       "      <td>Unknown Location</td>\n",
       "      <td>Unknown Location</td>\n",
       "      <td>16.2</td>\n",
       "      <td>Meeting</td>\n",
       "    </tr>\n",
       "    <tr>\n",
       "      <th>1153</th>\n",
       "      <td>12/31/2016 21:32</td>\n",
       "      <td>12/31/2016 21:50</td>\n",
       "      <td>Business</td>\n",
       "      <td>Katunayake</td>\n",
       "      <td>Gampaha</td>\n",
       "      <td>6.4</td>\n",
       "      <td>Temporary Site</td>\n",
       "    </tr>\n",
       "    <tr>\n",
       "      <th>1154</th>\n",
       "      <td>12/31/2016 22:08</td>\n",
       "      <td>12/31/2016 23:51</td>\n",
       "      <td>Business</td>\n",
       "      <td>Gampaha</td>\n",
       "      <td>Ilukwatta</td>\n",
       "      <td>48.2</td>\n",
       "      <td>Temporary Site</td>\n",
       "    </tr>\n",
       "  </tbody>\n",
       "</table>\n",
       "</div>"
      ],
      "text/plain": [
       "            START_DATE          END_DATE  CATEGORY             START  \\\n",
       "1135  12/29/2016 12:25  12/29/2016 12:33  Business           Kar?chi   \n",
       "1136  12/29/2016 13:17  12/29/2016 13:24  Business           Kar?chi   \n",
       "1137  12/29/2016 13:56  12/29/2016 14:11  Business           Kar?chi   \n",
       "1138  12/29/2016 14:42  12/29/2016 14:58  Business           Kar?chi   \n",
       "1139  12/29/2016 15:05  12/29/2016 15:16  Business           Kar?chi   \n",
       "1140  12/29/2016 18:59  12/29/2016 19:14  Business           Kar?chi   \n",
       "1141  12/29/2016 19:50  12/29/2016 20:10  Business  Unknown Location   \n",
       "1142  12/29/2016 20:15  12/29/2016 20:45  Business           Kar?chi   \n",
       "1143  12/29/2016 20:53  12/29/2016 21:42  Business           Kar?chi   \n",
       "1144  12/29/2016 23:14  12/29/2016 23:47  Business  Unknown Location   \n",
       "1145  12/30/2016 10:15  12/30/2016 10:33  Business           Kar?chi   \n",
       "1146  12/30/2016 11:31  12/30/2016 11:56  Business           Kar?chi   \n",
       "1147  12/30/2016 15:41  12/30/2016 16:03  Business           Kar?chi   \n",
       "1148  12/30/2016 16:45  12/30/2016 17:08  Business           Kar?chi   \n",
       "1149  12/30/2016 23:06  12/30/2016 23:10  Business           Kar?chi   \n",
       "1150   12/31/2016 1:07   12/31/2016 1:14  Business           Kar?chi   \n",
       "1151  12/31/2016 13:24  12/31/2016 13:42  Business           Kar?chi   \n",
       "1152  12/31/2016 15:03  12/31/2016 15:38  Business  Unknown Location   \n",
       "1153  12/31/2016 21:32  12/31/2016 21:50  Business        Katunayake   \n",
       "1154  12/31/2016 22:08  12/31/2016 23:51  Business           Gampaha   \n",
       "\n",
       "                  STOP  MILES          PURPOSE  \n",
       "1135           Kar?chi    1.4  Errand/Supplies  \n",
       "1136           Kar?chi    1.1  Errand/Supplies  \n",
       "1137           Kar?chi    4.1   Airport/Travel  \n",
       "1138           Kar?chi    6.1  Between Offices  \n",
       "1139           Kar?chi    1.3  Errand/Supplies  \n",
       "1140  Unknown Location    3.0   Meal/Entertain  \n",
       "1141           Kar?chi    4.1   Customer Visit  \n",
       "1142           Kar?chi    7.2          Meeting  \n",
       "1143  Unknown Location    6.4          Meeting  \n",
       "1144           Kar?chi   12.9          Meeting  \n",
       "1145           Kar?chi    2.8  Errand/Supplies  \n",
       "1146           Kar?chi    2.9  Errand/Supplies  \n",
       "1147           Kar?chi    4.6  Errand/Supplies  \n",
       "1148           Kar?chi    4.6          Meeting  \n",
       "1149           Kar?chi    0.8   Customer Visit  \n",
       "1150           Kar?chi    0.7          Meeting  \n",
       "1151  Unknown Location    3.9   Temporary Site  \n",
       "1152  Unknown Location   16.2          Meeting  \n",
       "1153           Gampaha    6.4   Temporary Site  \n",
       "1154         Ilukwatta   48.2   Temporary Site  "
      ]
     },
     "execution_count": 21,
     "metadata": {},
     "output_type": "execute_result"
    }
   ],
   "source": [
    "df.tail(20)"
   ]
  },
  {
   "cell_type": "code",
   "execution_count": 22,
   "id": "14d9de7e",
   "metadata": {},
   "outputs": [
    {
     "data": {
      "text/plain": [
       "PURPOSE\n",
       "Meeting            308\n",
       "Meal/Entertain     245\n",
       "Temporary Site     196\n",
       "Errand/Supplies    173\n",
       "Customer Visit     155\n",
       "Airport/Travel      54\n",
       "Between Offices     18\n",
       "Moving               4\n",
       "Charity ($)          1\n",
       "Commute              1\n",
       "Name: count, dtype: int64"
      ]
     },
     "execution_count": 22,
     "metadata": {},
     "output_type": "execute_result"
    }
   ],
   "source": [
    "df[\"PURPOSE\"].value_counts()"
   ]
  },
  {
   "cell_type": "code",
   "execution_count": 23,
   "id": "1a706812",
   "metadata": {},
   "outputs": [
    {
     "data": {
      "text/plain": [
       "CATEGORY\n",
       "Business    1078\n",
       "Personal      77\n",
       "Name: count, dtype: int64"
      ]
     },
     "execution_count": 23,
     "metadata": {},
     "output_type": "execute_result"
    }
   ],
   "source": [
    "df[\"CATEGORY\"].value_counts()"
   ]
  },
  {
   "cell_type": "code",
   "execution_count": 24,
   "id": "61ec7fe6",
   "metadata": {},
   "outputs": [],
   "source": [
    "df['START_DATE'] = pd.to_datetime(df['START_DATE'], errors= 'coerce')"
   ]
  },
  {
   "cell_type": "code",
   "execution_count": 25,
   "id": "4531ab74",
   "metadata": {},
   "outputs": [
    {
     "name": "stdout",
     "output_type": "stream",
     "text": [
      "<class 'pandas.core.frame.DataFrame'>\n",
      "RangeIndex: 1155 entries, 0 to 1154\n",
      "Data columns (total 7 columns):\n",
      " #   Column      Non-Null Count  Dtype         \n",
      "---  ------      --------------  -----         \n",
      " 0   START_DATE  421 non-null    datetime64[ns]\n",
      " 1   END_DATE    1155 non-null   object        \n",
      " 2   CATEGORY    1155 non-null   object        \n",
      " 3   START       1155 non-null   object        \n",
      " 4   STOP        1155 non-null   object        \n",
      " 5   MILES       1155 non-null   float64       \n",
      " 6   PURPOSE     1155 non-null   object        \n",
      "dtypes: datetime64[ns](1), float64(1), object(5)\n",
      "memory usage: 63.3+ KB\n"
     ]
    }
   ],
   "source": [
    "df.info()"
   ]
  },
  {
   "cell_type": "code",
   "execution_count": 26,
   "id": "f0a17057",
   "metadata": {},
   "outputs": [],
   "source": [
    "df['END_DATE'] = pd.to_datetime(df['END_DATE'], errors= 'coerce')"
   ]
  },
  {
   "cell_type": "code",
   "execution_count": 27,
   "id": "10ff6d8d",
   "metadata": {},
   "outputs": [
    {
     "name": "stdout",
     "output_type": "stream",
     "text": [
      "<class 'pandas.core.frame.DataFrame'>\n",
      "RangeIndex: 1155 entries, 0 to 1154\n",
      "Data columns (total 7 columns):\n",
      " #   Column      Non-Null Count  Dtype         \n",
      "---  ------      --------------  -----         \n",
      " 0   START_DATE  421 non-null    datetime64[ns]\n",
      " 1   END_DATE    420 non-null    datetime64[ns]\n",
      " 2   CATEGORY    1155 non-null   object        \n",
      " 3   START       1155 non-null   object        \n",
      " 4   STOP        1155 non-null   object        \n",
      " 5   MILES       1155 non-null   float64       \n",
      " 6   PURPOSE     1155 non-null   object        \n",
      "dtypes: datetime64[ns](2), float64(1), object(4)\n",
      "memory usage: 63.3+ KB\n"
     ]
    }
   ],
   "source": [
    "df.info()"
   ]
  },
  {
   "cell_type": "code",
   "execution_count": 28,
   "id": "408ce04c",
   "metadata": {},
   "outputs": [
    {
     "data": {
      "text/html": [
       "<div>\n",
       "<style scoped>\n",
       "    .dataframe tbody tr th:only-of-type {\n",
       "        vertical-align: middle;\n",
       "    }\n",
       "\n",
       "    .dataframe tbody tr th {\n",
       "        vertical-align: top;\n",
       "    }\n",
       "\n",
       "    .dataframe thead th {\n",
       "        text-align: right;\n",
       "    }\n",
       "</style>\n",
       "<table border=\"1\" class=\"dataframe\">\n",
       "  <thead>\n",
       "    <tr style=\"text-align: right;\">\n",
       "      <th></th>\n",
       "      <th>START_DATE</th>\n",
       "      <th>END_DATE</th>\n",
       "      <th>CATEGORY</th>\n",
       "      <th>START</th>\n",
       "      <th>STOP</th>\n",
       "      <th>MILES</th>\n",
       "      <th>PURPOSE</th>\n",
       "    </tr>\n",
       "  </thead>\n",
       "  <tbody>\n",
       "    <tr>\n",
       "      <th>1135</th>\n",
       "      <td>NaT</td>\n",
       "      <td>NaT</td>\n",
       "      <td>Business</td>\n",
       "      <td>Kar?chi</td>\n",
       "      <td>Kar?chi</td>\n",
       "      <td>1.4</td>\n",
       "      <td>Errand/Supplies</td>\n",
       "    </tr>\n",
       "    <tr>\n",
       "      <th>1136</th>\n",
       "      <td>NaT</td>\n",
       "      <td>NaT</td>\n",
       "      <td>Business</td>\n",
       "      <td>Kar?chi</td>\n",
       "      <td>Kar?chi</td>\n",
       "      <td>1.1</td>\n",
       "      <td>Errand/Supplies</td>\n",
       "    </tr>\n",
       "    <tr>\n",
       "      <th>1137</th>\n",
       "      <td>NaT</td>\n",
       "      <td>NaT</td>\n",
       "      <td>Business</td>\n",
       "      <td>Kar?chi</td>\n",
       "      <td>Kar?chi</td>\n",
       "      <td>4.1</td>\n",
       "      <td>Airport/Travel</td>\n",
       "    </tr>\n",
       "    <tr>\n",
       "      <th>1138</th>\n",
       "      <td>NaT</td>\n",
       "      <td>NaT</td>\n",
       "      <td>Business</td>\n",
       "      <td>Kar?chi</td>\n",
       "      <td>Kar?chi</td>\n",
       "      <td>6.1</td>\n",
       "      <td>Between Offices</td>\n",
       "    </tr>\n",
       "    <tr>\n",
       "      <th>1139</th>\n",
       "      <td>NaT</td>\n",
       "      <td>NaT</td>\n",
       "      <td>Business</td>\n",
       "      <td>Kar?chi</td>\n",
       "      <td>Kar?chi</td>\n",
       "      <td>1.3</td>\n",
       "      <td>Errand/Supplies</td>\n",
       "    </tr>\n",
       "    <tr>\n",
       "      <th>1140</th>\n",
       "      <td>NaT</td>\n",
       "      <td>NaT</td>\n",
       "      <td>Business</td>\n",
       "      <td>Kar?chi</td>\n",
       "      <td>Unknown Location</td>\n",
       "      <td>3.0</td>\n",
       "      <td>Meal/Entertain</td>\n",
       "    </tr>\n",
       "    <tr>\n",
       "      <th>1141</th>\n",
       "      <td>NaT</td>\n",
       "      <td>NaT</td>\n",
       "      <td>Business</td>\n",
       "      <td>Unknown Location</td>\n",
       "      <td>Kar?chi</td>\n",
       "      <td>4.1</td>\n",
       "      <td>Customer Visit</td>\n",
       "    </tr>\n",
       "    <tr>\n",
       "      <th>1142</th>\n",
       "      <td>NaT</td>\n",
       "      <td>NaT</td>\n",
       "      <td>Business</td>\n",
       "      <td>Kar?chi</td>\n",
       "      <td>Kar?chi</td>\n",
       "      <td>7.2</td>\n",
       "      <td>Meeting</td>\n",
       "    </tr>\n",
       "    <tr>\n",
       "      <th>1143</th>\n",
       "      <td>NaT</td>\n",
       "      <td>NaT</td>\n",
       "      <td>Business</td>\n",
       "      <td>Kar?chi</td>\n",
       "      <td>Unknown Location</td>\n",
       "      <td>6.4</td>\n",
       "      <td>Meeting</td>\n",
       "    </tr>\n",
       "    <tr>\n",
       "      <th>1144</th>\n",
       "      <td>NaT</td>\n",
       "      <td>NaT</td>\n",
       "      <td>Business</td>\n",
       "      <td>Unknown Location</td>\n",
       "      <td>Kar?chi</td>\n",
       "      <td>12.9</td>\n",
       "      <td>Meeting</td>\n",
       "    </tr>\n",
       "    <tr>\n",
       "      <th>1145</th>\n",
       "      <td>NaT</td>\n",
       "      <td>NaT</td>\n",
       "      <td>Business</td>\n",
       "      <td>Kar?chi</td>\n",
       "      <td>Kar?chi</td>\n",
       "      <td>2.8</td>\n",
       "      <td>Errand/Supplies</td>\n",
       "    </tr>\n",
       "    <tr>\n",
       "      <th>1146</th>\n",
       "      <td>NaT</td>\n",
       "      <td>NaT</td>\n",
       "      <td>Business</td>\n",
       "      <td>Kar?chi</td>\n",
       "      <td>Kar?chi</td>\n",
       "      <td>2.9</td>\n",
       "      <td>Errand/Supplies</td>\n",
       "    </tr>\n",
       "    <tr>\n",
       "      <th>1147</th>\n",
       "      <td>NaT</td>\n",
       "      <td>NaT</td>\n",
       "      <td>Business</td>\n",
       "      <td>Kar?chi</td>\n",
       "      <td>Kar?chi</td>\n",
       "      <td>4.6</td>\n",
       "      <td>Errand/Supplies</td>\n",
       "    </tr>\n",
       "    <tr>\n",
       "      <th>1148</th>\n",
       "      <td>NaT</td>\n",
       "      <td>NaT</td>\n",
       "      <td>Business</td>\n",
       "      <td>Kar?chi</td>\n",
       "      <td>Kar?chi</td>\n",
       "      <td>4.6</td>\n",
       "      <td>Meeting</td>\n",
       "    </tr>\n",
       "    <tr>\n",
       "      <th>1149</th>\n",
       "      <td>NaT</td>\n",
       "      <td>NaT</td>\n",
       "      <td>Business</td>\n",
       "      <td>Kar?chi</td>\n",
       "      <td>Kar?chi</td>\n",
       "      <td>0.8</td>\n",
       "      <td>Customer Visit</td>\n",
       "    </tr>\n",
       "    <tr>\n",
       "      <th>1150</th>\n",
       "      <td>NaT</td>\n",
       "      <td>NaT</td>\n",
       "      <td>Business</td>\n",
       "      <td>Kar?chi</td>\n",
       "      <td>Kar?chi</td>\n",
       "      <td>0.7</td>\n",
       "      <td>Meeting</td>\n",
       "    </tr>\n",
       "    <tr>\n",
       "      <th>1151</th>\n",
       "      <td>NaT</td>\n",
       "      <td>NaT</td>\n",
       "      <td>Business</td>\n",
       "      <td>Kar?chi</td>\n",
       "      <td>Unknown Location</td>\n",
       "      <td>3.9</td>\n",
       "      <td>Temporary Site</td>\n",
       "    </tr>\n",
       "    <tr>\n",
       "      <th>1152</th>\n",
       "      <td>NaT</td>\n",
       "      <td>NaT</td>\n",
       "      <td>Business</td>\n",
       "      <td>Unknown Location</td>\n",
       "      <td>Unknown Location</td>\n",
       "      <td>16.2</td>\n",
       "      <td>Meeting</td>\n",
       "    </tr>\n",
       "    <tr>\n",
       "      <th>1153</th>\n",
       "      <td>NaT</td>\n",
       "      <td>NaT</td>\n",
       "      <td>Business</td>\n",
       "      <td>Katunayake</td>\n",
       "      <td>Gampaha</td>\n",
       "      <td>6.4</td>\n",
       "      <td>Temporary Site</td>\n",
       "    </tr>\n",
       "    <tr>\n",
       "      <th>1154</th>\n",
       "      <td>NaT</td>\n",
       "      <td>NaT</td>\n",
       "      <td>Business</td>\n",
       "      <td>Gampaha</td>\n",
       "      <td>Ilukwatta</td>\n",
       "      <td>48.2</td>\n",
       "      <td>Temporary Site</td>\n",
       "    </tr>\n",
       "  </tbody>\n",
       "</table>\n",
       "</div>"
      ],
      "text/plain": [
       "     START_DATE END_DATE  CATEGORY             START              STOP  MILES  \\\n",
       "1135        NaT      NaT  Business           Kar?chi           Kar?chi    1.4   \n",
       "1136        NaT      NaT  Business           Kar?chi           Kar?chi    1.1   \n",
       "1137        NaT      NaT  Business           Kar?chi           Kar?chi    4.1   \n",
       "1138        NaT      NaT  Business           Kar?chi           Kar?chi    6.1   \n",
       "1139        NaT      NaT  Business           Kar?chi           Kar?chi    1.3   \n",
       "1140        NaT      NaT  Business           Kar?chi  Unknown Location    3.0   \n",
       "1141        NaT      NaT  Business  Unknown Location           Kar?chi    4.1   \n",
       "1142        NaT      NaT  Business           Kar?chi           Kar?chi    7.2   \n",
       "1143        NaT      NaT  Business           Kar?chi  Unknown Location    6.4   \n",
       "1144        NaT      NaT  Business  Unknown Location           Kar?chi   12.9   \n",
       "1145        NaT      NaT  Business           Kar?chi           Kar?chi    2.8   \n",
       "1146        NaT      NaT  Business           Kar?chi           Kar?chi    2.9   \n",
       "1147        NaT      NaT  Business           Kar?chi           Kar?chi    4.6   \n",
       "1148        NaT      NaT  Business           Kar?chi           Kar?chi    4.6   \n",
       "1149        NaT      NaT  Business           Kar?chi           Kar?chi    0.8   \n",
       "1150        NaT      NaT  Business           Kar?chi           Kar?chi    0.7   \n",
       "1151        NaT      NaT  Business           Kar?chi  Unknown Location    3.9   \n",
       "1152        NaT      NaT  Business  Unknown Location  Unknown Location   16.2   \n",
       "1153        NaT      NaT  Business        Katunayake           Gampaha    6.4   \n",
       "1154        NaT      NaT  Business           Gampaha         Ilukwatta   48.2   \n",
       "\n",
       "              PURPOSE  \n",
       "1135  Errand/Supplies  \n",
       "1136  Errand/Supplies  \n",
       "1137   Airport/Travel  \n",
       "1138  Between Offices  \n",
       "1139  Errand/Supplies  \n",
       "1140   Meal/Entertain  \n",
       "1141   Customer Visit  \n",
       "1142          Meeting  \n",
       "1143          Meeting  \n",
       "1144          Meeting  \n",
       "1145  Errand/Supplies  \n",
       "1146  Errand/Supplies  \n",
       "1147  Errand/Supplies  \n",
       "1148          Meeting  \n",
       "1149   Customer Visit  \n",
       "1150          Meeting  \n",
       "1151   Temporary Site  \n",
       "1152          Meeting  \n",
       "1153   Temporary Site  \n",
       "1154   Temporary Site  "
      ]
     },
     "execution_count": 28,
     "metadata": {},
     "output_type": "execute_result"
    }
   ],
   "source": [
    "df.tail(20)"
   ]
  },
  {
   "cell_type": "code",
   "execution_count": 29,
   "id": "ebe5a773",
   "metadata": {},
   "outputs": [
    {
     "data": {
      "text/plain": [
       "Index(['START_DATE', 'END_DATE', 'CATEGORY', 'START', 'STOP', 'MILES',\n",
       "       'PURPOSE'],\n",
       "      dtype='object')"
      ]
     },
     "execution_count": 29,
     "metadata": {},
     "output_type": "execute_result"
    }
   ],
   "source": [
    "df.columns"
   ]
  },
  {
   "cell_type": "code",
   "execution_count": 30,
   "id": "ed690700",
   "metadata": {},
   "outputs": [
    {
     "data": {
      "text/plain": [
       "CATEGORY\n",
       "Business    1078\n",
       "Personal      77\n",
       "Name: count, dtype: int64"
      ]
     },
     "execution_count": 30,
     "metadata": {},
     "output_type": "execute_result"
    }
   ],
   "source": [
    "df.CATEGORY.value_counts()"
   ]
  },
  {
   "cell_type": "code",
   "execution_count": 31,
   "id": "3e6ea261",
   "metadata": {},
   "outputs": [],
   "source": [
    "category = pd.crosstab(index = df['CATEGORY'], columns = 'count of travellers as per category')"
   ]
  },
  {
   "cell_type": "code",
   "execution_count": 32,
   "id": "0a0df475",
   "metadata": {},
   "outputs": [
    {
     "data": {
      "text/html": [
       "<div>\n",
       "<style scoped>\n",
       "    .dataframe tbody tr th:only-of-type {\n",
       "        vertical-align: middle;\n",
       "    }\n",
       "\n",
       "    .dataframe tbody tr th {\n",
       "        vertical-align: top;\n",
       "    }\n",
       "\n",
       "    .dataframe thead th {\n",
       "        text-align: right;\n",
       "    }\n",
       "</style>\n",
       "<table border=\"1\" class=\"dataframe\">\n",
       "  <thead>\n",
       "    <tr style=\"text-align: right;\">\n",
       "      <th>col_0</th>\n",
       "      <th>count of travellers as per category</th>\n",
       "    </tr>\n",
       "    <tr>\n",
       "      <th>CATEGORY</th>\n",
       "      <th></th>\n",
       "    </tr>\n",
       "  </thead>\n",
       "  <tbody>\n",
       "    <tr>\n",
       "      <th>Business</th>\n",
       "      <td>1078</td>\n",
       "    </tr>\n",
       "    <tr>\n",
       "      <th>Personal</th>\n",
       "      <td>77</td>\n",
       "    </tr>\n",
       "  </tbody>\n",
       "</table>\n",
       "</div>"
      ],
      "text/plain": [
       "col_0     count of travellers as per category\n",
       "CATEGORY                                     \n",
       "Business                                 1078\n",
       "Personal                                   77"
      ]
     },
     "execution_count": 32,
     "metadata": {},
     "output_type": "execute_result"
    }
   ],
   "source": [
    "category"
   ]
  },
  {
   "cell_type": "code",
   "execution_count": 33,
   "id": "e45f3eb9",
   "metadata": {},
   "outputs": [
    {
     "data": {
      "text/plain": [
       "<Axes: xlabel='CATEGORY'>"
      ]
     },
     "execution_count": 33,
     "metadata": {},
     "output_type": "execute_result"
    },
    {
     "data": {
      "image/png": "[encoded data removed]",
      "text/plain": [
       "<Figure size 640x480 with 1 Axes>"
      ]
     },
     "metadata": {},
     "output_type": "display_data"
    }
   ],
   "source": [
    "category.plot(kind = 'bar',color = 'g')"
   ]
  },
  {
   "cell_type": "markdown",
   "id": "0335470c",
   "metadata": {},
   "source": [
    "## Places with highest starting Point"
   ]
  },
  {
   "cell_type": "code",
   "execution_count": 34,
   "id": "60820b8e",
   "metadata": {},
   "outputs": [],
   "source": [
    "sp = df.START.value_counts()"
   ]
  },
  {
   "cell_type": "code",
   "execution_count": 35,
   "id": "ff017a8f",
   "metadata": {},
   "outputs": [
    {
     "data": {
      "text/plain": [
       "START\n",
       "Cary                201\n",
       "Unknown Location    148\n",
       "Morrisville          85\n",
       "Whitebridge          68\n",
       "Islamabad            57\n",
       "                   ... \n",
       "Florence              1\n",
       "Ridgeland             1\n",
       "Daytona Beach         1\n",
       "Sky Lake              1\n",
       "Gampaha               1\n",
       "Name: count, Length: 177, dtype: int64"
      ]
     },
     "execution_count": 35,
     "metadata": {},
     "output_type": "execute_result"
    }
   ],
   "source": [
    "sp"
   ]
  },
  {
   "cell_type": "code",
   "execution_count": 36,
   "id": "78668149",
   "metadata": {},
   "outputs": [
    {
     "name": "stdout",
     "output_type": "stream",
     "text": [
      "START\n",
      "Cary                201\n",
      "Unknown Location    148\n",
      "Morrisville          85\n",
      "Whitebridge          68\n",
      "Islamabad            57\n",
      "Durham               37\n",
      "Lahore               36\n",
      "Raleigh              28\n",
      "Kar?chi              27\n",
      "Westpark Place       17\n",
      "Apex                 17\n",
      "Berkeley             16\n",
      "Midtown              14\n",
      "Kenner               11\n",
      "Kissimmee            11\n",
      "R?walpindi           11\n",
      "Name: count, dtype: int64\n"
     ]
    }
   ],
   "source": [
    "print(sp[sp>10])"
   ]
  },
  {
   "cell_type": "code",
   "execution_count": 37,
   "id": "21240577",
   "metadata": {},
   "outputs": [
    {
     "data": {
      "text/plain": [
       "<Axes: ylabel='count'>"
      ]
     },
     "execution_count": 37,
     "metadata": {},
     "output_type": "execute_result"
    },
    {
     "data": {
      "image/png": "[encoded data removed]",
      "text/plain": [
       "<Figure size 640x480 with 1 Axes>"
      ]
     },
     "metadata": {},
     "output_type": "display_data"
    }
   ],
   "source": [
    "sp[sp>10].plot(kind = 'pie',shadow = True, startangle = 100)"
   ]
  },
  {
   "cell_type": "markdown",
   "id": "bfa8fa03",
   "metadata": {},
   "source": [
    "##   Cary has most number of starting points"
   ]
  },
  {
   "cell_type": "markdown",
   "id": "34814e11",
   "metadata": {},
   "source": [
    "# Places with lowest starting point"
   ]
  },
  {
   "cell_type": "code",
   "execution_count": 38,
   "id": "c5444d6b",
   "metadata": {},
   "outputs": [
    {
     "data": {
      "text/plain": [
       "<Axes: ylabel='Frequency'>"
      ]
     },
     "execution_count": 38,
     "metadata": {},
     "output_type": "execute_result"
    },
    {
     "data": {
      "image/png": "[encoded data removed]",
      "text/plain": [
       "<Figure size 640x480 with 1 Axes>"
      ]
     },
     "metadata": {},
     "output_type": "display_data"
    }
   ],
   "source": [
    "sp[sp<=10].plot(kind = 'hist')"
   ]
  },
  {
   "cell_type": "code",
   "execution_count": 39,
   "id": "101c7c94",
   "metadata": {},
   "outputs": [
    {
     "data": {
      "text/plain": [
       "count\n",
       "1     87\n",
       "2     34\n",
       "4     10\n",
       "5      9\n",
       "3      7\n",
       "8      6\n",
       "7      3\n",
       "10     2\n",
       "6      2\n",
       "9      1\n",
       "Name: count, dtype: int64"
      ]
     },
     "execution_count": 39,
     "metadata": {},
     "output_type": "execute_result"
    }
   ],
   "source": [
    "sp[sp<=10].value_counts()"
   ]
  },
  {
   "cell_type": "markdown",
   "id": "9d00ed2a",
   "metadata": {},
   "source": [
    "# Places with highest stop_point"
   ]
  },
  {
   "cell_type": "code",
   "execution_count": 40,
   "id": "1315ac72",
   "metadata": {},
   "outputs": [],
   "source": [
    "st_p = df.STOP.value_counts()"
   ]
  },
  {
   "cell_type": "code",
   "execution_count": 41,
   "id": "5f120b98",
   "metadata": {},
   "outputs": [
    {
     "data": {
      "text/plain": [
       "STOP\n",
       "Cary                 203\n",
       "Unknown Location     149\n",
       "Morrisville           84\n",
       "Whitebridge           65\n",
       "Islamabad             58\n",
       "                    ... \n",
       "Daytona Beach          1\n",
       "Sand Lake Commons      1\n",
       "Sky Lake               1\n",
       "Vista East             1\n",
       "Ilukwatta              1\n",
       "Name: count, Length: 188, dtype: int64"
      ]
     },
     "execution_count": 41,
     "metadata": {},
     "output_type": "execute_result"
    }
   ],
   "source": [
    "st_p"
   ]
  },
  {
   "cell_type": "markdown",
   "id": "790f776f",
   "metadata": {},
   "source": [
    "## Most Miles"
   ]
  },
  {
   "cell_type": "code",
   "execution_count": 42,
   "id": "2aa6b063",
   "metadata": {},
   "outputs": [],
   "source": [
    "miles = df.MILES.value_counts()"
   ]
  },
  {
   "cell_type": "code",
   "execution_count": 43,
   "id": "7a1c7be3",
   "metadata": {},
   "outputs": [
    {
     "name": "stdout",
     "output_type": "stream",
     "text": [
      "<class 'pandas.core.series.Series'>\n",
      "Index: 256 entries, 9.9 to 48.2\n",
      "Series name: count\n",
      "Non-Null Count  Dtype\n",
      "--------------  -----\n",
      "256 non-null    int64\n",
      "dtypes: int64(1)\n",
      "memory usage: 4.0 KB\n"
     ]
    }
   ],
   "source": [
    "miles.info()"
   ]
  },
  {
   "cell_type": "code",
   "execution_count": 44,
   "id": "76d28131",
   "metadata": {},
   "outputs": [
    {
     "data": {
      "text/plain": [
       "count    256.000000\n",
       "mean       4.511719\n",
       "std        4.830445\n",
       "min        1.000000\n",
       "25%        1.000000\n",
       "50%        3.000000\n",
       "75%        6.000000\n",
       "max       28.000000\n",
       "Name: count, dtype: float64"
      ]
     },
     "execution_count": 44,
     "metadata": {},
     "output_type": "execute_result"
    }
   ],
   "source": [
    "miles.describe()"
   ]
  },
  {
   "cell_type": "code",
   "execution_count": 45,
   "id": "4fbd4e04",
   "metadata": {},
   "outputs": [
    {
     "name": "stdout",
     "output_type": "stream",
     "text": [
      "MILES\n",
      "9.9     28\n",
      "3.1     26\n",
      "2.1     19\n",
      "10.4    19\n",
      "3.0     19\n",
      "2.5     19\n",
      "1.7     18\n",
      "1.8     18\n",
      "2.2     18\n",
      "2.8     16\n",
      "1.9     16\n",
      "2.0     16\n",
      "3.3     16\n",
      "6.1     15\n",
      "3.8     15\n",
      "5.5     14\n",
      "1.4     14\n",
      "1.6     13\n",
      "7.9     13\n",
      "2.7     12\n",
      "2.3     12\n",
      "6.2     12\n",
      "5.7     12\n",
      "2.9     12\n",
      "1.5     12\n",
      "6.0     11\n",
      "4.9     11\n",
      "7.7     11\n",
      "5.1     11\n",
      "1.0     11\n",
      "Name: count, dtype: int64\n"
     ]
    }
   ],
   "source": [
    "print(miles[miles>10])"
   ]
  },
  {
   "cell_type": "code",
   "execution_count": 46,
   "id": "cd84bd26",
   "metadata": {},
   "outputs": [
    {
     "data": {
      "text/plain": [
       "<Axes: xlabel='MILES'>"
      ]
     },
     "execution_count": 46,
     "metadata": {},
     "output_type": "execute_result"
    },
    {
     "data": {
      "image/png": "[encoded data removed]",
      "text/plain": [
       "<Figure size 640x480 with 1 Axes>"
      ]
     },
     "metadata": {},
     "output_type": "display_data"
    }
   ],
   "source": [
    "miles[miles>10].plot(kind = 'bar')"
   ]
  },
  {
   "cell_type": "code",
   "execution_count": 47,
   "id": "8880b69b",
   "metadata": {},
   "outputs": [
    {
     "data": {
      "text/plain": [
       "PURPOSE\n",
       "Meeting            308\n",
       "Meal/Entertain     245\n",
       "Temporary Site     196\n",
       "Errand/Supplies    173\n",
       "Customer Visit     155\n",
       "Airport/Travel      54\n",
       "Between Offices     18\n",
       "Moving               4\n",
       "Charity ($)          1\n",
       "Commute              1\n",
       "Name: count, dtype: int64"
      ]
     },
     "execution_count": 47,
     "metadata": {},
     "output_type": "execute_result"
    }
   ],
   "source": [
    "df.PURPOSE.value_counts()"
   ]
  },
  {
   "cell_type": "code",
   "execution_count": 48,
   "id": "ab9103c7",
   "metadata": {},
   "outputs": [
    {
     "data": {
      "text/plain": [
       "<Figure size 1500x700 with 0 Axes>"
      ]
     },
     "execution_count": 48,
     "metadata": {},
     "output_type": "execute_result"
    },
    {
     "data": {
      "text/plain": [
       "<Figure size 1500x700 with 0 Axes>"
      ]
     },
     "metadata": {},
     "output_type": "display_data"
    }
   ],
   "source": [
    "plt.figure(figsize = (15,7))"
   ]
  },
  {
   "cell_type": "code",
   "execution_count": 49,
   "id": "0ebdbd83",
   "metadata": {},
   "outputs": [
    {
     "data": {
      "text/plain": [
       "([0, 1, 2, 3, 4, 5, 6, 7, 8, 9],\n",
       " [Text(0, 0, 'Meeting'),\n",
       "  Text(1, 0, 'Meal/Entertain'),\n",
       "  Text(2, 0, 'Temporary Site'),\n",
       "  Text(3, 0, 'Errand/Supplies'),\n",
       "  Text(4, 0, 'Customer Visit'),\n",
       "  Text(5, 0, 'Airport/Travel'),\n",
       "  Text(6, 0, 'Between Offices'),\n",
       "  Text(7, 0, 'Moving'),\n",
       "  Text(8, 0, 'Charity ($)'),\n",
       "  Text(9, 0, 'Commute')])"
      ]
     },
     "execution_count": 49,
     "metadata": {},
     "output_type": "execute_result"
    },
    {
     "data": {
      "image/png": "[encoded data removed]",
      "text/plain": [
       "<Figure size 1000x300 with 1 Axes>"
      ]
     },
     "metadata": {},
     "output_type": "display_data"
    }
   ],
   "source": [
    "df[\"PURPOSE\"] = pd.Series(df[\"PURPOSE\"])\n",
    "\n",
    "plt.figure(figsize=(10, 3))\n",
    "sns.countplot(data=df, x=\"PURPOSE\", order=df[\"PURPOSE\"].value_counts().index)\n",
    "plt.xticks(rotation = 90)"
   ]
  },
  {
   "cell_type": "code",
   "execution_count": 50,
   "id": "9ecfc430",
   "metadata": {},
   "outputs": [
    {
     "data": {
      "text/plain": [
       "Index(['START_DATE', 'END_DATE', 'CATEGORY', 'START', 'STOP', 'MILES',\n",
       "       'PURPOSE'],\n",
       "      dtype='object')"
      ]
     },
     "execution_count": 50,
     "metadata": {},
     "output_type": "execute_result"
    }
   ],
   "source": [
    "df.columns"
   ]
  },
  {
   "cell_type": "code",
   "execution_count": 51,
   "id": "d97f1dab",
   "metadata": {},
   "outputs": [
    {
     "data": {
      "text/plain": [
       "0      2016-01-01 21:11:00\n",
       "1      2016-01-02 01:25:00\n",
       "2      2016-01-02 20:25:00\n",
       "3      2016-01-05 17:31:00\n",
       "4      2016-01-06 14:42:00\n",
       "               ...        \n",
       "1150                   NaT\n",
       "1151                   NaT\n",
       "1152                   NaT\n",
       "1153                   NaT\n",
       "1154                   NaT\n",
       "Name: START_DATE, Length: 1155, dtype: datetime64[ns]"
      ]
     },
     "execution_count": 51,
     "metadata": {},
     "output_type": "execute_result"
    }
   ],
   "source": [
    "df['START_DATE']"
   ]
  },
  {
   "cell_type": "code",
   "execution_count": 52,
   "id": "b5899ad0",
   "metadata": {},
   "outputs": [
    {
     "data": {
      "text/plain": [
       "0      2016-01-01 21:17:00\n",
       "1      2016-01-02 01:37:00\n",
       "2      2016-01-02 20:38:00\n",
       "3      2016-01-05 17:45:00\n",
       "4      2016-01-06 15:49:00\n",
       "               ...        \n",
       "1150                   NaT\n",
       "1151                   NaT\n",
       "1152                   NaT\n",
       "1153                   NaT\n",
       "1154                   NaT\n",
       "Name: END_DATE, Length: 1155, dtype: datetime64[ns]"
      ]
     },
     "execution_count": 52,
     "metadata": {},
     "output_type": "execute_result"
    }
   ],
   "source": [
    "df['END_DATE']"
   ]
  },
  {
   "cell_type": "code",
   "execution_count": 53,
   "id": "9743da01",
   "metadata": {},
   "outputs": [],
   "source": [
    "df[\"MINUTES\"] = df.END_DATE - df.START_DATE"
   ]
  },
  {
   "cell_type": "code",
   "execution_count": 54,
   "id": "5b708b48",
   "metadata": {},
   "outputs": [
    {
     "data": {
      "text/html": [
       "<div>\n",
       "<style scoped>\n",
       "    .dataframe tbody tr th:only-of-type {\n",
       "        vertical-align: middle;\n",
       "    }\n",
       "\n",
       "    .dataframe tbody tr th {\n",
       "        vertical-align: top;\n",
       "    }\n",
       "\n",
       "    .dataframe thead th {\n",
       "        text-align: right;\n",
       "    }\n",
       "</style>\n",
       "<table border=\"1\" class=\"dataframe\">\n",
       "  <thead>\n",
       "    <tr style=\"text-align: right;\">\n",
       "      <th></th>\n",
       "      <th>START_DATE</th>\n",
       "      <th>END_DATE</th>\n",
       "      <th>CATEGORY</th>\n",
       "      <th>START</th>\n",
       "      <th>STOP</th>\n",
       "      <th>MILES</th>\n",
       "      <th>PURPOSE</th>\n",
       "      <th>MINUTES</th>\n",
       "    </tr>\n",
       "  </thead>\n",
       "  <tbody>\n",
       "    <tr>\n",
       "      <th>0</th>\n",
       "      <td>2016-01-01 21:11:00</td>\n",
       "      <td>2016-01-01 21:17:00</td>\n",
       "      <td>Business</td>\n",
       "      <td>Fort Pierce</td>\n",
       "      <td>Fort Pierce</td>\n",
       "      <td>5.1</td>\n",
       "      <td>Meal/Entertain</td>\n",
       "      <td>0 days 00:06:00</td>\n",
       "    </tr>\n",
       "    <tr>\n",
       "      <th>1</th>\n",
       "      <td>2016-01-02 01:25:00</td>\n",
       "      <td>2016-01-02 01:37:00</td>\n",
       "      <td>Business</td>\n",
       "      <td>Fort Pierce</td>\n",
       "      <td>Fort Pierce</td>\n",
       "      <td>5.0</td>\n",
       "      <td>Meal/Entertain</td>\n",
       "      <td>0 days 00:12:00</td>\n",
       "    </tr>\n",
       "    <tr>\n",
       "      <th>2</th>\n",
       "      <td>2016-01-02 20:25:00</td>\n",
       "      <td>2016-01-02 20:38:00</td>\n",
       "      <td>Business</td>\n",
       "      <td>Fort Pierce</td>\n",
       "      <td>Fort Pierce</td>\n",
       "      <td>4.8</td>\n",
       "      <td>Errand/Supplies</td>\n",
       "      <td>0 days 00:13:00</td>\n",
       "    </tr>\n",
       "    <tr>\n",
       "      <th>3</th>\n",
       "      <td>2016-01-05 17:31:00</td>\n",
       "      <td>2016-01-05 17:45:00</td>\n",
       "      <td>Business</td>\n",
       "      <td>Fort Pierce</td>\n",
       "      <td>Fort Pierce</td>\n",
       "      <td>4.7</td>\n",
       "      <td>Meeting</td>\n",
       "      <td>0 days 00:14:00</td>\n",
       "    </tr>\n",
       "    <tr>\n",
       "      <th>4</th>\n",
       "      <td>2016-01-06 14:42:00</td>\n",
       "      <td>2016-01-06 15:49:00</td>\n",
       "      <td>Business</td>\n",
       "      <td>Fort Pierce</td>\n",
       "      <td>West Palm Beach</td>\n",
       "      <td>63.7</td>\n",
       "      <td>Customer Visit</td>\n",
       "      <td>0 days 01:07:00</td>\n",
       "    </tr>\n",
       "    <tr>\n",
       "      <th>5</th>\n",
       "      <td>2016-01-06 17:15:00</td>\n",
       "      <td>2016-01-06 17:19:00</td>\n",
       "      <td>Business</td>\n",
       "      <td>West Palm Beach</td>\n",
       "      <td>West Palm Beach</td>\n",
       "      <td>4.3</td>\n",
       "      <td>Meal/Entertain</td>\n",
       "      <td>0 days 00:04:00</td>\n",
       "    </tr>\n",
       "    <tr>\n",
       "      <th>6</th>\n",
       "      <td>2016-01-06 17:30:00</td>\n",
       "      <td>2016-01-06 17:35:00</td>\n",
       "      <td>Business</td>\n",
       "      <td>West Palm Beach</td>\n",
       "      <td>Palm Beach</td>\n",
       "      <td>7.1</td>\n",
       "      <td>Meeting</td>\n",
       "      <td>0 days 00:05:00</td>\n",
       "    </tr>\n",
       "    <tr>\n",
       "      <th>7</th>\n",
       "      <td>2016-01-07 13:27:00</td>\n",
       "      <td>2016-01-07 13:33:00</td>\n",
       "      <td>Business</td>\n",
       "      <td>Cary</td>\n",
       "      <td>Cary</td>\n",
       "      <td>0.8</td>\n",
       "      <td>Meeting</td>\n",
       "      <td>0 days 00:06:00</td>\n",
       "    </tr>\n",
       "    <tr>\n",
       "      <th>8</th>\n",
       "      <td>2016-01-10 08:05:00</td>\n",
       "      <td>2016-01-10 08:25:00</td>\n",
       "      <td>Business</td>\n",
       "      <td>Cary</td>\n",
       "      <td>Morrisville</td>\n",
       "      <td>8.3</td>\n",
       "      <td>Meeting</td>\n",
       "      <td>0 days 00:20:00</td>\n",
       "    </tr>\n",
       "    <tr>\n",
       "      <th>9</th>\n",
       "      <td>2016-01-10 12:17:00</td>\n",
       "      <td>2016-01-10 12:44:00</td>\n",
       "      <td>Business</td>\n",
       "      <td>Jamaica</td>\n",
       "      <td>New York</td>\n",
       "      <td>16.5</td>\n",
       "      <td>Customer Visit</td>\n",
       "      <td>0 days 00:27:00</td>\n",
       "    </tr>\n",
       "    <tr>\n",
       "      <th>10</th>\n",
       "      <td>2016-01-10 15:08:00</td>\n",
       "      <td>2016-01-10 15:51:00</td>\n",
       "      <td>Business</td>\n",
       "      <td>New York</td>\n",
       "      <td>Queens</td>\n",
       "      <td>10.8</td>\n",
       "      <td>Meeting</td>\n",
       "      <td>0 days 00:43:00</td>\n",
       "    </tr>\n",
       "    <tr>\n",
       "      <th>11</th>\n",
       "      <td>2016-01-10 18:18:00</td>\n",
       "      <td>2016-01-10 18:53:00</td>\n",
       "      <td>Business</td>\n",
       "      <td>Elmhurst</td>\n",
       "      <td>New York</td>\n",
       "      <td>7.5</td>\n",
       "      <td>Meeting</td>\n",
       "      <td>0 days 00:35:00</td>\n",
       "    </tr>\n",
       "    <tr>\n",
       "      <th>12</th>\n",
       "      <td>2016-01-10 19:12:00</td>\n",
       "      <td>2016-01-10 19:32:00</td>\n",
       "      <td>Business</td>\n",
       "      <td>Midtown</td>\n",
       "      <td>East Harlem</td>\n",
       "      <td>6.2</td>\n",
       "      <td>Meeting</td>\n",
       "      <td>0 days 00:20:00</td>\n",
       "    </tr>\n",
       "    <tr>\n",
       "      <th>13</th>\n",
       "      <td>2016-01-11 08:55:00</td>\n",
       "      <td>2016-01-11 09:21:00</td>\n",
       "      <td>Business</td>\n",
       "      <td>East Harlem</td>\n",
       "      <td>NoMad</td>\n",
       "      <td>6.4</td>\n",
       "      <td>Temporary Site</td>\n",
       "      <td>0 days 00:26:00</td>\n",
       "    </tr>\n",
       "    <tr>\n",
       "      <th>14</th>\n",
       "      <td>2016-01-11 11:56:00</td>\n",
       "      <td>2016-01-11 12:03:00</td>\n",
       "      <td>Business</td>\n",
       "      <td>Flatiron District</td>\n",
       "      <td>Midtown</td>\n",
       "      <td>1.6</td>\n",
       "      <td>Errand/Supplies</td>\n",
       "      <td>0 days 00:07:00</td>\n",
       "    </tr>\n",
       "    <tr>\n",
       "      <th>15</th>\n",
       "      <td>2016-01-11 13:32:00</td>\n",
       "      <td>2016-01-11 13:46:00</td>\n",
       "      <td>Business</td>\n",
       "      <td>Midtown</td>\n",
       "      <td>Midtown East</td>\n",
       "      <td>1.7</td>\n",
       "      <td>Meal/Entertain</td>\n",
       "      <td>0 days 00:14:00</td>\n",
       "    </tr>\n",
       "    <tr>\n",
       "      <th>16</th>\n",
       "      <td>2016-01-11 14:30:00</td>\n",
       "      <td>2016-01-11 14:43:00</td>\n",
       "      <td>Business</td>\n",
       "      <td>Midtown East</td>\n",
       "      <td>Midtown</td>\n",
       "      <td>1.9</td>\n",
       "      <td>Meal/Entertain</td>\n",
       "      <td>0 days 00:13:00</td>\n",
       "    </tr>\n",
       "    <tr>\n",
       "      <th>17</th>\n",
       "      <td>2016-01-12 12:33:00</td>\n",
       "      <td>2016-01-12 12:49:00</td>\n",
       "      <td>Business</td>\n",
       "      <td>Midtown</td>\n",
       "      <td>Hudson Square</td>\n",
       "      <td>1.9</td>\n",
       "      <td>Meal/Entertain</td>\n",
       "      <td>0 days 00:16:00</td>\n",
       "    </tr>\n",
       "    <tr>\n",
       "      <th>18</th>\n",
       "      <td>2016-01-12 12:53:00</td>\n",
       "      <td>2016-01-12 13:09:00</td>\n",
       "      <td>Business</td>\n",
       "      <td>Hudson Square</td>\n",
       "      <td>Lower Manhattan</td>\n",
       "      <td>4.0</td>\n",
       "      <td>Meal/Entertain</td>\n",
       "      <td>0 days 00:16:00</td>\n",
       "    </tr>\n",
       "    <tr>\n",
       "      <th>19</th>\n",
       "      <td>2016-01-12 14:42:00</td>\n",
       "      <td>2016-01-12 14:56:00</td>\n",
       "      <td>Business</td>\n",
       "      <td>Lower Manhattan</td>\n",
       "      <td>Hudson Square</td>\n",
       "      <td>1.8</td>\n",
       "      <td>Errand/Supplies</td>\n",
       "      <td>0 days 00:14:00</td>\n",
       "    </tr>\n",
       "    <tr>\n",
       "      <th>20</th>\n",
       "      <td>2016-01-12 15:13:00</td>\n",
       "      <td>2016-01-12 15:28:00</td>\n",
       "      <td>Business</td>\n",
       "      <td>Hudson Square</td>\n",
       "      <td>Hell's Kitchen</td>\n",
       "      <td>2.4</td>\n",
       "      <td>Customer Visit</td>\n",
       "      <td>0 days 00:15:00</td>\n",
       "    </tr>\n",
       "    <tr>\n",
       "      <th>21</th>\n",
       "      <td>2016-01-12 15:42:00</td>\n",
       "      <td>2016-01-12 15:54:00</td>\n",
       "      <td>Business</td>\n",
       "      <td>Hell's Kitchen</td>\n",
       "      <td>Midtown</td>\n",
       "      <td>2.0</td>\n",
       "      <td>Errand/Supplies</td>\n",
       "      <td>0 days 00:12:00</td>\n",
       "    </tr>\n",
       "    <tr>\n",
       "      <th>22</th>\n",
       "      <td>2016-01-12 16:02:00</td>\n",
       "      <td>2016-01-12 17:00:00</td>\n",
       "      <td>Business</td>\n",
       "      <td>New York</td>\n",
       "      <td>Queens County</td>\n",
       "      <td>15.1</td>\n",
       "      <td>Meeting</td>\n",
       "      <td>0 days 00:58:00</td>\n",
       "    </tr>\n",
       "    <tr>\n",
       "      <th>23</th>\n",
       "      <td>NaT</td>\n",
       "      <td>NaT</td>\n",
       "      <td>Business</td>\n",
       "      <td>Downtown</td>\n",
       "      <td>Gulfton</td>\n",
       "      <td>11.2</td>\n",
       "      <td>Meeting</td>\n",
       "      <td>NaT</td>\n",
       "    </tr>\n",
       "    <tr>\n",
       "      <th>24</th>\n",
       "      <td>NaT</td>\n",
       "      <td>NaT</td>\n",
       "      <td>Business</td>\n",
       "      <td>Gulfton</td>\n",
       "      <td>Downtown</td>\n",
       "      <td>11.8</td>\n",
       "      <td>Meeting</td>\n",
       "      <td>NaT</td>\n",
       "    </tr>\n",
       "  </tbody>\n",
       "</table>\n",
       "</div>"
      ],
      "text/plain": [
       "            START_DATE            END_DATE  CATEGORY              START  \\\n",
       "0  2016-01-01 21:11:00 2016-01-01 21:17:00  Business        Fort Pierce   \n",
       "1  2016-01-02 01:25:00 2016-01-02 01:37:00  Business        Fort Pierce   \n",
       "2  2016-01-02 20:25:00 2016-01-02 20:38:00  Business        Fort Pierce   \n",
       "3  2016-01-05 17:31:00 2016-01-05 17:45:00  Business        Fort Pierce   \n",
       "4  2016-01-06 14:42:00 2016-01-06 15:49:00  Business        Fort Pierce   \n",
       "5  2016-01-06 17:15:00 2016-01-06 17:19:00  Business    West Palm Beach   \n",
       "6  2016-01-06 17:30:00 2016-01-06 17:35:00  Business    West Palm Beach   \n",
       "7  2016-01-07 13:27:00 2016-01-07 13:33:00  Business               Cary   \n",
       "8  2016-01-10 08:05:00 2016-01-10 08:25:00  Business               Cary   \n",
       "9  2016-01-10 12:17:00 2016-01-10 12:44:00  Business            Jamaica   \n",
       "10 2016-01-10 15:08:00 2016-01-10 15:51:00  Business           New York   \n",
       "11 2016-01-10 18:18:00 2016-01-10 18:53:00  Business           Elmhurst   \n",
       "12 2016-01-10 19:12:00 2016-01-10 19:32:00  Business            Midtown   \n",
       "13 2016-01-11 08:55:00 2016-01-11 09:21:00  Business        East Harlem   \n",
       "14 2016-01-11 11:56:00 2016-01-11 12:03:00  Business  Flatiron District   \n",
       "15 2016-01-11 13:32:00 2016-01-11 13:46:00  Business            Midtown   \n",
       "16 2016-01-11 14:30:00 2016-01-11 14:43:00  Business       Midtown East   \n",
       "17 2016-01-12 12:33:00 2016-01-12 12:49:00  Business            Midtown   \n",
       "18 2016-01-12 12:53:00 2016-01-12 13:09:00  Business      Hudson Square   \n",
       "19 2016-01-12 14:42:00 2016-01-12 14:56:00  Business    Lower Manhattan   \n",
       "20 2016-01-12 15:13:00 2016-01-12 15:28:00  Business      Hudson Square   \n",
       "21 2016-01-12 15:42:00 2016-01-12 15:54:00  Business     Hell's Kitchen   \n",
       "22 2016-01-12 16:02:00 2016-01-12 17:00:00  Business           New York   \n",
       "23                 NaT                 NaT  Business           Downtown   \n",
       "24                 NaT                 NaT  Business            Gulfton   \n",
       "\n",
       "               STOP  MILES          PURPOSE         MINUTES  \n",
       "0       Fort Pierce    5.1   Meal/Entertain 0 days 00:06:00  \n",
       "1       Fort Pierce    5.0   Meal/Entertain 0 days 00:12:00  \n",
       "2       Fort Pierce    4.8  Errand/Supplies 0 days 00:13:00  \n",
       "3       Fort Pierce    4.7          Meeting 0 days 00:14:00  \n",
       "4   West Palm Beach   63.7   Customer Visit 0 days 01:07:00  \n",
       "5   West Palm Beach    4.3   Meal/Entertain 0 days 00:04:00  \n",
       "6        Palm Beach    7.1          Meeting 0 days 00:05:00  \n",
       "7              Cary    0.8          Meeting 0 days 00:06:00  \n",
       "8       Morrisville    8.3          Meeting 0 days 00:20:00  \n",
       "9          New York   16.5   Customer Visit 0 days 00:27:00  \n",
       "10           Queens   10.8          Meeting 0 days 00:43:00  \n",
       "11         New York    7.5          Meeting 0 days 00:35:00  \n",
       "12      East Harlem    6.2          Meeting 0 days 00:20:00  \n",
       "13            NoMad    6.4   Temporary Site 0 days 00:26:00  \n",
       "14          Midtown    1.6  Errand/Supplies 0 days 00:07:00  \n",
       "15     Midtown East    1.7   Meal/Entertain 0 days 00:14:00  \n",
       "16          Midtown    1.9   Meal/Entertain 0 days 00:13:00  \n",
       "17    Hudson Square    1.9   Meal/Entertain 0 days 00:16:00  \n",
       "18  Lower Manhattan    4.0   Meal/Entertain 0 days 00:16:00  \n",
       "19    Hudson Square    1.8  Errand/Supplies 0 days 00:14:00  \n",
       "20   Hell's Kitchen    2.4   Customer Visit 0 days 00:15:00  \n",
       "21          Midtown    2.0  Errand/Supplies 0 days 00:12:00  \n",
       "22    Queens County   15.1          Meeting 0 days 00:58:00  \n",
       "23          Gulfton   11.2          Meeting             NaT  \n",
       "24         Downtown   11.8          Meeting             NaT  "
      ]
     },
     "execution_count": 54,
     "metadata": {},
     "output_type": "execute_result"
    }
   ],
   "source": [
    "df.head(25)"
   ]
  },
  {
   "cell_type": "code",
   "execution_count": 55,
   "id": "831ec73d",
   "metadata": {},
   "outputs": [
    {
     "data": {
      "text/plain": [
       "count                          420\n",
       "mean     0 days 00:19:19.571428571\n",
       "std      0 days 00:19:09.334894164\n",
       "min                0 days 00:00:00\n",
       "25%                0 days 00:09:00\n",
       "50%                0 days 00:15:00\n",
       "75%                0 days 00:22:15\n",
       "max                0 days 02:58:00\n",
       "Name: MINUTES, dtype: object"
      ]
     },
     "execution_count": 55,
     "metadata": {},
     "output_type": "execute_result"
    }
   ],
   "source": [
    "df.MINUTES.describe()"
   ]
  },
  {
   "cell_type": "code",
   "execution_count": 56,
   "id": "a544ffb4",
   "metadata": {},
   "outputs": [
    {
     "data": {
      "text/plain": [
       "dtype('<m8[ns]')"
      ]
     },
     "execution_count": 56,
     "metadata": {},
     "output_type": "execute_result"
    }
   ],
   "source": [
    "df.MINUTES.dtype"
   ]
  },
  {
   "cell_type": "code",
   "execution_count": 57,
   "id": "27410552",
   "metadata": {},
   "outputs": [
    {
     "data": {
      "text/html": [
       "<div>\n",
       "<style scoped>\n",
       "    .dataframe tbody tr th:only-of-type {\n",
       "        vertical-align: middle;\n",
       "    }\n",
       "\n",
       "    .dataframe tbody tr th {\n",
       "        vertical-align: top;\n",
       "    }\n",
       "\n",
       "    .dataframe thead th {\n",
       "        text-align: right;\n",
       "    }\n",
       "</style>\n",
       "<table border=\"1\" class=\"dataframe\">\n",
       "  <thead>\n",
       "    <tr style=\"text-align: right;\">\n",
       "      <th></th>\n",
       "      <th>START_DATE</th>\n",
       "      <th>END_DATE</th>\n",
       "      <th>CATEGORY</th>\n",
       "      <th>START</th>\n",
       "      <th>STOP</th>\n",
       "      <th>MILES</th>\n",
       "      <th>PURPOSE</th>\n",
       "      <th>MINUTES</th>\n",
       "    </tr>\n",
       "  </thead>\n",
       "  <tbody>\n",
       "    <tr>\n",
       "      <th>297</th>\n",
       "      <td>2016-04-02 19:38:00</td>\n",
       "      <td>2016-04-02 22:36:00</td>\n",
       "      <td>Business</td>\n",
       "      <td>Jacksonville</td>\n",
       "      <td>Ridgeland</td>\n",
       "      <td>174.2</td>\n",
       "      <td>Customer Visit</td>\n",
       "      <td>0 days 02:58:00</td>\n",
       "    </tr>\n",
       "  </tbody>\n",
       "</table>\n",
       "</div>"
      ],
      "text/plain": [
       "             START_DATE            END_DATE  CATEGORY         START  \\\n",
       "297 2016-04-02 19:38:00 2016-04-02 22:36:00  Business  Jacksonville   \n",
       "\n",
       "          STOP  MILES         PURPOSE         MINUTES  \n",
       "297  Ridgeland  174.2  Customer Visit 0 days 02:58:00  "
      ]
     },
     "execution_count": 57,
     "metadata": {},
     "output_type": "execute_result"
    }
   ],
   "source": [
    "# travel time\n",
    "df[df[\"MINUTES\"] == df[\"MINUTES\"].max()]"
   ]
  },
  {
   "cell_type": "code",
   "execution_count": 58,
   "id": "bace7c7d",
   "metadata": {},
   "outputs": [
    {
     "data": {
      "text/plain": [
       "<Axes: ylabel='MILES'>"
      ]
     },
     "execution_count": 58,
     "metadata": {},
     "output_type": "execute_result"
    },
    {
     "data": {
      "image/png": "[encoded data removed]",
      "text/plain": [
       "<Figure size 640x480 with 1 Axes>"
      ]
     },
     "metadata": {},
     "output_type": "display_data"
    }
   ],
   "source": [
    "sns.boxplot(df.MILES)\n"
   ]
  },
  {
   "cell_type": "markdown",
   "id": "95527677",
   "metadata": {},
   "source": [
    "## Q) what is average trip duration(in minutes) for each category?"
   ]
  },
  {
   "cell_type": "code",
   "execution_count": 59,
   "id": "dc2f5463",
   "metadata": {},
   "outputs": [
    {
     "data": {
      "text/plain": [
       "1078               NaT\n",
       "77     0 days 00:24:00\n",
       "Name: MINUTES, dtype: timedelta64[ns]"
      ]
     },
     "execution_count": 59,
     "metadata": {},
     "output_type": "execute_result"
    }
   ],
   "source": [
    "df.MINUTES[df.CATEGORY.value_counts()]"
   ]
  },
  {
   "cell_type": "code",
   "execution_count": 60,
   "id": "e6c74cd4",
   "metadata": {},
   "outputs": [],
   "source": [
    "avg_duration_by_category = df.groupby('CATEGORY')['MINUTES'].mean()"
   ]
  },
  {
   "cell_type": "code",
   "execution_count": 61,
   "id": "e296d57d",
   "metadata": {},
   "outputs": [
    {
     "data": {
      "text/plain": [
       "CATEGORY\n",
       "Business   0 days 00:19:36.707616707\n",
       "Personal   0 days 00:10:23.076923076\n",
       "Name: MINUTES, dtype: timedelta64[ns]"
      ]
     },
     "execution_count": 61,
     "metadata": {},
     "output_type": "execute_result"
    }
   ],
   "source": [
    "avg_duration_by_category"
   ]
  },
  {
   "cell_type": "markdown",
   "id": "3694308b",
   "metadata": {},
   "source": [
    "## Q)  Total mileage distance driven by each purpose of trip"
   ]
  },
  {
   "cell_type": "code",
   "execution_count": 62,
   "id": "f697b164",
   "metadata": {},
   "outputs": [
    {
     "data": {
      "text/plain": [
       "PURPOSE\n",
       "Airport/Travel      14.953704\n",
       "Between Offices     10.944444\n",
       "Charity ($)         15.100000\n",
       "Commute            180.200000\n",
       "Customer Visit      16.065806\n",
       "Errand/Supplies      5.928902\n",
       "Meal/Entertain       5.773878\n",
       "Meeting             12.652597\n",
       "Moving               4.550000\n",
       "Temporary Site      11.016327\n",
       "Name: MILES, dtype: float64"
      ]
     },
     "execution_count": 62,
     "metadata": {},
     "output_type": "execute_result"
    }
   ],
   "source": [
    "df.groupby('PURPOSE')['MILES'].mean()"
   ]
  },
  {
   "cell_type": "markdown",
   "id": "5ce14c15",
   "metadata": {},
   "source": [
    "## Q) which is the busiest day of the week?"
   ]
  },
  {
   "cell_type": "code",
   "execution_count": 63,
   "id": "629e19eb",
   "metadata": {},
   "outputs": [],
   "source": [
    "import datetime as dt"
   ]
  },
  {
   "cell_type": "code",
   "execution_count": 64,
   "id": "e3dd250b",
   "metadata": {},
   "outputs": [],
   "source": [
    "busiest_day = df['START_DATE'].dt.day_name().value_counts().idxmax()"
   ]
  },
  {
   "cell_type": "code",
   "execution_count": 65,
   "id": "9a0649e6",
   "metadata": {},
   "outputs": [
    {
     "data": {
      "text/plain": [
       "'Friday'"
      ]
     },
     "execution_count": 65,
     "metadata": {},
     "output_type": "execute_result"
    }
   ],
   "source": [
    "busiest_day"
   ]
  },
  {
   "cell_type": "code",
   "execution_count": 66,
   "id": "4451f5d2",
   "metadata": {},
   "outputs": [
    {
     "data": {
      "text/plain": [
       "PURPOSE\n",
       "Meeting            30\n",
       "Temporary Site     21\n",
       "Customer Visit     17\n",
       "Meal/Entertain     12\n",
       "Errand/Supplies     6\n",
       "Between Offices     1\n",
       "Name: count, dtype: int64"
      ]
     },
     "execution_count": 66,
     "metadata": {},
     "output_type": "execute_result"
    }
   ],
   "source": [
    "friday_df = df[df[\"START_DATE\"].dt.day_name() == 'Friday']\n",
    "friday_df['PURPOSE'].value_counts()\n",
    "# friday_df"
   ]
  },
  {
   "cell_type": "code",
   "execution_count": 67,
   "id": "9230bc9a",
   "metadata": {},
   "outputs": [],
   "source": [
    "df[\"HOUR\"] = df[\"START_DATE\"].dt.hour"
   ]
  },
  {
   "cell_type": "code",
   "execution_count": 68,
   "id": "5c7519ea",
   "metadata": {},
   "outputs": [
    {
     "data": {
      "text/html": [
       "<div>\n",
       "<style scoped>\n",
       "    .dataframe tbody tr th:only-of-type {\n",
       "        vertical-align: middle;\n",
       "    }\n",
       "\n",
       "    .dataframe tbody tr th {\n",
       "        vertical-align: top;\n",
       "    }\n",
       "\n",
       "    .dataframe thead th {\n",
       "        text-align: right;\n",
       "    }\n",
       "</style>\n",
       "<table border=\"1\" class=\"dataframe\">\n",
       "  <thead>\n",
       "    <tr style=\"text-align: right;\">\n",
       "      <th></th>\n",
       "      <th>START_DATE</th>\n",
       "      <th>END_DATE</th>\n",
       "      <th>CATEGORY</th>\n",
       "      <th>START</th>\n",
       "      <th>STOP</th>\n",
       "      <th>MILES</th>\n",
       "      <th>PURPOSE</th>\n",
       "      <th>MINUTES</th>\n",
       "      <th>HOUR</th>\n",
       "    </tr>\n",
       "  </thead>\n",
       "  <tbody>\n",
       "    <tr>\n",
       "      <th>0</th>\n",
       "      <td>2016-01-01 21:11:00</td>\n",
       "      <td>2016-01-01 21:17:00</td>\n",
       "      <td>Business</td>\n",
       "      <td>Fort Pierce</td>\n",
       "      <td>Fort Pierce</td>\n",
       "      <td>5.1</td>\n",
       "      <td>Meal/Entertain</td>\n",
       "      <td>0 days 00:06:00</td>\n",
       "      <td>21.0</td>\n",
       "    </tr>\n",
       "    <tr>\n",
       "      <th>1</th>\n",
       "      <td>2016-01-02 01:25:00</td>\n",
       "      <td>2016-01-02 01:37:00</td>\n",
       "      <td>Business</td>\n",
       "      <td>Fort Pierce</td>\n",
       "      <td>Fort Pierce</td>\n",
       "      <td>5.0</td>\n",
       "      <td>Meal/Entertain</td>\n",
       "      <td>0 days 00:12:00</td>\n",
       "      <td>1.0</td>\n",
       "    </tr>\n",
       "    <tr>\n",
       "      <th>2</th>\n",
       "      <td>2016-01-02 20:25:00</td>\n",
       "      <td>2016-01-02 20:38:00</td>\n",
       "      <td>Business</td>\n",
       "      <td>Fort Pierce</td>\n",
       "      <td>Fort Pierce</td>\n",
       "      <td>4.8</td>\n",
       "      <td>Errand/Supplies</td>\n",
       "      <td>0 days 00:13:00</td>\n",
       "      <td>20.0</td>\n",
       "    </tr>\n",
       "    <tr>\n",
       "      <th>3</th>\n",
       "      <td>2016-01-05 17:31:00</td>\n",
       "      <td>2016-01-05 17:45:00</td>\n",
       "      <td>Business</td>\n",
       "      <td>Fort Pierce</td>\n",
       "      <td>Fort Pierce</td>\n",
       "      <td>4.7</td>\n",
       "      <td>Meeting</td>\n",
       "      <td>0 days 00:14:00</td>\n",
       "      <td>17.0</td>\n",
       "    </tr>\n",
       "    <tr>\n",
       "      <th>4</th>\n",
       "      <td>2016-01-06 14:42:00</td>\n",
       "      <td>2016-01-06 15:49:00</td>\n",
       "      <td>Business</td>\n",
       "      <td>Fort Pierce</td>\n",
       "      <td>West Palm Beach</td>\n",
       "      <td>63.7</td>\n",
       "      <td>Customer Visit</td>\n",
       "      <td>0 days 01:07:00</td>\n",
       "      <td>14.0</td>\n",
       "    </tr>\n",
       "    <tr>\n",
       "      <th>...</th>\n",
       "      <td>...</td>\n",
       "      <td>...</td>\n",
       "      <td>...</td>\n",
       "      <td>...</td>\n",
       "      <td>...</td>\n",
       "      <td>...</td>\n",
       "      <td>...</td>\n",
       "      <td>...</td>\n",
       "      <td>...</td>\n",
       "    </tr>\n",
       "    <tr>\n",
       "      <th>1150</th>\n",
       "      <td>NaT</td>\n",
       "      <td>NaT</td>\n",
       "      <td>Business</td>\n",
       "      <td>Kar?chi</td>\n",
       "      <td>Kar?chi</td>\n",
       "      <td>0.7</td>\n",
       "      <td>Meeting</td>\n",
       "      <td>NaT</td>\n",
       "      <td>NaN</td>\n",
       "    </tr>\n",
       "    <tr>\n",
       "      <th>1151</th>\n",
       "      <td>NaT</td>\n",
       "      <td>NaT</td>\n",
       "      <td>Business</td>\n",
       "      <td>Kar?chi</td>\n",
       "      <td>Unknown Location</td>\n",
       "      <td>3.9</td>\n",
       "      <td>Temporary Site</td>\n",
       "      <td>NaT</td>\n",
       "      <td>NaN</td>\n",
       "    </tr>\n",
       "    <tr>\n",
       "      <th>1152</th>\n",
       "      <td>NaT</td>\n",
       "      <td>NaT</td>\n",
       "      <td>Business</td>\n",
       "      <td>Unknown Location</td>\n",
       "      <td>Unknown Location</td>\n",
       "      <td>16.2</td>\n",
       "      <td>Meeting</td>\n",
       "      <td>NaT</td>\n",
       "      <td>NaN</td>\n",
       "    </tr>\n",
       "    <tr>\n",
       "      <th>1153</th>\n",
       "      <td>NaT</td>\n",
       "      <td>NaT</td>\n",
       "      <td>Business</td>\n",
       "      <td>Katunayake</td>\n",
       "      <td>Gampaha</td>\n",
       "      <td>6.4</td>\n",
       "      <td>Temporary Site</td>\n",
       "      <td>NaT</td>\n",
       "      <td>NaN</td>\n",
       "    </tr>\n",
       "    <tr>\n",
       "      <th>1154</th>\n",
       "      <td>NaT</td>\n",
       "      <td>NaT</td>\n",
       "      <td>Business</td>\n",
       "      <td>Gampaha</td>\n",
       "      <td>Ilukwatta</td>\n",
       "      <td>48.2</td>\n",
       "      <td>Temporary Site</td>\n",
       "      <td>NaT</td>\n",
       "      <td>NaN</td>\n",
       "    </tr>\n",
       "  </tbody>\n",
       "</table>\n",
       "<p>1155 rows × 9 columns</p>\n",
       "</div>"
      ],
      "text/plain": [
       "              START_DATE            END_DATE  CATEGORY             START  \\\n",
       "0    2016-01-01 21:11:00 2016-01-01 21:17:00  Business       Fort Pierce   \n",
       "1    2016-01-02 01:25:00 2016-01-02 01:37:00  Business       Fort Pierce   \n",
       "2    2016-01-02 20:25:00 2016-01-02 20:38:00  Business       Fort Pierce   \n",
       "3    2016-01-05 17:31:00 2016-01-05 17:45:00  Business       Fort Pierce   \n",
       "4    2016-01-06 14:42:00 2016-01-06 15:49:00  Business       Fort Pierce   \n",
       "...                  ...                 ...       ...               ...   \n",
       "1150                 NaT                 NaT  Business           Kar?chi   \n",
       "1151                 NaT                 NaT  Business           Kar?chi   \n",
       "1152                 NaT                 NaT  Business  Unknown Location   \n",
       "1153                 NaT                 NaT  Business        Katunayake   \n",
       "1154                 NaT                 NaT  Business           Gampaha   \n",
       "\n",
       "                  STOP  MILES          PURPOSE         MINUTES  HOUR  \n",
       "0          Fort Pierce    5.1   Meal/Entertain 0 days 00:06:00  21.0  \n",
       "1          Fort Pierce    5.0   Meal/Entertain 0 days 00:12:00   1.0  \n",
       "2          Fort Pierce    4.8  Errand/Supplies 0 days 00:13:00  20.0  \n",
       "3          Fort Pierce    4.7          Meeting 0 days 00:14:00  17.0  \n",
       "4      West Palm Beach   63.7   Customer Visit 0 days 01:07:00  14.0  \n",
       "...                ...    ...              ...             ...   ...  \n",
       "1150           Kar?chi    0.7          Meeting             NaT   NaN  \n",
       "1151  Unknown Location    3.9   Temporary Site             NaT   NaN  \n",
       "1152  Unknown Location   16.2          Meeting             NaT   NaN  \n",
       "1153           Gampaha    6.4   Temporary Site             NaT   NaN  \n",
       "1154         Ilukwatta   48.2   Temporary Site             NaT   NaN  \n",
       "\n",
       "[1155 rows x 9 columns]"
      ]
     },
     "execution_count": 68,
     "metadata": {},
     "output_type": "execute_result"
    }
   ],
   "source": [
    "df"
   ]
  },
  {
   "cell_type": "code",
   "execution_count": 69,
   "id": "49b3716f",
   "metadata": {},
   "outputs": [],
   "source": [
    "purpose_by_hour = df.groupby(['HOUR','PURPOSE']).size().unstack().fillna(0).idxmax()"
   ]
  },
  {
   "cell_type": "code",
   "execution_count": 70,
   "id": "ecf45b39",
   "metadata": {},
   "outputs": [
    {
     "data": {
      "text/plain": [
       "PURPOSE\n",
       "Errand/Supplies    14.0\n",
       "Meal/Entertain     13.0\n",
       "Meeting            13.0\n",
       "Customer Visit     18.0\n",
       "Temporary Site     18.0\n",
       "Between Offices    14.0\n",
       "dtype: float64"
      ]
     },
     "execution_count": 70,
     "metadata": {},
     "output_type": "execute_result"
    }
   ],
   "source": [
    "purpose_by_hour"
   ]
  },
  {
   "cell_type": "markdown",
   "id": "7c94a8a1",
   "metadata": {},
   "source": [
    "## Top locations for meals/entertainment purposes during business trips"
   ]
  },
  {
   "cell_type": "code",
   "execution_count": 71,
   "id": "6b10681d",
   "metadata": {},
   "outputs": [],
   "source": [
    "meal_ent = df[(df[\"CATEGORY\"] == \"BUSINESS\") & (df[\"PURPOSE\"] ==\"Meal/Entertain\")]"
   ]
  },
  {
   "cell_type": "code",
   "execution_count": 72,
   "id": "a2bef642",
   "metadata": {},
   "outputs": [
    {
     "data": {
      "text/plain": [
       "<bound method Series.idxmax of Series([], Name: count, dtype: int64)>"
      ]
     },
     "execution_count": 72,
     "metadata": {},
     "output_type": "execute_result"
    }
   ],
   "source": [
    "meal_ent.value_counts().idxmax"
   ]
  },
  {
   "cell_type": "code",
   "execution_count": 73,
   "id": "c306f708",
   "metadata": {},
   "outputs": [
    {
     "data": {
      "text/plain": [
       "'Cary'"
      ]
     },
     "execution_count": 73,
     "metadata": {},
     "output_type": "execute_result"
    }
   ],
   "source": [
    "stops = df[(df[\"CATEGORY\"] == \"Business\") & (df[\"PURPOSE\"] == \"Meal/Entertain\")]\n",
    "stops[\"STOP\"].value_counts().idxmax()"
   ]
  },
  {
   "cell_type": "code",
   "execution_count": 74,
   "id": "11a4b542",
   "metadata": {},
   "outputs": [
    {
     "data": {
      "text/plain": [
       "0       False\n",
       "1       False\n",
       "2       False\n",
       "3       False\n",
       "4       False\n",
       "        ...  \n",
       "1150    False\n",
       "1151    False\n",
       "1152    False\n",
       "1153    False\n",
       "1154    False\n",
       "Name: CATEGORY, Length: 1155, dtype: bool"
      ]
     },
     "execution_count": 74,
     "metadata": {},
     "output_type": "execute_result"
    }
   ],
   "source": [
    "df[\"CATEGORY\"] == \"BUSINESS\""
   ]
  },
  {
   "cell_type": "code",
   "execution_count": 75,
   "id": "a2d12c35",
   "metadata": {},
   "outputs": [
    {
     "data": {
      "text/plain": [
       "0       False\n",
       "1       False\n",
       "2       False\n",
       "3       False\n",
       "4       False\n",
       "        ...  \n",
       "1150    False\n",
       "1151    False\n",
       "1152     True\n",
       "1153    False\n",
       "1154    False\n",
       "Length: 1155, dtype: bool"
      ]
     },
     "execution_count": 75,
     "metadata": {},
     "output_type": "execute_result"
    }
   ],
   "source": [
    "df.duplicated()"
   ]
  },
  {
   "cell_type": "code",
   "execution_count": 76,
   "id": "5d428b08",
   "metadata": {},
   "outputs": [
    {
     "data": {
      "text/html": [
       "<div>\n",
       "<style scoped>\n",
       "    .dataframe tbody tr th:only-of-type {\n",
       "        vertical-align: middle;\n",
       "    }\n",
       "\n",
       "    .dataframe tbody tr th {\n",
       "        vertical-align: top;\n",
       "    }\n",
       "\n",
       "    .dataframe thead th {\n",
       "        text-align: right;\n",
       "    }\n",
       "</style>\n",
       "<table border=\"1\" class=\"dataframe\">\n",
       "  <thead>\n",
       "    <tr style=\"text-align: right;\">\n",
       "      <th></th>\n",
       "      <th>START_DATE</th>\n",
       "      <th>END_DATE</th>\n",
       "      <th>CATEGORY</th>\n",
       "      <th>START</th>\n",
       "      <th>STOP</th>\n",
       "      <th>MILES</th>\n",
       "      <th>PURPOSE</th>\n",
       "      <th>MINUTES</th>\n",
       "      <th>HOUR</th>\n",
       "    </tr>\n",
       "  </thead>\n",
       "  <tbody>\n",
       "    <tr>\n",
       "      <th>0</th>\n",
       "      <td>2016-01-01 21:11:00</td>\n",
       "      <td>2016-01-01 21:17:00</td>\n",
       "      <td>Business</td>\n",
       "      <td>Fort Pierce</td>\n",
       "      <td>Fort Pierce</td>\n",
       "      <td>5.1</td>\n",
       "      <td>Meal/Entertain</td>\n",
       "      <td>0 days 00:06:00</td>\n",
       "      <td>21.0</td>\n",
       "    </tr>\n",
       "    <tr>\n",
       "      <th>1</th>\n",
       "      <td>2016-01-02 01:25:00</td>\n",
       "      <td>2016-01-02 01:37:00</td>\n",
       "      <td>Business</td>\n",
       "      <td>Fort Pierce</td>\n",
       "      <td>Fort Pierce</td>\n",
       "      <td>5.0</td>\n",
       "      <td>Meal/Entertain</td>\n",
       "      <td>0 days 00:12:00</td>\n",
       "      <td>1.0</td>\n",
       "    </tr>\n",
       "    <tr>\n",
       "      <th>2</th>\n",
       "      <td>2016-01-02 20:25:00</td>\n",
       "      <td>2016-01-02 20:38:00</td>\n",
       "      <td>Business</td>\n",
       "      <td>Fort Pierce</td>\n",
       "      <td>Fort Pierce</td>\n",
       "      <td>4.8</td>\n",
       "      <td>Errand/Supplies</td>\n",
       "      <td>0 days 00:13:00</td>\n",
       "      <td>20.0</td>\n",
       "    </tr>\n",
       "    <tr>\n",
       "      <th>3</th>\n",
       "      <td>2016-01-05 17:31:00</td>\n",
       "      <td>2016-01-05 17:45:00</td>\n",
       "      <td>Business</td>\n",
       "      <td>Fort Pierce</td>\n",
       "      <td>Fort Pierce</td>\n",
       "      <td>4.7</td>\n",
       "      <td>Meeting</td>\n",
       "      <td>0 days 00:14:00</td>\n",
       "      <td>17.0</td>\n",
       "    </tr>\n",
       "    <tr>\n",
       "      <th>4</th>\n",
       "      <td>2016-01-06 14:42:00</td>\n",
       "      <td>2016-01-06 15:49:00</td>\n",
       "      <td>Business</td>\n",
       "      <td>Fort Pierce</td>\n",
       "      <td>West Palm Beach</td>\n",
       "      <td>63.7</td>\n",
       "      <td>Customer Visit</td>\n",
       "      <td>0 days 01:07:00</td>\n",
       "      <td>14.0</td>\n",
       "    </tr>\n",
       "    <tr>\n",
       "      <th>...</th>\n",
       "      <td>...</td>\n",
       "      <td>...</td>\n",
       "      <td>...</td>\n",
       "      <td>...</td>\n",
       "      <td>...</td>\n",
       "      <td>...</td>\n",
       "      <td>...</td>\n",
       "      <td>...</td>\n",
       "      <td>...</td>\n",
       "    </tr>\n",
       "    <tr>\n",
       "      <th>1149</th>\n",
       "      <td>NaT</td>\n",
       "      <td>NaT</td>\n",
       "      <td>Business</td>\n",
       "      <td>Kar?chi</td>\n",
       "      <td>Kar?chi</td>\n",
       "      <td>0.8</td>\n",
       "      <td>Customer Visit</td>\n",
       "      <td>NaT</td>\n",
       "      <td>NaN</td>\n",
       "    </tr>\n",
       "    <tr>\n",
       "      <th>1150</th>\n",
       "      <td>NaT</td>\n",
       "      <td>NaT</td>\n",
       "      <td>Business</td>\n",
       "      <td>Kar?chi</td>\n",
       "      <td>Kar?chi</td>\n",
       "      <td>0.7</td>\n",
       "      <td>Meeting</td>\n",
       "      <td>NaT</td>\n",
       "      <td>NaN</td>\n",
       "    </tr>\n",
       "    <tr>\n",
       "      <th>1151</th>\n",
       "      <td>NaT</td>\n",
       "      <td>NaT</td>\n",
       "      <td>Business</td>\n",
       "      <td>Kar?chi</td>\n",
       "      <td>Unknown Location</td>\n",
       "      <td>3.9</td>\n",
       "      <td>Temporary Site</td>\n",
       "      <td>NaT</td>\n",
       "      <td>NaN</td>\n",
       "    </tr>\n",
       "    <tr>\n",
       "      <th>1153</th>\n",
       "      <td>NaT</td>\n",
       "      <td>NaT</td>\n",
       "      <td>Business</td>\n",
       "      <td>Katunayake</td>\n",
       "      <td>Gampaha</td>\n",
       "      <td>6.4</td>\n",
       "      <td>Temporary Site</td>\n",
       "      <td>NaT</td>\n",
       "      <td>NaN</td>\n",
       "    </tr>\n",
       "    <tr>\n",
       "      <th>1154</th>\n",
       "      <td>NaT</td>\n",
       "      <td>NaT</td>\n",
       "      <td>Business</td>\n",
       "      <td>Gampaha</td>\n",
       "      <td>Ilukwatta</td>\n",
       "      <td>48.2</td>\n",
       "      <td>Temporary Site</td>\n",
       "      <td>NaT</td>\n",
       "      <td>NaN</td>\n",
       "    </tr>\n",
       "  </tbody>\n",
       "</table>\n",
       "<p>1103 rows × 9 columns</p>\n",
       "</div>"
      ],
      "text/plain": [
       "              START_DATE            END_DATE  CATEGORY        START  \\\n",
       "0    2016-01-01 21:11:00 2016-01-01 21:17:00  Business  Fort Pierce   \n",
       "1    2016-01-02 01:25:00 2016-01-02 01:37:00  Business  Fort Pierce   \n",
       "2    2016-01-02 20:25:00 2016-01-02 20:38:00  Business  Fort Pierce   \n",
       "3    2016-01-05 17:31:00 2016-01-05 17:45:00  Business  Fort Pierce   \n",
       "4    2016-01-06 14:42:00 2016-01-06 15:49:00  Business  Fort Pierce   \n",
       "...                  ...                 ...       ...          ...   \n",
       "1149                 NaT                 NaT  Business      Kar?chi   \n",
       "1150                 NaT                 NaT  Business      Kar?chi   \n",
       "1151                 NaT                 NaT  Business      Kar?chi   \n",
       "1153                 NaT                 NaT  Business   Katunayake   \n",
       "1154                 NaT                 NaT  Business      Gampaha   \n",
       "\n",
       "                  STOP  MILES          PURPOSE         MINUTES  HOUR  \n",
       "0          Fort Pierce    5.1   Meal/Entertain 0 days 00:06:00  21.0  \n",
       "1          Fort Pierce    5.0   Meal/Entertain 0 days 00:12:00   1.0  \n",
       "2          Fort Pierce    4.8  Errand/Supplies 0 days 00:13:00  20.0  \n",
       "3          Fort Pierce    4.7          Meeting 0 days 00:14:00  17.0  \n",
       "4      West Palm Beach   63.7   Customer Visit 0 days 01:07:00  14.0  \n",
       "...                ...    ...              ...             ...   ...  \n",
       "1149           Kar?chi    0.8   Customer Visit             NaT   NaN  \n",
       "1150           Kar?chi    0.7          Meeting             NaT   NaN  \n",
       "1151  Unknown Location    3.9   Temporary Site             NaT   NaN  \n",
       "1153           Gampaha    6.4   Temporary Site             NaT   NaN  \n",
       "1154         Ilukwatta   48.2   Temporary Site             NaT   NaN  \n",
       "\n",
       "[1103 rows x 9 columns]"
      ]
     },
     "execution_count": 76,
     "metadata": {},
     "output_type": "execute_result"
    }
   ],
   "source": [
    "df.drop_duplicates()"
   ]
  },
  {
   "cell_type": "code",
   "execution_count": 77,
   "id": "d124214c",
   "metadata": {},
   "outputs": [
    {
     "data": {
      "text/plain": [
       "array(['Business', 'Personal'], dtype=object)"
      ]
     },
     "execution_count": 77,
     "metadata": {},
     "output_type": "execute_result"
    }
   ],
   "source": [
    "df['CATEGORY'].unique()"
   ]
  },
  {
   "cell_type": "code",
   "execution_count": 78,
   "id": "012e0928",
   "metadata": {},
   "outputs": [
    {
     "data": {
      "text/plain": [
       "array([  5.1,   5. ,   4.8,   4.7,  63.7,   4.3,   7.1,   0.8,   8.3,\n",
       "        16.5,  10.8,   7.5,   6.2,   6.4,   1.6,   1.7,   1.9,   4. ,\n",
       "         1.8,   2.4,   2. ,  15.1,  11.2,  11.8,  21.9,   3.9,   8. ,\n",
       "        10.4,   7.2,   7.6,  17.1,  40.2,   1. ,   2.3,   1.4,   0.5,\n",
       "        18.7,   3.4,   2.7,  12.9,  19. ,  14.7,  15.7,   4.6,   5.2,\n",
       "        10.1,   5.8,   5.5,   5.7,  19.4,  23.3,   6. ,   9.7,   1.1,\n",
       "         9. ,   7.7,  11.4,   3.2,   5.6,   6.1,   5.3,   3. ,   1.5,\n",
       "        17.3,  13.5,   8.5,   2.6,  17. ,  18. ,   8.4,  11.5,   8.9,\n",
       "         8.1,  13. ,  13.9,  43.7,  14.1,   4.5,   3.6,  21.4,  23.5,\n",
       "        12.7,  10. ,  18.3,   7.3,   3.5,   4.2,  13.6,   2.5,  14.4,\n",
       "        18.4,  23.1,  14.5,   8.8,  22.7,   2.2,  20. ,   3.1,   6.3,\n",
       "        10.6,   9.9,   6.8,   2.1,   3.8,   6.6,  10.9,   4.9,   6.5,\n",
       "         7.8,   2.8,  12.4,   5.9,   9.4,  11.9,  12.8,   1.2,  10.5,\n",
       "        12.5, 136. ,  30.2,  15.5,  12.6,  13.2,   9.2,  12. ,  35.1,\n",
       "        36.5,  57. ,   9.6,   0.9,  25.6,  23. , 144. , 310.3, 201. ,\n",
       "         6.7,   6.9,  27.2,  25.7,  13.8,  28.8,  16.1,  16.4,  11. ,\n",
       "        20.3,   0.7,  77.3,  80.5, 174.2, 159.3,   7.9,   8.7,  19.1,\n",
       "        18.6,  15.9,  15.3,  13.7,  15.2,   8.2,  22.5,  32.8,  14.2,\n",
       "        18.2,   2.9,  20.5,   9.8,  17.6,   9.3,  11.3,  14.9,  14. ,\n",
       "         3.3,  22.3,  16.3,   3.7,  11.6,  15. ,  12.2,  19.3,  16.6,\n",
       "         8.6,  46.9,  30. ,   4.4,   7.4,  13.3,   0.6,   7. ,   1.3,\n",
       "        13.4,  12.3, 195.3,  22.4,  28.1,  41.9,  23.8, 180.2,   4.1,\n",
       "         9.1,   9.5,  14.6,  17.4,  31.7,  31.9,  15.6,  25.9,  16.2,\n",
       "        12.1,  20.2,  17.7,  25.2,  96.2,  35. ,  50.4,  86.6, 156.9,\n",
       "        17.2,  69.1, 195.6,  37.7,  16.7,  28.6,  17.9, 112.6,  33.2,\n",
       "        20.6,  47.7,  44.6,  28.2,  15.4, 107. , 133.6,  91.8,  40.7,\n",
       "        75.7,  29.8,  68.4, 195.9,  45.2,  10.3,  13.1,  43.9,  45.9,\n",
       "        36.6,  43.6,   5.4,  39.2,  18.5,  11.1,  18.9,  10.2, 103. ,\n",
       "        32.3,  23.2,  10.7,  48.2])"
      ]
     },
     "execution_count": 78,
     "metadata": {},
     "output_type": "execute_result"
    }
   ],
   "source": [
    "df['MILES'].unique()"
   ]
  },
  {
   "cell_type": "code",
   "execution_count": 79,
   "id": "83017388",
   "metadata": {},
   "outputs": [
    {
     "data": {
      "text/plain": [
       "array(['Meal/Entertain', 'Errand/Supplies', 'Meeting', 'Customer Visit',\n",
       "       'Temporary Site', 'Between Offices', 'Charity ($)', 'Commute',\n",
       "       'Moving', 'Airport/Travel'], dtype=object)"
      ]
     },
     "execution_count": 79,
     "metadata": {},
     "output_type": "execute_result"
    }
   ],
   "source": [
    "df.PURPOSE.unique()"
   ]
  },
  {
   "cell_type": "code",
   "execution_count": 80,
   "id": "75209dad",
   "metadata": {},
   "outputs": [
    {
     "data": {
      "text/plain": [
       "1155"
      ]
     },
     "execution_count": 80,
     "metadata": {},
     "output_type": "execute_result"
    }
   ],
   "source": [
    "df['START'].notnull().sum()"
   ]
  },
  {
   "cell_type": "code",
   "execution_count": 81,
   "id": "8fb87b9d",
   "metadata": {},
   "outputs": [],
   "source": [
    "subset = df.loc[df['PURPOSE'] == \"Meeting\"]"
   ]
  },
  {
   "cell_type": "code",
   "execution_count": 82,
   "id": "6ec72be2",
   "metadata": {},
   "outputs": [
    {
     "data": {
      "text/html": [
       "<div>\n",
       "<style scoped>\n",
       "    .dataframe tbody tr th:only-of-type {\n",
       "        vertical-align: middle;\n",
       "    }\n",
       "\n",
       "    .dataframe tbody tr th {\n",
       "        vertical-align: top;\n",
       "    }\n",
       "\n",
       "    .dataframe thead th {\n",
       "        text-align: right;\n",
       "    }\n",
       "</style>\n",
       "<table border=\"1\" class=\"dataframe\">\n",
       "  <thead>\n",
       "    <tr style=\"text-align: right;\">\n",
       "      <th></th>\n",
       "      <th>START_DATE</th>\n",
       "      <th>END_DATE</th>\n",
       "      <th>CATEGORY</th>\n",
       "      <th>START</th>\n",
       "      <th>STOP</th>\n",
       "      <th>MILES</th>\n",
       "      <th>PURPOSE</th>\n",
       "      <th>MINUTES</th>\n",
       "      <th>HOUR</th>\n",
       "    </tr>\n",
       "  </thead>\n",
       "  <tbody>\n",
       "    <tr>\n",
       "      <th>3</th>\n",
       "      <td>2016-01-05 17:31:00</td>\n",
       "      <td>2016-01-05 17:45:00</td>\n",
       "      <td>Business</td>\n",
       "      <td>Fort Pierce</td>\n",
       "      <td>Fort Pierce</td>\n",
       "      <td>4.7</td>\n",
       "      <td>Meeting</td>\n",
       "      <td>0 days 00:14:00</td>\n",
       "      <td>17.0</td>\n",
       "    </tr>\n",
       "    <tr>\n",
       "      <th>6</th>\n",
       "      <td>2016-01-06 17:30:00</td>\n",
       "      <td>2016-01-06 17:35:00</td>\n",
       "      <td>Business</td>\n",
       "      <td>West Palm Beach</td>\n",
       "      <td>Palm Beach</td>\n",
       "      <td>7.1</td>\n",
       "      <td>Meeting</td>\n",
       "      <td>0 days 00:05:00</td>\n",
       "      <td>17.0</td>\n",
       "    </tr>\n",
       "    <tr>\n",
       "      <th>7</th>\n",
       "      <td>2016-01-07 13:27:00</td>\n",
       "      <td>2016-01-07 13:33:00</td>\n",
       "      <td>Business</td>\n",
       "      <td>Cary</td>\n",
       "      <td>Cary</td>\n",
       "      <td>0.8</td>\n",
       "      <td>Meeting</td>\n",
       "      <td>0 days 00:06:00</td>\n",
       "      <td>13.0</td>\n",
       "    </tr>\n",
       "    <tr>\n",
       "      <th>8</th>\n",
       "      <td>2016-01-10 08:05:00</td>\n",
       "      <td>2016-01-10 08:25:00</td>\n",
       "      <td>Business</td>\n",
       "      <td>Cary</td>\n",
       "      <td>Morrisville</td>\n",
       "      <td>8.3</td>\n",
       "      <td>Meeting</td>\n",
       "      <td>0 days 00:20:00</td>\n",
       "      <td>8.0</td>\n",
       "    </tr>\n",
       "    <tr>\n",
       "      <th>10</th>\n",
       "      <td>2016-01-10 15:08:00</td>\n",
       "      <td>2016-01-10 15:51:00</td>\n",
       "      <td>Business</td>\n",
       "      <td>New York</td>\n",
       "      <td>Queens</td>\n",
       "      <td>10.8</td>\n",
       "      <td>Meeting</td>\n",
       "      <td>0 days 00:43:00</td>\n",
       "      <td>15.0</td>\n",
       "    </tr>\n",
       "    <tr>\n",
       "      <th>...</th>\n",
       "      <td>...</td>\n",
       "      <td>...</td>\n",
       "      <td>...</td>\n",
       "      <td>...</td>\n",
       "      <td>...</td>\n",
       "      <td>...</td>\n",
       "      <td>...</td>\n",
       "      <td>...</td>\n",
       "      <td>...</td>\n",
       "    </tr>\n",
       "    <tr>\n",
       "      <th>1143</th>\n",
       "      <td>NaT</td>\n",
       "      <td>NaT</td>\n",
       "      <td>Business</td>\n",
       "      <td>Kar?chi</td>\n",
       "      <td>Unknown Location</td>\n",
       "      <td>6.4</td>\n",
       "      <td>Meeting</td>\n",
       "      <td>NaT</td>\n",
       "      <td>NaN</td>\n",
       "    </tr>\n",
       "    <tr>\n",
       "      <th>1144</th>\n",
       "      <td>NaT</td>\n",
       "      <td>NaT</td>\n",
       "      <td>Business</td>\n",
       "      <td>Unknown Location</td>\n",
       "      <td>Kar?chi</td>\n",
       "      <td>12.9</td>\n",
       "      <td>Meeting</td>\n",
       "      <td>NaT</td>\n",
       "      <td>NaN</td>\n",
       "    </tr>\n",
       "    <tr>\n",
       "      <th>1148</th>\n",
       "      <td>NaT</td>\n",
       "      <td>NaT</td>\n",
       "      <td>Business</td>\n",
       "      <td>Kar?chi</td>\n",
       "      <td>Kar?chi</td>\n",
       "      <td>4.6</td>\n",
       "      <td>Meeting</td>\n",
       "      <td>NaT</td>\n",
       "      <td>NaN</td>\n",
       "    </tr>\n",
       "    <tr>\n",
       "      <th>1150</th>\n",
       "      <td>NaT</td>\n",
       "      <td>NaT</td>\n",
       "      <td>Business</td>\n",
       "      <td>Kar?chi</td>\n",
       "      <td>Kar?chi</td>\n",
       "      <td>0.7</td>\n",
       "      <td>Meeting</td>\n",
       "      <td>NaT</td>\n",
       "      <td>NaN</td>\n",
       "    </tr>\n",
       "    <tr>\n",
       "      <th>1152</th>\n",
       "      <td>NaT</td>\n",
       "      <td>NaT</td>\n",
       "      <td>Business</td>\n",
       "      <td>Unknown Location</td>\n",
       "      <td>Unknown Location</td>\n",
       "      <td>16.2</td>\n",
       "      <td>Meeting</td>\n",
       "      <td>NaT</td>\n",
       "      <td>NaN</td>\n",
       "    </tr>\n",
       "  </tbody>\n",
       "</table>\n",
       "<p>308 rows × 9 columns</p>\n",
       "</div>"
      ],
      "text/plain": [
       "              START_DATE            END_DATE  CATEGORY             START  \\\n",
       "3    2016-01-05 17:31:00 2016-01-05 17:45:00  Business       Fort Pierce   \n",
       "6    2016-01-06 17:30:00 2016-01-06 17:35:00  Business   West Palm Beach   \n",
       "7    2016-01-07 13:27:00 2016-01-07 13:33:00  Business              Cary   \n",
       "8    2016-01-10 08:05:00 2016-01-10 08:25:00  Business              Cary   \n",
       "10   2016-01-10 15:08:00 2016-01-10 15:51:00  Business          New York   \n",
       "...                  ...                 ...       ...               ...   \n",
       "1143                 NaT                 NaT  Business           Kar?chi   \n",
       "1144                 NaT                 NaT  Business  Unknown Location   \n",
       "1148                 NaT                 NaT  Business           Kar?chi   \n",
       "1150                 NaT                 NaT  Business           Kar?chi   \n",
       "1152                 NaT                 NaT  Business  Unknown Location   \n",
       "\n",
       "                  STOP  MILES  PURPOSE         MINUTES  HOUR  \n",
       "3          Fort Pierce    4.7  Meeting 0 days 00:14:00  17.0  \n",
       "6           Palm Beach    7.1  Meeting 0 days 00:05:00  17.0  \n",
       "7                 Cary    0.8  Meeting 0 days 00:06:00  13.0  \n",
       "8          Morrisville    8.3  Meeting 0 days 00:20:00   8.0  \n",
       "10              Queens   10.8  Meeting 0 days 00:43:00  15.0  \n",
       "...                ...    ...      ...             ...   ...  \n",
       "1143  Unknown Location    6.4  Meeting             NaT   NaN  \n",
       "1144           Kar?chi   12.9  Meeting             NaT   NaN  \n",
       "1148           Kar?chi    4.6  Meeting             NaT   NaN  \n",
       "1150           Kar?chi    0.7  Meeting             NaT   NaN  \n",
       "1152  Unknown Location   16.2  Meeting             NaT   NaN  \n",
       "\n",
       "[308 rows x 9 columns]"
      ]
     },
     "execution_count": 82,
     "metadata": {},
     "output_type": "execute_result"
    }
   ],
   "source": [
    "subset"
   ]
  },
  {
   "cell_type": "code",
   "execution_count": 83,
   "id": "3a857c60",
   "metadata": {},
   "outputs": [],
   "source": [
    "subset_top3 = df.iloc[0:3, 0:4]"
   ]
  },
  {
   "cell_type": "code",
   "execution_count": 84,
   "id": "22f51116",
   "metadata": {},
   "outputs": [
    {
     "data": {
      "text/html": [
       "<div>\n",
       "<style scoped>\n",
       "    .dataframe tbody tr th:only-of-type {\n",
       "        vertical-align: middle;\n",
       "    }\n",
       "\n",
       "    .dataframe tbody tr th {\n",
       "        vertical-align: top;\n",
       "    }\n",
       "\n",
       "    .dataframe thead th {\n",
       "        text-align: right;\n",
       "    }\n",
       "</style>\n",
       "<table border=\"1\" class=\"dataframe\">\n",
       "  <thead>\n",
       "    <tr style=\"text-align: right;\">\n",
       "      <th></th>\n",
       "      <th>START_DATE</th>\n",
       "      <th>END_DATE</th>\n",
       "      <th>CATEGORY</th>\n",
       "      <th>START</th>\n",
       "    </tr>\n",
       "  </thead>\n",
       "  <tbody>\n",
       "    <tr>\n",
       "      <th>0</th>\n",
       "      <td>2016-01-01 21:11:00</td>\n",
       "      <td>2016-01-01 21:17:00</td>\n",
       "      <td>Business</td>\n",
       "      <td>Fort Pierce</td>\n",
       "    </tr>\n",
       "    <tr>\n",
       "      <th>1</th>\n",
       "      <td>2016-01-02 01:25:00</td>\n",
       "      <td>2016-01-02 01:37:00</td>\n",
       "      <td>Business</td>\n",
       "      <td>Fort Pierce</td>\n",
       "    </tr>\n",
       "    <tr>\n",
       "      <th>2</th>\n",
       "      <td>2016-01-02 20:25:00</td>\n",
       "      <td>2016-01-02 20:38:00</td>\n",
       "      <td>Business</td>\n",
       "      <td>Fort Pierce</td>\n",
       "    </tr>\n",
       "  </tbody>\n",
       "</table>\n",
       "</div>"
      ],
      "text/plain": [
       "           START_DATE            END_DATE  CATEGORY        START\n",
       "0 2016-01-01 21:11:00 2016-01-01 21:17:00  Business  Fort Pierce\n",
       "1 2016-01-02 01:25:00 2016-01-02 01:37:00  Business  Fort Pierce\n",
       "2 2016-01-02 20:25:00 2016-01-02 20:38:00  Business  Fort Pierce"
      ]
     },
     "execution_count": 84,
     "metadata": {},
     "output_type": "execute_result"
    }
   ],
   "source": [
    "subset_top3"
   ]
  },
  {
   "cell_type": "code",
   "execution_count": 85,
   "id": "aecb7f94",
   "metadata": {},
   "outputs": [],
   "source": [
    "subset_1to3 = df.loc[1:2, ['CATEGORY','MILES']]"
   ]
  },
  {
   "cell_type": "code",
   "execution_count": 86,
   "id": "f5d32967",
   "metadata": {},
   "outputs": [
    {
     "data": {
      "text/html": [
       "<div>\n",
       "<style scoped>\n",
       "    .dataframe tbody tr th:only-of-type {\n",
       "        vertical-align: middle;\n",
       "    }\n",
       "\n",
       "    .dataframe tbody tr th {\n",
       "        vertical-align: top;\n",
       "    }\n",
       "\n",
       "    .dataframe thead th {\n",
       "        text-align: right;\n",
       "    }\n",
       "</style>\n",
       "<table border=\"1\" class=\"dataframe\">\n",
       "  <thead>\n",
       "    <tr style=\"text-align: right;\">\n",
       "      <th></th>\n",
       "      <th>CATEGORY</th>\n",
       "      <th>MILES</th>\n",
       "    </tr>\n",
       "  </thead>\n",
       "  <tbody>\n",
       "    <tr>\n",
       "      <th>1</th>\n",
       "      <td>Business</td>\n",
       "      <td>5.0</td>\n",
       "    </tr>\n",
       "    <tr>\n",
       "      <th>2</th>\n",
       "      <td>Business</td>\n",
       "      <td>4.8</td>\n",
       "    </tr>\n",
       "  </tbody>\n",
       "</table>\n",
       "</div>"
      ],
      "text/plain": [
       "   CATEGORY  MILES\n",
       "1  Business    5.0\n",
       "2  Business    4.8"
      ]
     },
     "execution_count": 86,
     "metadata": {},
     "output_type": "execute_result"
    }
   ],
   "source": [
    "subset_1to3"
   ]
  },
  {
   "cell_type": "code",
   "execution_count": 87,
   "id": "2061d465",
   "metadata": {},
   "outputs": [
    {
     "data": {
      "text/html": [
       "<div>\n",
       "<style scoped>\n",
       "    .dataframe tbody tr th:only-of-type {\n",
       "        vertical-align: middle;\n",
       "    }\n",
       "\n",
       "    .dataframe tbody tr th {\n",
       "        vertical-align: top;\n",
       "    }\n",
       "\n",
       "    .dataframe thead th {\n",
       "        text-align: right;\n",
       "    }\n",
       "</style>\n",
       "<table border=\"1\" class=\"dataframe\">\n",
       "  <thead>\n",
       "    <tr style=\"text-align: right;\">\n",
       "      <th></th>\n",
       "      <th>CATEGORY</th>\n",
       "      <th>MILES</th>\n",
       "    </tr>\n",
       "  </thead>\n",
       "  <tbody>\n",
       "    <tr>\n",
       "      <th>1</th>\n",
       "      <td>Business</td>\n",
       "      <td>5.0</td>\n",
       "    </tr>\n",
       "    <tr>\n",
       "      <th>2</th>\n",
       "      <td>Business</td>\n",
       "      <td>4.8</td>\n",
       "    </tr>\n",
       "  </tbody>\n",
       "</table>\n",
       "</div>"
      ],
      "text/plain": [
       "   CATEGORY  MILES\n",
       "1  Business    5.0\n",
       "2  Business    4.8"
      ]
     },
     "execution_count": 87,
     "metadata": {},
     "output_type": "execute_result"
    }
   ],
   "source": [
    "subnet_1to3 =df.iloc[1:3,[2,5]]\n",
    "subnet_1to3"
   ]
  },
  {
   "cell_type": "code",
   "execution_count": null,
   "id": "f8f75c85",
   "metadata": {},
   "outputs": [],
   "source": []
  }
 ],
 "metadata": {
  "kernelspec": {
   "display_name": "Python 3 (ipykernel)",
   "language": "python",
   "name": "python3"
  },
  "language_info": {
   "codemirror_mode": {
    "name": "ipython",
    "version": 3
   },
   "file_extension": ".py",
   "mimetype": "text/x-python",
   "name": "python",
   "nbconvert_exporter": "python",
   "pygments_lexer": "ipython3",
   "version": "3.9.6"
  }
 },
 "nbformat": 4,
 "nbformat_minor": 5
}
