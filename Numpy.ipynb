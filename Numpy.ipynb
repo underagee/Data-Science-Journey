{
  "cells": [
    {
      "cell_type": "code",
      "execution_count": 451,
      "id": "d5548c51",
      "metadata": {
        "id": "d5548c51"
      },
      "outputs": [],
      "source": [
        "import numpy as np"
      ]
    },
    {
      "cell_type": "code",
      "execution_count": 452,
      "id": "yJyLu2DUfdc-",
      "metadata": {
        "colab": {
          "base_uri": "https://localhost:8080/"
        },
        "id": "yJyLu2DUfdc-",
        "outputId": "20870cb1-7606-43dc-a874-1994d63330c2"
      },
      "outputs": [
        {
          "data": {
            "text/plain": [
              "list"
            ]
          },
          "execution_count": 452,
          "metadata": {},
          "output_type": "execute_result"
        }
      ],
      "source": [
        "a = [1,2,3,4]\n",
        "type(a)"
      ]
    },
    {
      "cell_type": "code",
      "execution_count": 453,
      "id": "f10f9dc5",
      "metadata": {
        "id": "f10f9dc5"
      },
      "outputs": [],
      "source": [
        "arr = np.array([1,2,3,4,5])"
      ]
    },
    {
      "cell_type": "code",
      "execution_count": 454,
      "id": "ac5aac5e",
      "metadata": {
        "colab": {
          "base_uri": "https://localhost:8080/"
        },
        "id": "ac5aac5e",
        "outputId": "23655507-0547-44c8-a0e4-577f1f187b39"
      },
      "outputs": [
        {
          "data": {
            "text/plain": [
              "array([1, 2, 3, 4, 5])"
            ]
          },
          "execution_count": 454,
          "metadata": {},
          "output_type": "execute_result"
        }
      ],
      "source": [
        "arr"
      ]
    },
    {
      "cell_type": "code",
      "execution_count": 455,
      "id": "5a875bb0",
      "metadata": {
        "id": "5a875bb0"
      },
      "outputs": [],
      "source": [
        "sum_arr = sum(arr)"
      ]
    },
    {
      "cell_type": "code",
      "execution_count": 456,
      "id": "086b34ef",
      "metadata": {
        "colab": {
          "base_uri": "https://localhost:8080/"
        },
        "id": "086b34ef",
        "outputId": "406cc48c-ddd5-40bc-d993-70c41ec4168b"
      },
      "outputs": [
        {
          "data": {
            "text/plain": [
              "15"
            ]
          },
          "execution_count": 456,
          "metadata": {},
          "output_type": "execute_result"
        }
      ],
      "source": [
        "sum_arr"
      ]
    },
    {
      "cell_type": "code",
      "execution_count": 457,
      "id": "1b3249f4",
      "metadata": {
        "id": "1b3249f4"
      },
      "outputs": [],
      "source": [
        "mean_arr = arr.mean()"
      ]
    },
    {
      "cell_type": "code",
      "execution_count": 458,
      "id": "7121d245",
      "metadata": {
        "id": "7121d245",
        "outputId": "13586c39-d66d-4d24-d176-868a132f9997"
      },
      "outputs": [
        {
          "data": {
            "text/plain": [
              "3.0"
            ]
          },
          "execution_count": 458,
          "metadata": {},
          "output_type": "execute_result"
        }
      ],
      "source": [
        "mean_arr"
      ]
    },
    {
      "cell_type": "code",
      "execution_count": 459,
      "id": "b88160f9",
      "metadata": {
        "id": "b88160f9"
      },
      "outputs": [],
      "source": [
        "square_Arr = np.square(arr)"
      ]
    },
    {
      "cell_type": "code",
      "execution_count": 460,
      "id": "71610107",
      "metadata": {
        "id": "71610107",
        "outputId": "52be7adc-56f0-4e02-eded-7c05aedd3373"
      },
      "outputs": [
        {
          "data": {
            "text/plain": [
              "array([ 1,  4,  9, 16, 25])"
            ]
          },
          "execution_count": 460,
          "metadata": {},
          "output_type": "execute_result"
        }
      ],
      "source": [
        "square_Arr"
      ]
    },
    {
      "cell_type": "code",
      "execution_count": 461,
      "id": "5383faf4",
      "metadata": {
        "id": "5383faf4"
      },
      "outputs": [],
      "source": [
        "mata = np.array([[1,2],[2,3]])"
      ]
    },
    {
      "cell_type": "code",
      "execution_count": 462,
      "id": "0-unqe6KiwDZ",
      "metadata": {
        "colab": {
          "base_uri": "https://localhost:8080/"
        },
        "id": "0-unqe6KiwDZ",
        "outputId": "9cbc5b20-9e0d-4a86-96ec-7633cf4bc826"
      },
      "outputs": [
        {
          "data": {
            "text/plain": [
              "array([[1, 2],\n",
              "       [2, 3]])"
            ]
          },
          "execution_count": 462,
          "metadata": {},
          "output_type": "execute_result"
        }
      ],
      "source": [
        "mata"
      ]
    },
    {
      "cell_type": "code",
      "execution_count": 463,
      "id": "cf63ee76",
      "metadata": {
        "id": "cf63ee76"
      },
      "outputs": [],
      "source": [
        "matb = np.array([[4,5,4],[5,6,2]])"
      ]
    },
    {
      "cell_type": "code",
      "execution_count": 464,
      "id": "y3hdzK28iykL",
      "metadata": {
        "colab": {
          "base_uri": "https://localhost:8080/"
        },
        "id": "y3hdzK28iykL",
        "outputId": "ba282a6b-3473-4d0e-e5e9-859a83510f4d"
      },
      "outputs": [
        {
          "data": {
            "text/plain": [
              "array([[4, 5, 4],\n",
              "       [5, 6, 2]])"
            ]
          },
          "execution_count": 464,
          "metadata": {},
          "output_type": "execute_result"
        }
      ],
      "source": [
        "matb"
      ]
    },
    {
      "cell_type": "code",
      "execution_count": 465,
      "id": "1aec337f",
      "metadata": {
        "id": "1aec337f"
      },
      "outputs": [],
      "source": [
        "dot = np.dot(mata, matb)"
      ]
    },
    {
      "cell_type": "code",
      "execution_count": 466,
      "id": "93c3026b",
      "metadata": {
        "colab": {
          "base_uri": "https://localhost:8080/"
        },
        "id": "93c3026b",
        "outputId": "04674345-ce99-4754-8527-48277210aae5"
      },
      "outputs": [
        {
          "data": {
            "text/plain": [
              "array([[14, 17,  8],\n",
              "       [23, 28, 14]])"
            ]
          },
          "execution_count": 466,
          "metadata": {},
          "output_type": "execute_result"
        }
      ],
      "source": [
        "dot"
      ]
    },
    {
      "cell_type": "code",
      "execution_count": 467,
      "id": "aad64f5a",
      "metadata": {
        "colab": {
          "base_uri": "https://localhost:8080/"
        },
        "id": "aad64f5a",
        "outputId": "5aff5066-1ea6-4e4b-e4d1-fb72fea5f0bc"
      },
      "outputs": [
        {
          "data": {
            "text/plain": [
              "numpy.ndarray"
            ]
          },
          "execution_count": 467,
          "metadata": {},
          "output_type": "execute_result"
        }
      ],
      "source": [
        "type(arr)"
      ]
    },
    {
      "cell_type": "code",
      "execution_count": 468,
      "id": "a28c48b4",
      "metadata": {
        "id": "a28c48b4"
      },
      "outputs": [],
      "source": [
        "mat = np.array([\n",
        "               [1,2,4,3],\n",
        "                [4,53,2,6]\n",
        "])"
      ]
    },
    {
      "cell_type": "code",
      "execution_count": 469,
      "id": "Jpei5IScjZXF",
      "metadata": {
        "colab": {
          "base_uri": "https://localhost:8080/"
        },
        "id": "Jpei5IScjZXF",
        "outputId": "51b82bd7-4ed2-4da0-fcc1-e4180457d2b9"
      },
      "outputs": [
        {
          "data": {
            "text/plain": [
              "(2, 4)"
            ]
          },
          "execution_count": 469,
          "metadata": {},
          "output_type": "execute_result"
        }
      ],
      "source": [
        "mat.shape"
      ]
    },
    {
      "cell_type": "code",
      "execution_count": 470,
      "id": "33733e66",
      "metadata": {
        "id": "33733e66"
      },
      "outputs": [],
      "source": [
        "trans_mat = mat.T"
      ]
    },
    {
      "cell_type": "code",
      "execution_count": 471,
      "id": "9XIS9jhEj5Kv",
      "metadata": {
        "colab": {
          "base_uri": "https://localhost:8080/"
        },
        "id": "9XIS9jhEj5Kv",
        "outputId": "a89ab8e0-89f2-4dd9-ccbf-3bd98b00f809"
      },
      "outputs": [
        {
          "data": {
            "text/plain": [
              "array([[ 1,  4],\n",
              "       [ 2, 53],\n",
              "       [ 4,  2],\n",
              "       [ 3,  6]])"
            ]
          },
          "execution_count": 471,
          "metadata": {},
          "output_type": "execute_result"
        }
      ],
      "source": [
        "trans_mat"
      ]
    },
    {
      "cell_type": "code",
      "execution_count": 472,
      "id": "-im1Z8_-kCIi",
      "metadata": {
        "colab": {
          "base_uri": "https://localhost:8080/"
        },
        "id": "-im1Z8_-kCIi",
        "outputId": "737f64d0-5fe0-455b-df57-1c27ba4a17d7"
      },
      "outputs": [
        {
          "data": {
            "text/plain": [
              "(4, 2)"
            ]
          },
          "execution_count": 472,
          "metadata": {},
          "output_type": "execute_result"
        }
      ],
      "source": [
        "trans_mat.shape"
      ]
    },
    {
      "cell_type": "code",
      "execution_count": 473,
      "id": "ae59b03c",
      "metadata": {
        "colab": {
          "base_uri": "https://localhost:8080/"
        },
        "id": "ae59b03c",
        "outputId": "358c6707-53b0-4790-b2b9-81371abc275f"
      },
      "outputs": [
        {
          "data": {
            "text/plain": [
              "array([2, 3])"
            ]
          },
          "execution_count": 473,
          "metadata": {},
          "output_type": "execute_result"
        }
      ],
      "source": [
        "arr[1:3]"
      ]
    },
    {
      "cell_type": "code",
      "execution_count": 474,
      "id": "49cd39cc",
      "metadata": {
        "id": "49cd39cc"
      },
      "outputs": [],
      "source": [
        "random_arr = np.random.rand(3,3)"
      ]
    },
    {
      "cell_type": "code",
      "execution_count": 475,
      "id": "3bab5f7b",
      "metadata": {
        "colab": {
          "base_uri": "https://localhost:8080/"
        },
        "id": "3bab5f7b",
        "outputId": "9cad184c-39b4-4414-8c28-c6ed3643aae5"
      },
      "outputs": [
        {
          "data": {
            "text/plain": [
              "array([[0.98734878, 0.73947034, 0.23595541],\n",
              "       [0.19026036, 0.89854381, 0.62257323],\n",
              "       [0.84191217, 0.53692833, 0.49828669]])"
            ]
          },
          "execution_count": 475,
          "metadata": {},
          "output_type": "execute_result"
        }
      ],
      "source": [
        "random_arr"
      ]
    },
    {
      "cell_type": "code",
      "execution_count": 48,
      "id": "50212f2f",
      "metadata": {
        "id": "50212f2f"
      },
      "outputs": [],
      "source": [
        "arr_range = np.arange(0,40,3)"
      ]
    },
    {
      "cell_type": "code",
      "execution_count": 49,
      "id": "6d36b923",
      "metadata": {
        "colab": {
          "base_uri": "https://localhost:8080/"
        },
        "id": "6d36b923",
        "outputId": "3d7399cd-2e3f-4b2b-edad-627565c27424"
      },
      "outputs": [
        {
          "data": {
            "text/plain": [
              "array([ 0,  3,  6,  9, 12, 15, 18, 21, 24, 27, 30, 33, 36, 39])"
            ]
          },
          "execution_count": 49,
          "metadata": {},
          "output_type": "execute_result"
        }
      ],
      "source": [
        "arr_range"
      ]
    },
    {
      "cell_type": "code",
      "execution_count": 50,
      "id": "808cfb3d",
      "metadata": {
        "id": "808cfb3d"
      },
      "outputs": [],
      "source": [
        "zero_arr = np.zeros((2,4))"
      ]
    },
    {
      "cell_type": "code",
      "execution_count": 51,
      "id": "ececdcee",
      "metadata": {
        "colab": {
          "base_uri": "https://localhost:8080/"
        },
        "id": "ececdcee",
        "outputId": "17f9c9cb-d6c4-4a1c-84e3-0ab132fd5ed5"
      },
      "outputs": [
        {
          "data": {
            "text/plain": [
              "array([[0., 0., 0., 0.],\n",
              "       [0., 0., 0., 0.]])"
            ]
          },
          "execution_count": 51,
          "metadata": {},
          "output_type": "execute_result"
        }
      ],
      "source": [
        "zero_arr"
      ]
    },
    {
      "cell_type": "code",
      "execution_count": 53,
      "id": "30eb8eb3",
      "metadata": {
        "id": "30eb8eb3"
      },
      "outputs": [],
      "source": [
        "ones_arr = np.ones((3,6))"
      ]
    },
    {
      "cell_type": "code",
      "execution_count": 54,
      "id": "d12b87e6",
      "metadata": {
        "colab": {
          "base_uri": "https://localhost:8080/"
        },
        "id": "d12b87e6",
        "outputId": "4ff95bd2-6fd4-443b-a91f-ea16e8bf3389"
      },
      "outputs": [
        {
          "data": {
            "text/plain": [
              "array([[1., 1., 1., 1., 1., 1.],\n",
              "       [1., 1., 1., 1., 1., 1.],\n",
              "       [1., 1., 1., 1., 1., 1.]])"
            ]
          },
          "execution_count": 54,
          "metadata": {},
          "output_type": "execute_result"
        }
      ],
      "source": [
        "ones_arr"
      ]
    },
    {
      "cell_type": "code",
      "execution_count": 55,
      "id": "2e9f26da",
      "metadata": {
        "id": "2e9f26da"
      },
      "outputs": [],
      "source": [
        "reshape_arr = ones_arr.reshape((2,9))"
      ]
    },
    {
      "cell_type": "code",
      "execution_count": 56,
      "id": "970966b5",
      "metadata": {
        "colab": {
          "base_uri": "https://localhost:8080/"
        },
        "id": "970966b5",
        "outputId": "805f963f-96e6-42ea-b0eb-62e9e41554fa"
      },
      "outputs": [
        {
          "data": {
            "text/plain": [
              "array([[1., 1., 1., 1., 1., 1., 1., 1., 1.],\n",
              "       [1., 1., 1., 1., 1., 1., 1., 1., 1.]])"
            ]
          },
          "execution_count": 56,
          "metadata": {},
          "output_type": "execute_result"
        }
      ],
      "source": [
        "reshape_arr"
      ]
    },
    {
      "cell_type": "code",
      "execution_count": 64,
      "id": "EzNzsWbMmEfi",
      "metadata": {
        "colab": {
          "base_uri": "https://localhost:8080/"
        },
        "id": "EzNzsWbMmEfi",
        "outputId": "3dbeb5ec-b3a8-4fa2-fc84-207dcecbfee0"
      },
      "outputs": [
        {
          "name": "stdout",
          "output_type": "stream",
          "text": [
            "91\n"
          ]
        }
      ],
      "source": [
        "mat = np.array([\n",
        "               [1,2,3],\n",
        "                [4,5,6]\n",
        "])\n",
        "print(np.sum(mat**2))"
      ]
    },
    {
      "cell_type": "code",
      "execution_count": 67,
      "id": "7E6IeAYBoLNC",
      "metadata": {
        "id": "7E6IeAYBoLNC"
      },
      "outputs": [],
      "source": [
        "twice = np.sum(mat)*2"
      ]
    },
    {
      "cell_type": "code",
      "execution_count": 68,
      "id": "H2lk7_YjpHJX",
      "metadata": {
        "colab": {
          "base_uri": "https://localhost:8080/"
        },
        "id": "H2lk7_YjpHJX",
        "outputId": "1077ebe8-70af-4a6b-9e49-b9079339600c"
      },
      "outputs": [
        {
          "data": {
            "text/plain": [
              "42"
            ]
          },
          "execution_count": 68,
          "metadata": {},
          "output_type": "execute_result"
        }
      ],
      "source": [
        "twice"
      ]
    },
    {
      "cell_type": "code",
      "execution_count": 72,
      "id": "NpsY9XrhpW9T",
      "metadata": {
        "colab": {
          "base_uri": "https://localhost:8080/"
        },
        "id": "NpsY9XrhpW9T",
        "outputId": "51d49898-87ac-4faa-a5e6-2f4a1abaacd1"
      },
      "outputs": [
        {
          "data": {
            "text/plain": [
              "9"
            ]
          },
          "execution_count": 72,
          "metadata": {},
          "output_type": "execute_result"
        }
      ],
      "source": [
        "np.sum(mat[mat % 2 > 0])"
      ]
    },
    {
      "cell_type": "code",
      "execution_count": 73,
      "id": "l1HM0ByApxI2",
      "metadata": {
        "id": "l1HM0ByApxI2"
      },
      "outputs": [],
      "source": [
        "arr = np.array([1,2,3])\n",
        "arr2 = np.array([0.1,0.2,0.3])"
      ]
    },
    {
      "cell_type": "code",
      "execution_count": 75,
      "id": "wrCDKzSaqkps",
      "metadata": {
        "colab": {
          "base_uri": "https://localhost:8080/"
        },
        "id": "wrCDKzSaqkps",
        "outputId": "3ca8ce87-023a-4a96-e71c-d066a3d0fb53"
      },
      "outputs": [
        {
          "data": {
            "text/plain": [
              "273"
            ]
          },
          "execution_count": 75,
          "metadata": {},
          "output_type": "execute_result"
        }
      ],
      "source": [
        "np.sum(arr+89)"
      ]
    },
    {
      "cell_type": "code",
      "execution_count": null,
      "id": "I3uLfRmOqndL",
      "metadata": {
        "id": "I3uLfRmOqndL"
      },
      "outputs": [],
      "source": []
    }
  ],
  "metadata": {
    "colab": {
      "provenance": []
    },
    "kernelspec": {
      "display_name": "Python 3 (ipykernel)",
      "language": "python",
      "name": "python3"
    },
    "language_info": {
      "codemirror_mode": {
        "name": "ipython",
        "version": 3
      },
      "file_extension": ".py",
      "mimetype": "text/x-python",
      "name": "python",
      "nbconvert_exporter": "python",
      "pygments_lexer": "ipython3",
      "version": "3.11.7"
    }
  },
  "nbformat": 4,
  "nbformat_minor": 5
}
