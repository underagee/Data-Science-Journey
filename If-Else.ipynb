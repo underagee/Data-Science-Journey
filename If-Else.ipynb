{
 "cells": [
  {
   "cell_type": "code",
   "execution_count": 8,
   "id": "0d825cc2",
   "metadata": {},
   "outputs": [
    {
     "name": "stdout",
     "output_type": "stream",
     "text": [
      "Enter a age number:50\n",
      "Age 50 is equal to 50\n"
     ]
    }
   ],
   "source": [
    "age = int(input(\"Enter a age number:\"))\n",
    "\n",
    "if age>50:\n",
    "    print(f\"Person is having age {age} which is greater than 50\")\n",
    "elif age == 50:\n",
    "    print(f\"Age {age} is equal to 50\")\n",
    "elif age>40:\n",
    "    print(f\"Age {age} less than 50 but greater than 40\")\n",
    "else:\n",
    "    print(f\"Age {age} is less than 50\")\n",
    "    "
   ]
  },
  {
   "cell_type": "code",
   "execution_count": 11,
   "id": "eeb609a5",
   "metadata": {},
   "outputs": [
    {
     "name": "stdout",
     "output_type": "stream",
     "text": [
      "enter a num:57\n"
     ]
    }
   ],
   "source": [
    "num = int(input(\"enter a num:\"))"
   ]
  },
  {
   "cell_type": "code",
   "execution_count": 12,
   "id": "c0107968",
   "metadata": {},
   "outputs": [
    {
     "name": "stdout",
     "output_type": "stream",
     "text": [
      "57 is Odd\n"
     ]
    }
   ],
   "source": [
    "if num % 2 == 0:\n",
    "    print(f\"{num} is even\")\n",
    "else:\n",
    "    print(f\"{num} is Odd\")"
   ]
  },
  {
   "cell_type": "code",
   "execution_count": 20,
   "id": "8f8fbc2e",
   "metadata": {},
   "outputs": [
    {
     "name": "stdout",
     "output_type": "stream",
     "text": [
      "even\n"
     ]
    }
   ],
   "source": [
    "x = 10\n",
    "message = \"even\" if x%2 == 0 else \"odd\"\n",
    "print(message)"
   ]
  },
  {
   "cell_type": "code",
   "execution_count": 16,
   "id": "e5dc9bb9",
   "metadata": {},
   "outputs": [],
   "source": [
    "year = 2025"
   ]
  },
  {
   "cell_type": "code",
   "execution_count": 18,
   "id": "af627ddc",
   "metadata": {},
   "outputs": [
    {
     "name": "stdout",
     "output_type": "stream",
     "text": [
      "2025 is a non-leap year\n"
     ]
    }
   ],
   "source": [
    "if year % 4 == 0 and year % 100 != 0:\n",
    "    print(f\"{year} is a leap year\")\n",
    "else:\n",
    "    print(f\"{year} is a non-leap year\")\n",
    "    "
   ]
  },
  {
   "cell_type": "code",
   "execution_count": 22,
   "id": "79ea8e03",
   "metadata": {},
   "outputs": [
    {
     "name": "stdout",
     "output_type": "stream",
     "text": [
      "leap year\n"
     ]
    }
   ],
   "source": [
    "year=2024\n",
    "message=\"leap year\" if year % 4== 0 and year %100 != 0 else \"non-leap year\"\n",
    "print(message)"
   ]
  },
  {
   "cell_type": "code",
   "execution_count": 27,
   "id": "2c06cdbb",
   "metadata": {},
   "outputs": [
    {
     "name": "stdout",
     "output_type": "stream",
     "text": [
      "enter the side of triangle:1\n",
      "enter the side of triangle:2\n",
      "enter the side of triangle:1\n",
      "the triangle is isoceles\n"
     ]
    }
   ],
   "source": [
    "a=int(input(\"enter the side of triangle:\"))\n",
    "b=int(input(\"enter the side of triangle:\"))\n",
    "c=int(input(\"enter the side of triangle:\"))\n",
    "if a==b==c:\n",
    "    print(\"the triangle is equilateral\")\n",
    "elif a==b or b==c or a==c:\n",
    "    print(\"the triangle is isoceles\")\n",
    "else:\n",
    "    print(\"the triangle is scalen\")"
   ]
  },
  {
   "cell_type": "code",
   "execution_count": 43,
   "id": "74b9b9ee",
   "metadata": {},
   "outputs": [
    {
     "name": "stdout",
     "output_type": "stream",
     "text": [
      "enter the num:9\n",
      "Non-Prime number\n"
     ]
    }
   ],
   "source": [
    "num=int(input(\"enter the num:\"))\n",
    "for i in range(2, num):\n",
    "    if num % i==0:\n",
    "        flag = 0\n",
    "        break    ## stops the execution inside loops, conditional statements\n",
    "    else :\n",
    "        flag = 1\n",
    "    \n",
    "if flag == 0:\n",
    "    print(\"Non-Prime number\")\n",
    "else:\n",
    "    print(\"Prime number\")"
   ]
  },
  {
   "cell_type": "code",
   "execution_count": null,
   "id": "7f24f14d",
   "metadata": {},
   "outputs": [],
   "source": []
  }
 ],
 "metadata": {
  "kernelspec": {
   "display_name": "Python 3 (ipykernel)",
   "language": "python",
   "name": "python3"
  },
  "language_info": {
   "codemirror_mode": {
    "name": "ipython",
    "version": 3
   },
   "file_extension": ".py",
   "mimetype": "text/x-python",
   "name": "python",
   "nbconvert_exporter": "python",
   "pygments_lexer": "ipython3",
   "version": "3.11.3"
  }
 },
 "nbformat": 4,
 "nbformat_minor": 5
}
