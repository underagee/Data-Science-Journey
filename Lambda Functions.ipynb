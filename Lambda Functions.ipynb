{
 "cells": [
  {
   "cell_type": "code",
   "execution_count": 1,
   "id": "5c2c479a",
   "metadata": {},
   "outputs": [
    {
     "name": "stdout",
     "output_type": "stream",
     "text": [
      "100\n"
     ]
    }
   ],
   "source": [
    "def square(x):\n",
    "    return x*x\n",
    "\n",
    "sq = square(10)\n",
    "print(sq)"
   ]
  },
  {
   "cell_type": "code",
   "execution_count": 24,
   "id": "8e338c73",
   "metadata": {},
   "outputs": [],
   "source": [
    "sq_lambda = lambda x: x*x"
   ]
  },
  {
   "cell_type": "code",
   "execution_count": 27,
   "id": "27985f79",
   "metadata": {},
   "outputs": [
    {
     "name": "stdout",
     "output_type": "stream",
     "text": [
      "enter nunber10\n"
     ]
    },
    {
     "data": {
      "text/plain": [
       "100"
      ]
     },
     "execution_count": 27,
     "metadata": {},
     "output_type": "execute_result"
    }
   ],
   "source": [
    "user = int(input(\"enter nunber\"))\n",
    "sq_lambda(user)"
   ]
  },
  {
   "cell_type": "code",
   "execution_count": 5,
   "id": "4d9bd5ba",
   "metadata": {},
   "outputs": [
    {
     "data": {
      "text/plain": [
       "6"
      ]
     },
     "execution_count": 5,
     "metadata": {},
     "output_type": "execute_result"
    }
   ],
   "source": [
    "add = lambda a,b: a+b\n",
    "add(2,4)"
   ]
  },
  {
   "cell_type": "code",
   "execution_count": 23,
   "id": "e289b42c",
   "metadata": {},
   "outputs": [
    {
     "data": {
      "text/plain": [
       "False"
      ]
     },
     "execution_count": 23,
     "metadata": {},
     "output_type": "execute_result"
    }
   ],
   "source": [
    "is_even = lambda x: True if x % 2 ==0  else False\n",
    "is_even(5)"
   ]
  },
  {
   "cell_type": "code",
   "execution_count": 8,
   "id": "d1107900",
   "metadata": {},
   "outputs": [],
   "source": [
    "numbers = [1,2,3,4,5,6,7,8,9,10]\n",
    "even = list(filter(lambda x : x%2 == 0, numbers))"
   ]
  },
  {
   "cell_type": "code",
   "execution_count": 9,
   "id": "6ccb20eb",
   "metadata": {},
   "outputs": [
    {
     "data": {
      "text/plain": [
       "[2, 4, 6, 8, 10]"
      ]
     },
     "execution_count": 9,
     "metadata": {},
     "output_type": "execute_result"
    }
   ],
   "source": [
    "even"
   ]
  },
  {
   "cell_type": "code",
   "execution_count": 11,
   "id": "479d3013",
   "metadata": {},
   "outputs": [],
   "source": [
    "numbers = [1,2,3,4,5,6,7,8,9,10]\n",
    "square = list(map(lambda x : x * x, numbers))"
   ]
  },
  {
   "cell_type": "code",
   "execution_count": 12,
   "id": "54d5b2de",
   "metadata": {},
   "outputs": [
    {
     "data": {
      "text/plain": [
       "[1, 4, 9, 16, 25, 36, 49, 64, 81, 100]"
      ]
     },
     "execution_count": 12,
     "metadata": {},
     "output_type": "execute_result"
    }
   ],
   "source": [
    "square"
   ]
  },
  {
   "cell_type": "code",
   "execution_count": 16,
   "id": "86a0709e",
   "metadata": {},
   "outputs": [],
   "source": [
    "from functools import reduce"
   ]
  },
  {
   "cell_type": "code",
   "execution_count": 19,
   "id": "32d746c8",
   "metadata": {},
   "outputs": [],
   "source": [
    "numbers = [1,2,3,14,5,6,7,8,9,10]\n",
    "max_n = reduce(lambda x, y : x if x>y else y, numbers)"
   ]
  },
  {
   "cell_type": "code",
   "execution_count": 20,
   "id": "63144ade",
   "metadata": {},
   "outputs": [
    {
     "data": {
      "text/plain": [
       "14"
      ]
     },
     "execution_count": 20,
     "metadata": {},
     "output_type": "execute_result"
    }
   ],
   "source": [
    "max_n"
   ]
  },
  {
   "cell_type": "code",
   "execution_count": 29,
   "id": "01765d36",
   "metadata": {},
   "outputs": [
    {
     "name": "stdout",
     "output_type": "stream",
     "text": [
      "[0, 1, 1, 2, 3, 5, 8]\n"
     ]
    }
   ],
   "source": [
    "fibonacci = lambda n : n if n<=1 else fibonacci(n-1) + fibonacci(n-2)\n",
    "print([fibonacci(i) for i in range(7)])"
   ]
  },
  {
   "cell_type": "code",
   "execution_count": 30,
   "id": "17dd2286",
   "metadata": {},
   "outputs": [
    {
     "name": "stdout",
     "output_type": "stream",
     "text": [
      "55\n"
     ]
    }
   ],
   "source": [
    "print(fibonacci(10))"
   ]
  },
  {
   "cell_type": "code",
   "execution_count": 37,
   "id": "25e271b9",
   "metadata": {},
   "outputs": [],
   "source": [
    "scores = {'Alice' : 80, \"Bob\": 65, 'Charlie' :83,'Amanda':20}\n",
    "sorted_score = sorted(scores.items())"
   ]
  },
  {
   "cell_type": "code",
   "execution_count": 38,
   "id": "16d0f8a2",
   "metadata": {},
   "outputs": [
    {
     "data": {
      "text/plain": [
       "[('Alice', 80), ('Amanda', 20), ('Bob', 65), ('Charlie', 83)]"
      ]
     },
     "execution_count": 38,
     "metadata": {},
     "output_type": "execute_result"
    }
   ],
   "source": [
    "sorted_score"
   ]
  },
  {
   "cell_type": "code",
   "execution_count": 41,
   "id": "ef9fbc28",
   "metadata": {},
   "outputs": [],
   "source": [
    "sorted_lambda = sorted(scores.items(), key = lambda x : x[0] )"
   ]
  },
  {
   "cell_type": "code",
   "execution_count": 42,
   "id": "c73b2030",
   "metadata": {},
   "outputs": [
    {
     "data": {
      "text/plain": [
       "[('Alice', 80), ('Amanda', 20), ('Bob', 65), ('Charlie', 83)]"
      ]
     },
     "execution_count": 42,
     "metadata": {},
     "output_type": "execute_result"
    }
   ],
   "source": [
    "sorted_lambda"
   ]
  },
  {
   "cell_type": "code",
   "execution_count": null,
   "id": "8a5b4f54",
   "metadata": {},
   "outputs": [],
   "source": []
  }
 ],
 "metadata": {
  "kernelspec": {
   "display_name": "Python 3 (ipykernel)",
   "language": "python",
   "name": "python3"
  },
  "language_info": {
   "codemirror_mode": {
    "name": "ipython",
    "version": 3
   },
   "file_extension": ".py",
   "mimetype": "text/x-python",
   "name": "python",
   "nbconvert_exporter": "python",
   "pygments_lexer": "ipython3",
   "version": "3.11.3"
  }
 },
 "nbformat": 4,
 "nbformat_minor": 5
}
