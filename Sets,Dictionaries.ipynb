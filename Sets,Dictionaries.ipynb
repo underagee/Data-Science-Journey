{
 "cells": [
  {
   "cell_type": "code",
   "execution_count": 2,
   "id": "6ae7c995",
   "metadata": {},
   "outputs": [],
   "source": [
    "s = {1,2,3,4,-1,-2,-3,0,0,0,1,2,\"Hello\",\"My\",\"Interest\",\"is\",\"in\",'python'}"
   ]
  },
  {
   "cell_type": "code",
   "execution_count": 3,
   "id": "8dd4bdae",
   "metadata": {},
   "outputs": [
    {
     "data": {
      "text/plain": [
       "{-1, -2, -3, 0, 1, 2, 3, 4, 'Hello', 'Interest', 'My', 'in', 'is', 'python'}"
      ]
     },
     "execution_count": 3,
     "metadata": {},
     "output_type": "execute_result"
    }
   ],
   "source": [
    "s"
   ]
  },
  {
   "cell_type": "code",
   "execution_count": 4,
   "id": "b69c5dc2",
   "metadata": {},
   "outputs": [],
   "source": [
    "s1 = {1,2,3,4,0,-2,2.0,9,8,4,\"Java\",\"PHP\"}"
   ]
  },
  {
   "cell_type": "code",
   "execution_count": 5,
   "id": "18ffd98b",
   "metadata": {},
   "outputs": [
    {
     "data": {
      "text/plain": [
       "{-2, 0, 1, 2, 3, 4, 8, 9, 'Java', 'PHP'}"
      ]
     },
     "execution_count": 5,
     "metadata": {},
     "output_type": "execute_result"
    }
   ],
   "source": [
    "s1"
   ]
  },
  {
   "cell_type": "code",
   "execution_count": 6,
   "id": "26a6442b",
   "metadata": {},
   "outputs": [],
   "source": [
    "s.add('Apple')"
   ]
  },
  {
   "cell_type": "code",
   "execution_count": 7,
   "id": "95f21b29",
   "metadata": {},
   "outputs": [
    {
     "data": {
      "text/plain": [
       "{-1,\n",
       " -2,\n",
       " -3,\n",
       " 0,\n",
       " 1,\n",
       " 2,\n",
       " 3,\n",
       " 4,\n",
       " 'Apple',\n",
       " 'Hello',\n",
       " 'Interest',\n",
       " 'My',\n",
       " 'in',\n",
       " 'is',\n",
       " 'python'}"
      ]
     },
     "execution_count": 7,
     "metadata": {},
     "output_type": "execute_result"
    }
   ],
   "source": [
    "s"
   ]
  },
  {
   "cell_type": "code",
   "execution_count": 8,
   "id": "e68fdee5",
   "metadata": {},
   "outputs": [],
   "source": [
    "s.remove('Apple')"
   ]
  },
  {
   "cell_type": "code",
   "execution_count": 9,
   "id": "82bcb228",
   "metadata": {},
   "outputs": [
    {
     "data": {
      "text/plain": [
       "{-1, -2, -3, 0, 1, 2, 3, 4, 'Hello', 'Interest', 'My', 'in', 'is', 'python'}"
      ]
     },
     "execution_count": 9,
     "metadata": {},
     "output_type": "execute_result"
    }
   ],
   "source": [
    "s"
   ]
  },
  {
   "cell_type": "code",
   "execution_count": 10,
   "id": "6742554a",
   "metadata": {},
   "outputs": [
    {
     "name": "stdout",
     "output_type": "stream",
     "text": [
      "0\n",
      "1\n",
      "2\n",
      "3\n",
      "4\n",
      "Hello\n",
      "My\n",
      "is\n",
      "python\n",
      "-2\n",
      "Interest\n",
      "in\n",
      "-3\n",
      "-1\n"
     ]
    }
   ],
   "source": [
    "for elem in s:\n",
    "    print(elem)"
   ]
  },
  {
   "cell_type": "code",
   "execution_count": 11,
   "id": "e4e0bc62",
   "metadata": {},
   "outputs": [
    {
     "data": {
      "text/plain": [
       "{-1,\n",
       " -2,\n",
       " -3,\n",
       " 0,\n",
       " 1,\n",
       " 2,\n",
       " 3,\n",
       " 4,\n",
       " 8,\n",
       " 9,\n",
       " 'Hello',\n",
       " 'Interest',\n",
       " 'Java',\n",
       " 'My',\n",
       " 'PHP',\n",
       " 'in',\n",
       " 'is',\n",
       " 'python'}"
      ]
     },
     "execution_count": 11,
     "metadata": {},
     "output_type": "execute_result"
    }
   ],
   "source": [
    "s.union(s1)"
   ]
  },
  {
   "cell_type": "code",
   "execution_count": 13,
   "id": "243380e5",
   "metadata": {},
   "outputs": [
    {
     "data": {
      "text/plain": [
       "{-2, 0, 1, 2, 3, 4}"
      ]
     },
     "execution_count": 13,
     "metadata": {},
     "output_type": "execute_result"
    }
   ],
   "source": [
    "s.intersection(s1)"
   ]
  },
  {
   "cell_type": "code",
   "execution_count": 14,
   "id": "f06dc153",
   "metadata": {},
   "outputs": [
    {
     "data": {
      "text/plain": [
       "{-1, -3, 'Hello', 'Interest', 'My', 'in', 'is', 'python'}"
      ]
     },
     "execution_count": 14,
     "metadata": {},
     "output_type": "execute_result"
    }
   ],
   "source": [
    "s.difference(s1)"
   ]
  },
  {
   "cell_type": "code",
   "execution_count": 17,
   "id": "3b58e4ec",
   "metadata": {},
   "outputs": [],
   "source": [
    "s.discard(11)"
   ]
  },
  {
   "cell_type": "code",
   "execution_count": 18,
   "id": "135718a9",
   "metadata": {},
   "outputs": [
    {
     "data": {
      "text/plain": [
       "{-1, -2, -3, 0, 1, 3, 4, 'Hello', 'Interest', 'My', 'in', 'is', 'python'}"
      ]
     },
     "execution_count": 18,
     "metadata": {},
     "output_type": "execute_result"
    }
   ],
   "source": [
    "s"
   ]
  },
  {
   "cell_type": "code",
   "execution_count": 19,
   "id": "17f30054",
   "metadata": {},
   "outputs": [
    {
     "ename": "KeyError",
     "evalue": "11",
     "output_type": "error",
     "traceback": [
      "\u001b[1;31m---------------------------------------------------------------------------\u001b[0m",
      "\u001b[1;31mKeyError\u001b[0m                                  Traceback (most recent call last)",
      "Cell \u001b[1;32mIn[19], line 1\u001b[0m\n\u001b[1;32m----> 1\u001b[0m \u001b[43ms\u001b[49m\u001b[38;5;241;43m.\u001b[39;49m\u001b[43mremove\u001b[49m\u001b[43m(\u001b[49m\u001b[38;5;241;43m11\u001b[39;49m\u001b[43m)\u001b[49m\n",
      "\u001b[1;31mKeyError\u001b[0m: 11"
     ]
    }
   ],
   "source": [
    "s.remove(11)"
   ]
  },
  {
   "cell_type": "code",
   "execution_count": 20,
   "id": "c7ca5a91",
   "metadata": {},
   "outputs": [
    {
     "data": {
      "text/plain": [
       "{-1,\n",
       " -3,\n",
       " 2,\n",
       " 8,\n",
       " 9,\n",
       " 'Hello',\n",
       " 'Interest',\n",
       " 'Java',\n",
       " 'My',\n",
       " 'PHP',\n",
       " 'in',\n",
       " 'is',\n",
       " 'python'}"
      ]
     },
     "execution_count": 20,
     "metadata": {},
     "output_type": "execute_result"
    }
   ],
   "source": [
    "s.symmetric_difference(s1)"
   ]
  },
  {
   "cell_type": "code",
   "execution_count": 21,
   "id": "883d3899",
   "metadata": {},
   "outputs": [],
   "source": [
    "A = {1,2,3,4,5}\n",
    "B = {3,4,5,6,7,8}"
   ]
  },
  {
   "cell_type": "code",
   "execution_count": 22,
   "id": "33f54428",
   "metadata": {},
   "outputs": [
    {
     "data": {
      "text/plain": [
       "{1, 2, 6, 7, 8}"
      ]
     },
     "execution_count": 22,
     "metadata": {},
     "output_type": "execute_result"
    }
   ],
   "source": [
    "A.symmetric_difference(B)"
   ]
  },
  {
   "cell_type": "code",
   "execution_count": 25,
   "id": "85b6d95a",
   "metadata": {},
   "outputs": [
    {
     "data": {
      "text/plain": [
       "{1, 2, 6, 7, 8}"
      ]
     },
     "execution_count": 25,
     "metadata": {},
     "output_type": "execute_result"
    }
   ],
   "source": [
    "B.symmetric_difference(A)"
   ]
  },
  {
   "cell_type": "code",
   "execution_count": 23,
   "id": "bb4492fb",
   "metadata": {},
   "outputs": [
    {
     "data": {
      "text/plain": [
       "{1, 2}"
      ]
     },
     "execution_count": 23,
     "metadata": {},
     "output_type": "execute_result"
    }
   ],
   "source": [
    "A.difference(B)"
   ]
  },
  {
   "cell_type": "code",
   "execution_count": 24,
   "id": "def8c77f",
   "metadata": {},
   "outputs": [
    {
     "data": {
      "text/plain": [
       "{6, 7, 8}"
      ]
     },
     "execution_count": 24,
     "metadata": {},
     "output_type": "execute_result"
    }
   ],
   "source": [
    "B.difference(A)"
   ]
  },
  {
   "cell_type": "code",
   "execution_count": 26,
   "id": "162d972e",
   "metadata": {},
   "outputs": [
    {
     "data": {
      "text/plain": [
       "False"
      ]
     },
     "execution_count": 26,
     "metadata": {},
     "output_type": "execute_result"
    }
   ],
   "source": [
    "A.issubset(B)"
   ]
  },
  {
   "cell_type": "code",
   "execution_count": 27,
   "id": "94148994",
   "metadata": {},
   "outputs": [],
   "source": [
    "C={1,2}"
   ]
  },
  {
   "cell_type": "code",
   "execution_count": 28,
   "id": "de135d48",
   "metadata": {},
   "outputs": [
    {
     "data": {
      "text/plain": [
       "False"
      ]
     },
     "execution_count": 28,
     "metadata": {},
     "output_type": "execute_result"
    }
   ],
   "source": [
    "A.issubset(C)"
   ]
  },
  {
   "cell_type": "code",
   "execution_count": 29,
   "id": "2023e104",
   "metadata": {},
   "outputs": [
    {
     "data": {
      "text/plain": [
       "True"
      ]
     },
     "execution_count": 29,
     "metadata": {},
     "output_type": "execute_result"
    }
   ],
   "source": [
    "C.issubset(A)"
   ]
  },
  {
   "cell_type": "code",
   "execution_count": 30,
   "id": "b1c73a5b",
   "metadata": {},
   "outputs": [
    {
     "data": {
      "text/plain": [
       "False"
      ]
     },
     "execution_count": 30,
     "metadata": {},
     "output_type": "execute_result"
    }
   ],
   "source": [
    "A.isdisjoint(B)"
   ]
  },
  {
   "cell_type": "code",
   "execution_count": 31,
   "id": "034ad762",
   "metadata": {},
   "outputs": [],
   "source": [
    "D = {9,0}"
   ]
  },
  {
   "cell_type": "code",
   "execution_count": 32,
   "id": "9d5ea42c",
   "metadata": {},
   "outputs": [
    {
     "data": {
      "text/plain": [
       "True"
      ]
     },
     "execution_count": 32,
     "metadata": {},
     "output_type": "execute_result"
    }
   ],
   "source": [
    "A.isdisjoint(D)"
   ]
  },
  {
   "cell_type": "code",
   "execution_count": 33,
   "id": "1a63cde3",
   "metadata": {},
   "outputs": [
    {
     "data": {
      "text/plain": [
       "set()"
      ]
     },
     "execution_count": 33,
     "metadata": {},
     "output_type": "execute_result"
    }
   ],
   "source": [
    "A.intersection(D)"
   ]
  },
  {
   "cell_type": "markdown",
   "id": "8541264d",
   "metadata": {},
   "source": [
    "## Dictionaries"
   ]
  },
  {
   "cell_type": "code",
   "execution_count": 34,
   "id": "a8f93409",
   "metadata": {},
   "outputs": [],
   "source": [
    "d = {'a':1,'b':2,'c':3}"
   ]
  },
  {
   "cell_type": "code",
   "execution_count": 35,
   "id": "69fd5f9a",
   "metadata": {},
   "outputs": [
    {
     "data": {
      "text/plain": [
       "{'a': 1, 'b': 2, 'c': 3}"
      ]
     },
     "execution_count": 35,
     "metadata": {},
     "output_type": "execute_result"
    }
   ],
   "source": [
    "d"
   ]
  },
  {
   "cell_type": "code",
   "execution_count": 36,
   "id": "ad46ca6e",
   "metadata": {},
   "outputs": [
    {
     "data": {
      "text/plain": [
       "dict"
      ]
     },
     "execution_count": 36,
     "metadata": {},
     "output_type": "execute_result"
    }
   ],
   "source": [
    "type(d)"
   ]
  },
  {
   "cell_type": "code",
   "execution_count": 41,
   "id": "21d06a7f",
   "metadata": {},
   "outputs": [],
   "source": [
    "fruits = {'apple':10,'banana':2,'grapes':3}"
   ]
  },
  {
   "cell_type": "code",
   "execution_count": 42,
   "id": "57d3ce40",
   "metadata": {},
   "outputs": [
    {
     "data": {
      "text/plain": [
       "{'apple': 10, 'banana': 2, 'grapes': 3}"
      ]
     },
     "execution_count": 42,
     "metadata": {},
     "output_type": "execute_result"
    }
   ],
   "source": [
    "fruits"
   ]
  },
  {
   "cell_type": "code",
   "execution_count": 43,
   "id": "1c03df9c",
   "metadata": {},
   "outputs": [
    {
     "data": {
      "text/plain": [
       "10"
      ]
     },
     "execution_count": 43,
     "metadata": {},
     "output_type": "execute_result"
    }
   ],
   "source": [
    "fruits['apple']"
   ]
  },
  {
   "cell_type": "code",
   "execution_count": 44,
   "id": "948e747a",
   "metadata": {},
   "outputs": [
    {
     "data": {
      "text/plain": [
       "3"
      ]
     },
     "execution_count": 44,
     "metadata": {},
     "output_type": "execute_result"
    }
   ],
   "source": [
    "fruits['grapes']"
   ]
  },
  {
   "cell_type": "code",
   "execution_count": 45,
   "id": "2a38c715",
   "metadata": {},
   "outputs": [
    {
     "data": {
      "text/plain": [
       "dict_keys(['apple', 'banana', 'grapes'])"
      ]
     },
     "execution_count": 45,
     "metadata": {},
     "output_type": "execute_result"
    }
   ],
   "source": [
    "fruits.keys()"
   ]
  },
  {
   "cell_type": "code",
   "execution_count": 46,
   "id": "0eb0e07b",
   "metadata": {},
   "outputs": [
    {
     "data": {
      "text/plain": [
       "dict_values([10, 2, 3])"
      ]
     },
     "execution_count": 46,
     "metadata": {},
     "output_type": "execute_result"
    }
   ],
   "source": [
    "fruits.values()"
   ]
  },
  {
   "cell_type": "code",
   "execution_count": 47,
   "id": "e90d96f8",
   "metadata": {},
   "outputs": [
    {
     "data": {
      "text/plain": [
       "dict_items([('apple', 10), ('banana', 2), ('grapes', 3)])"
      ]
     },
     "execution_count": 47,
     "metadata": {},
     "output_type": "execute_result"
    }
   ],
   "source": [
    "fruits.items()"
   ]
  },
  {
   "cell_type": "code",
   "execution_count": 48,
   "id": "38ef175b",
   "metadata": {},
   "outputs": [
    {
     "data": {
      "text/plain": [
       "3"
      ]
     },
     "execution_count": 48,
     "metadata": {},
     "output_type": "execute_result"
    }
   ],
   "source": [
    "len(fruits)"
   ]
  },
  {
   "cell_type": "code",
   "execution_count": 49,
   "id": "86453bbb",
   "metadata": {},
   "outputs": [
    {
     "name": "stdout",
     "output_type": "stream",
     "text": [
      "True\n"
     ]
    }
   ],
   "source": [
    "print('apple' in fruits) "
   ]
  },
  {
   "cell_type": "code",
   "execution_count": 52,
   "id": "371ab2de",
   "metadata": {},
   "outputs": [
    {
     "name": "stdout",
     "output_type": "stream",
     "text": [
      "10\n",
      "2\n",
      "3\n"
     ]
    }
   ],
   "source": [
    "for fruit in fruits.values():\n",
    "    print(fruit)"
   ]
  },
  {
   "cell_type": "code",
   "execution_count": 54,
   "id": "470072cc",
   "metadata": {},
   "outputs": [],
   "source": [
    "del fruits['banana']"
   ]
  },
  {
   "cell_type": "code",
   "execution_count": 55,
   "id": "3c430675",
   "metadata": {},
   "outputs": [
    {
     "data": {
      "text/plain": [
       "{'apple': 10, 'grapes': 3}"
      ]
     },
     "execution_count": 55,
     "metadata": {},
     "output_type": "execute_result"
    }
   ],
   "source": [
    "fruits"
   ]
  },
  {
   "cell_type": "code",
   "execution_count": 57,
   "id": "358f0ca6",
   "metadata": {},
   "outputs": [
    {
     "data": {
      "text/plain": [
       "10"
      ]
     },
     "execution_count": 57,
     "metadata": {},
     "output_type": "execute_result"
    }
   ],
   "source": [
    "fruits.pop('apple')"
   ]
  },
  {
   "cell_type": "code",
   "execution_count": 58,
   "id": "b02f183c",
   "metadata": {},
   "outputs": [
    {
     "data": {
      "text/plain": [
       "{'grapes': 3}"
      ]
     },
     "execution_count": 58,
     "metadata": {},
     "output_type": "execute_result"
    }
   ],
   "source": [
    "fruits"
   ]
  },
  {
   "cell_type": "code",
   "execution_count": 66,
   "id": "9eb72b6c",
   "metadata": {},
   "outputs": [],
   "source": [
    "fruits.update({'grapes':23,'orange':12})"
   ]
  },
  {
   "cell_type": "code",
   "execution_count": 67,
   "id": "588e3f3d",
   "metadata": {},
   "outputs": [
    {
     "data": {
      "text/plain": [
       "{'grapes': 23, 'orange': 12}"
      ]
     },
     "execution_count": 67,
     "metadata": {},
     "output_type": "execute_result"
    }
   ],
   "source": [
    "fruits"
   ]
  },
  {
   "cell_type": "code",
   "execution_count": 68,
   "id": "aecbe7b7",
   "metadata": {},
   "outputs": [
    {
     "data": {
      "text/plain": [
       "23"
      ]
     },
     "execution_count": 68,
     "metadata": {},
     "output_type": "execute_result"
    }
   ],
   "source": [
    "fruits.get('grapes')"
   ]
  },
  {
   "cell_type": "code",
   "execution_count": 71,
   "id": "74be73ed",
   "metadata": {},
   "outputs": [
    {
     "ename": "KeyError",
     "evalue": "'orange'",
     "output_type": "error",
     "traceback": [
      "\u001b[1;31m---------------------------------------------------------------------------\u001b[0m",
      "\u001b[1;31mKeyError\u001b[0m                                  Traceback (most recent call last)",
      "Cell \u001b[1;32mIn[71], line 1\u001b[0m\n\u001b[1;32m----> 1\u001b[0m \u001b[38;5;28;01mdel\u001b[39;00m  fruits[\u001b[38;5;124m'\u001b[39m\u001b[38;5;124mgrapes\u001b[39m\u001b[38;5;124m'\u001b[39m],\u001b[43mfruits\u001b[49m\u001b[43m[\u001b[49m\u001b[38;5;124;43m'\u001b[39;49m\u001b[38;5;124;43morange\u001b[39;49m\u001b[38;5;124;43m'\u001b[39;49m\u001b[43m]\u001b[49m\n",
      "\u001b[1;31mKeyError\u001b[0m: 'orange'"
     ]
    }
   ],
   "source": [
    "del  fruits['grapes'],fruits['orange']"
   ]
  },
  {
   "cell_type": "code",
   "execution_count": 72,
   "id": "310cfd8d",
   "metadata": {},
   "outputs": [
    {
     "data": {
      "text/plain": [
       "{}"
      ]
     },
     "execution_count": 72,
     "metadata": {},
     "output_type": "execute_result"
    }
   ],
   "source": [
    "fruits"
   ]
  },
  {
   "cell_type": "code",
   "execution_count": 73,
   "id": "4cd68166",
   "metadata": {},
   "outputs": [],
   "source": [
    "fruits.update({'kiwi':17,'SB':20})"
   ]
  },
  {
   "cell_type": "code",
   "execution_count": 74,
   "id": "a9420337",
   "metadata": {},
   "outputs": [
    {
     "data": {
      "text/plain": [
       "{'kiwi': 17, 'SB': 20}"
      ]
     },
     "execution_count": 74,
     "metadata": {},
     "output_type": "execute_result"
    }
   ],
   "source": [
    "fruits"
   ]
  },
  {
   "cell_type": "code",
   "execution_count": 75,
   "id": "25e5518a",
   "metadata": {},
   "outputs": [],
   "source": [
    "del fruits['kiwi'],fruits['SB']"
   ]
  },
  {
   "cell_type": "code",
   "execution_count": 76,
   "id": "5fef2544",
   "metadata": {},
   "outputs": [
    {
     "data": {
      "text/plain": [
       "{}"
      ]
     },
     "execution_count": 76,
     "metadata": {},
     "output_type": "execute_result"
    }
   ],
   "source": [
    "fruits"
   ]
  },
  {
   "cell_type": "code",
   "execution_count": 79,
   "id": "b131f7ef",
   "metadata": {},
   "outputs": [],
   "source": [
    "fruits.update({'kiwi':17,'SB':20,'Cherry':9})"
   ]
  },
  {
   "cell_type": "code",
   "execution_count": 80,
   "id": "c45b0ea9",
   "metadata": {},
   "outputs": [
    {
     "data": {
      "text/plain": [
       "{'kiwi': 17, 'SB': 20, 'Cherry': 9}"
      ]
     },
     "execution_count": 80,
     "metadata": {},
     "output_type": "execute_result"
    }
   ],
   "source": [
    "fruits"
   ]
  },
  {
   "cell_type": "code",
   "execution_count": 83,
   "id": "4fc415f4",
   "metadata": {},
   "outputs": [],
   "source": [
    "x = sorted(fruits)"
   ]
  },
  {
   "cell_type": "code",
   "execution_count": 84,
   "id": "e31ff8be",
   "metadata": {},
   "outputs": [
    {
     "data": {
      "text/plain": [
       "list"
      ]
     },
     "execution_count": 84,
     "metadata": {},
     "output_type": "execute_result"
    }
   ],
   "source": [
    "type(x)"
   ]
  },
  {
   "cell_type": "code",
   "execution_count": 86,
   "id": "0e2f43e3",
   "metadata": {},
   "outputs": [
    {
     "data": {
      "text/plain": [
       "{'kiwi': 17, 'SB': 20, 'Cherry': 9}"
      ]
     },
     "execution_count": 86,
     "metadata": {},
     "output_type": "execute_result"
    }
   ],
   "source": [
    "fruits"
   ]
  },
  {
   "cell_type": "code",
   "execution_count": 87,
   "id": "2ff687a0",
   "metadata": {},
   "outputs": [],
   "source": [
    "sorted_by_keys = dict(sorted(fruits.items()))"
   ]
  },
  {
   "cell_type": "code",
   "execution_count": 88,
   "id": "dff77872",
   "metadata": {},
   "outputs": [
    {
     "data": {
      "text/plain": [
       "{'Cherry': 9, 'SB': 20, 'kiwi': 17}"
      ]
     },
     "execution_count": 88,
     "metadata": {},
     "output_type": "execute_result"
    }
   ],
   "source": [
    "sorted_by_keys"
   ]
  },
  {
   "cell_type": "code",
   "execution_count": 91,
   "id": "d7deb2f4",
   "metadata": {},
   "outputs": [
    {
     "data": {
      "text/plain": [
       "[('Cherry', 9), ('SB', 20), ('kiwi', 17)]"
      ]
     },
     "execution_count": 91,
     "metadata": {},
     "output_type": "execute_result"
    }
   ],
   "source": [
    "sorted(fruits.items())"
   ]
  },
  {
   "cell_type": "code",
   "execution_count": 92,
   "id": "ee27c561",
   "metadata": {},
   "outputs": [],
   "source": [
    "keys = ['a','b','c']\n",
    "values = [1,2,3]"
   ]
  },
  {
   "cell_type": "code",
   "execution_count": 99,
   "id": "a92dd218",
   "metadata": {},
   "outputs": [
    {
     "data": {
      "text/plain": [
       "{'a': 1, 'b': 2, 'c': 3}"
      ]
     },
     "execution_count": 99,
     "metadata": {},
     "output_type": "execute_result"
    }
   ],
   "source": [
    "dict((zip(keys,values)))"
   ]
  },
  {
   "cell_type": "code",
   "execution_count": 110,
   "id": "812c2644",
   "metadata": {},
   "outputs": [],
   "source": [
    "fruits = ['apple','banana','apple','orange','banana','apple']"
   ]
  },
  {
   "cell_type": "code",
   "execution_count": 113,
   "id": "6028f7b9",
   "metadata": {},
   "outputs": [
    {
     "ename": "AttributeError",
     "evalue": "'int' object has no attribute 'get'",
     "output_type": "error",
     "traceback": [
      "\u001b[1;31m---------------------------------------------------------------------------\u001b[0m",
      "\u001b[1;31mAttributeError\u001b[0m                            Traceback (most recent call last)",
      "Cell \u001b[1;32mIn[113], line 4\u001b[0m\n\u001b[0;32m      1\u001b[0m fruit_Counts \u001b[38;5;241m=\u001b[39m {}\n\u001b[0;32m      3\u001b[0m \u001b[38;5;28;01mfor\u001b[39;00m fruit \u001b[38;5;129;01min\u001b[39;00m fruits:\n\u001b[1;32m----> 4\u001b[0m     fruit_Counts \u001b[38;5;241m=\u001b[39m \u001b[43mfruit_Counts\u001b[49m\u001b[38;5;241;43m.\u001b[39;49m\u001b[43mget\u001b[49m(fruit,\u001b[38;5;241m0\u001b[39m)\u001b[38;5;241m+\u001b[39m\u001b[38;5;241m1\u001b[39m\n\u001b[0;32m      6\u001b[0m \u001b[38;5;28mprint\u001b[39m(fruit_Counts)\n",
      "\u001b[1;31mAttributeError\u001b[0m: 'int' object has no attribute 'get'"
     ]
    }
   ],
   "source": [
    "fruit_Counts = {}\n",
    "\n",
    "for fruit in fruits:\n",
    "    fruit_Counts[fruit] = fruit_Counts.get(fruit,0)+1\n",
    "    \n",
    "print(fruit_Counts)"
   ]
  },
  {
   "cell_type": "code",
   "execution_count": 108,
   "id": "8319586f",
   "metadata": {},
   "outputs": [],
   "source": [
    "fruit_Counts.get(fruit)"
   ]
  },
  {
   "cell_type": "code",
   "execution_count": null,
   "id": "8cadcd02",
   "metadata": {},
   "outputs": [],
   "source": []
  }
 ],
 "metadata": {
  "kernelspec": {
   "display_name": "Python 3 (ipykernel)",
   "language": "python",
   "name": "python3"
  },
  "language_info": {
   "codemirror_mode": {
    "name": "ipython",
    "version": 3
   },
   "file_extension": ".py",
   "mimetype": "text/x-python",
   "name": "python",
   "nbconvert_exporter": "python",
   "pygments_lexer": "ipython3",
   "version": "3.11.3"
  }
 },
 "nbformat": 4,
 "nbformat_minor": 5
}
