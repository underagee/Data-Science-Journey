{
 "cells": [
  {
   "cell_type": "markdown",
   "id": "29d7d80b",
   "metadata": {},
   "source": [
    "Write a code to find the list of uncommon words from the two strings given in the input.\n",
    "Ex: A = \" Hey, there! Maryland is Beautiful\"\n",
    "      B = \" Beautiful things are awesome\"\n",
    "        "
   ]
  },
  {
   "cell_type": "code",
   "execution_count": 1,
   "id": "017fe1bd",
   "metadata": {},
   "outputs": [],
   "source": [
    "A = \"today is saturday\"\n",
    "B = \"saturday is a weekend\""
   ]
  },
  {
   "cell_type": "code",
   "execution_count": 2,
   "id": "086d5ff2",
   "metadata": {},
   "outputs": [
    {
     "data": {
      "text/plain": [
       "['today', 'is', 'saturday']"
      ]
     },
     "execution_count": 2,
     "metadata": {},
     "output_type": "execute_result"
    }
   ],
   "source": [
    "A.split()"
   ]
  },
  {
   "cell_type": "code",
   "execution_count": 3,
   "id": "420ccbf6",
   "metadata": {},
   "outputs": [
    {
     "data": {
      "text/plain": [
       "['saturday', 'is', 'a', 'weekend']"
      ]
     },
     "execution_count": 3,
     "metadata": {},
     "output_type": "execute_result"
    }
   ],
   "source": [
    "B.split()"
   ]
  },
  {
   "cell_type": "code",
   "execution_count": 4,
   "id": "b43aec04",
   "metadata": {},
   "outputs": [],
   "source": [
    "A_split = set(A.split())"
   ]
  },
  {
   "cell_type": "code",
   "execution_count": 5,
   "id": "346fdd91",
   "metadata": {},
   "outputs": [],
   "source": [
    "B_split = set(B.split())"
   ]
  },
  {
   "cell_type": "code",
   "execution_count": 6,
   "id": "37430fb4",
   "metadata": {},
   "outputs": [
    {
     "data": {
      "text/plain": [
       "({'is', 'saturday', 'today'}, {'a', 'is', 'saturday', 'weekend'})"
      ]
     },
     "execution_count": 6,
     "metadata": {},
     "output_type": "execute_result"
    }
   ],
   "source": [
    "A_split,B_split"
   ]
  },
  {
   "cell_type": "code",
   "execution_count": 7,
   "id": "a3b94818",
   "metadata": {},
   "outputs": [
    {
     "data": {
      "text/plain": [
       "{'a', 'today', 'weekend'}"
      ]
     },
     "execution_count": 7,
     "metadata": {},
     "output_type": "execute_result"
    }
   ],
   "source": [
    "A_split.symmetric_difference(B_split)"
   ]
  },
  {
   "cell_type": "code",
   "execution_count": 8,
   "id": "07394484",
   "metadata": {},
   "outputs": [
    {
     "data": {
      "text/plain": [
       "['weekend', 'today', 'a']"
      ]
     },
     "execution_count": 8,
     "metadata": {},
     "output_type": "execute_result"
    }
   ],
   "source": [
    "list(A_split.symmetric_difference(B_split))"
   ]
  },
  {
   "cell_type": "markdown",
   "id": "ac7661b2",
   "metadata": {},
   "source": [
    "Given a string and a pattern, find the starting indices of all occurrences of the pattern in the string. For example, given the string \"abracadabra\" and the pattern \"abr\", you should return [0, 7]."
   ]
  },
  {
   "cell_type": "code",
   "execution_count": 9,
   "id": "ee236edd",
   "metadata": {},
   "outputs": [],
   "source": [
    "S = \"abracadabra\""
   ]
  },
  {
   "cell_type": "code",
   "execution_count": 10,
   "id": "f3e04ec3",
   "metadata": {},
   "outputs": [],
   "source": [
    "Pattern = \"abr\""
   ]
  },
  {
   "cell_type": "code",
   "execution_count": 12,
   "id": "65e67b3d",
   "metadata": {},
   "outputs": [],
   "source": [
    "S_len = len(S)\n",
    "Pat_len = len(Pattern)\n"
   ]
  },
  {
   "cell_type": "code",
   "execution_count": 18,
   "id": "98782593",
   "metadata": {},
   "outputs": [],
   "source": [
    "li = []"
   ]
  },
  {
   "cell_type": "code",
   "execution_count": 13,
   "id": "141a6b4f",
   "metadata": {},
   "outputs": [
    {
     "data": {
      "text/plain": [
       "11"
      ]
     },
     "execution_count": 13,
     "metadata": {},
     "output_type": "execute_result"
    }
   ],
   "source": [
    "S_len"
   ]
  },
  {
   "cell_type": "code",
   "execution_count": 14,
   "id": "2c7b2389",
   "metadata": {},
   "outputs": [
    {
     "data": {
      "text/plain": [
       "3"
      ]
     },
     "execution_count": 14,
     "metadata": {},
     "output_type": "execute_result"
    }
   ],
   "source": [
    "Pat_len"
   ]
  },
  {
   "cell_type": "code",
   "execution_count": 19,
   "id": "7d17caf4",
   "metadata": {},
   "outputs": [],
   "source": [
    "for i in range(S_len):\n",
    "    if S[i:i+Pat_len]==Pattern:\n",
    "        li.append(i)"
   ]
  },
  {
   "cell_type": "code",
   "execution_count": 20,
   "id": "ac1ae671",
   "metadata": {},
   "outputs": [
    {
     "data": {
      "text/plain": [
       "[0, 7]"
      ]
     },
     "execution_count": 20,
     "metadata": {},
     "output_type": "execute_result"
    }
   ],
   "source": [
    "li"
   ]
  },
  {
   "cell_type": "markdown",
   "id": "936ddc74",
   "metadata": {},
   "source": [
    "Given a list of numbers, create an algorithm that arranges them in order to form the largest possible integer. For example, given [10, 7, 76, 415], you should return 77641510."
   ]
  },
  {
   "cell_type": "code",
   "execution_count": 23,
   "id": "4af9a643",
   "metadata": {},
   "outputs": [
    {
     "name": "stdout",
     "output_type": "stream",
     "text": [
      "76741510\n"
     ]
    }
   ],
   "source": [
    "def largest(nums):\n",
    "    nums = [str(num) for num in nums]\n",
    "    nums.sort(reverse=True)\n",
    "    largestint = \"\".join(nums)\n",
    "    return largestint\n",
    "num = [10, 7, 76, 415]\n",
    "result = largest(num)\n",
    "print(result)"
   ]
  },
  {
   "cell_type": "code",
   "execution_count": null,
   "id": "0a2723ca",
   "metadata": {},
   "outputs": [],
   "source": []
  }
 ],
 "metadata": {
  "kernelspec": {
   "display_name": "Python 3 (ipykernel)",
   "language": "python",
   "name": "python3"
  },
  "language_info": {
   "codemirror_mode": {
    "name": "ipython",
    "version": 3
   },
   "file_extension": ".py",
   "mimetype": "text/x-python",
   "name": "python",
   "nbconvert_exporter": "python",
   "pygments_lexer": "ipython3",
   "version": "3.9.13"
  }
 },
 "nbformat": 4,
 "nbformat_minor": 5
}
